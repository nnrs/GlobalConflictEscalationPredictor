{
 "cells": [
  {
   "cell_type": "markdown",
   "id": "0308faf0",
   "metadata": {},
   "source": [
    "# PROJECT ASSIGNMENT #2\n",
    "### GROUP MEMBERS: Hannah Seow, Sophia Porter, Neil Chen, Will Wang"
   ]
  },
  {
   "cell_type": "code",
   "execution_count": 20,
   "id": "dcd22d32",
   "metadata": {},
   "outputs": [
    {
     "data": {
      "text/html": [
       "<div>\n",
       "<style scoped>\n",
       "    .dataframe tbody tr th:only-of-type {\n",
       "        vertical-align: middle;\n",
       "    }\n",
       "\n",
       "    .dataframe tbody tr th {\n",
       "        vertical-align: top;\n",
       "    }\n",
       "\n",
       "    .dataframe thead th {\n",
       "        text-align: right;\n",
       "    }\n",
       "</style>\n",
       "<table border=\"1\" class=\"dataframe\">\n",
       "  <thead>\n",
       "    <tr style=\"text-align: right;\">\n",
       "      <th></th>\n",
       "      <th>Unnamed: 0</th>\n",
       "      <th>sowc_demographics__population-thousands-2021_total</th>\n",
       "      <th>sowc_demographics__population-thousands-2021_under-18</th>\n",
       "      <th>sowc_demographics__population-thousands-2021_under-5</th>\n",
       "      <th>sowc_demographics__annual-population-growth-rate_2000-2020</th>\n",
       "      <th>sowc_demographics__annual-population-growth-rate_2020-2030-a</th>\n",
       "      <th>sowc_demographics__annual-number-of-births-thousands-2021_2020-2030-a</th>\n",
       "      <th>sowc_demographics__total-fertility-live-births-per-woman-2021_2020-2030-a</th>\n",
       "      <th>sowc_demographics__life-expectancy-at-birth-years_1970</th>\n",
       "      <th>sowc_demographics__life-expectancy-at-birth-years_2000-0</th>\n",
       "      <th>...</th>\n",
       "      <th>fsi_e3:_human_flight_and_brain_drain</th>\n",
       "      <th>fsi_e2:_economic_inequality</th>\n",
       "      <th>fsi_e1:_economy</th>\n",
       "      <th>fsi_p1:_state_legitimacy</th>\n",
       "      <th>fsi_p2:_public_services</th>\n",
       "      <th>fsi_p3:_human_rights</th>\n",
       "      <th>fsi_c1:_security_apparatus</th>\n",
       "      <th>fsi_c2:_factionalized_elites</th>\n",
       "      <th>fsi_x1:_external_intervention</th>\n",
       "      <th>fsi_category</th>\n",
       "    </tr>\n",
       "  </thead>\n",
       "  <tbody>\n",
       "    <tr>\n",
       "      <th>0</th>\n",
       "      <td>0</td>\n",
       "      <td>40099.4620</td>\n",
       "      <td>20297.8860</td>\n",
       "      <td>6490.5540</td>\n",
       "      <td>3.286824</td>\n",
       "      <td>2.325169</td>\n",
       "      <td>1440.941</td>\n",
       "      <td>4.6434</td>\n",
       "      <td>37.4178</td>\n",
       "      <td>55.2978</td>\n",
       "      <td>...</td>\n",
       "      <td>8.5</td>\n",
       "      <td>8.2</td>\n",
       "      <td>9.6</td>\n",
       "      <td>9.4</td>\n",
       "      <td>10.0</td>\n",
       "      <td>8.7</td>\n",
       "      <td>9.7</td>\n",
       "      <td>8.7</td>\n",
       "      <td>7.7</td>\n",
       "      <td>Alert</td>\n",
       "    </tr>\n",
       "    <tr>\n",
       "      <th>1</th>\n",
       "      <td>1</td>\n",
       "      <td>2854.7100</td>\n",
       "      <td>574.3875</td>\n",
       "      <td>141.3930</td>\n",
       "      <td>0.496681</td>\n",
       "      <td>0.248324</td>\n",
       "      <td>29.289</td>\n",
       "      <td>1.3897</td>\n",
       "      <td>64.8239</td>\n",
       "      <td>75.4043</td>\n",
       "      <td>...</td>\n",
       "      <td>8.5</td>\n",
       "      <td>2.9</td>\n",
       "      <td>6.1</td>\n",
       "      <td>5.0</td>\n",
       "      <td>3.8</td>\n",
       "      <td>3.6</td>\n",
       "      <td>4.8</td>\n",
       "      <td>6.2</td>\n",
       "      <td>5.5</td>\n",
       "      <td>Stable</td>\n",
       "    </tr>\n",
       "    <tr>\n",
       "      <th>2</th>\n",
       "      <td>2</td>\n",
       "      <td>44177.9685</td>\n",
       "      <td>15526.2050</td>\n",
       "      <td>4870.8425</td>\n",
       "      <td>1.642661</td>\n",
       "      <td>1.237367</td>\n",
       "      <td>950.888</td>\n",
       "      <td>2.8886</td>\n",
       "      <td>43.1597</td>\n",
       "      <td>70.4779</td>\n",
       "      <td>...</td>\n",
       "      <td>5.1</td>\n",
       "      <td>5.2</td>\n",
       "      <td>6.2</td>\n",
       "      <td>7.6</td>\n",
       "      <td>5.0</td>\n",
       "      <td>6.9</td>\n",
       "      <td>5.8</td>\n",
       "      <td>6.9</td>\n",
       "      <td>3.1</td>\n",
       "      <td>Warning</td>\n",
       "    </tr>\n",
       "    <tr>\n",
       "      <th>3</th>\n",
       "      <td>3</td>\n",
       "      <td>79.0340</td>\n",
       "      <td>12.7765</td>\n",
       "      <td>2.5385</td>\n",
       "      <td>0.770116</td>\n",
       "      <td>0.437249</td>\n",
       "      <td>0.567</td>\n",
       "      <td>1.1254</td>\n",
       "      <td>74.2557</td>\n",
       "      <td>80.9193</td>\n",
       "      <td>...</td>\n",
       "      <td>NaN</td>\n",
       "      <td>NaN</td>\n",
       "      <td>NaN</td>\n",
       "      <td>NaN</td>\n",
       "      <td>NaN</td>\n",
       "      <td>NaN</td>\n",
       "      <td>NaN</td>\n",
       "      <td>NaN</td>\n",
       "      <td>NaN</td>\n",
       "      <td>NaN</td>\n",
       "    </tr>\n",
       "    <tr>\n",
       "      <th>4</th>\n",
       "      <td>4</td>\n",
       "      <td>34503.7735</td>\n",
       "      <td>17832.9760</td>\n",
       "      <td>5983.4065</td>\n",
       "      <td>3.392806</td>\n",
       "      <td>2.684447</td>\n",
       "      <td>1338.792</td>\n",
       "      <td>5.3044</td>\n",
       "      <td>40.1904</td>\n",
       "      <td>46.0236</td>\n",
       "      <td>...</td>\n",
       "      <td>5.6</td>\n",
       "      <td>8.8</td>\n",
       "      <td>8.2</td>\n",
       "      <td>8.1</td>\n",
       "      <td>8.8</td>\n",
       "      <td>6.3</td>\n",
       "      <td>6.6</td>\n",
       "      <td>7.2</td>\n",
       "      <td>4.0</td>\n",
       "      <td>Warning</td>\n",
       "    </tr>\n",
       "    <tr>\n",
       "      <th>...</th>\n",
       "      <td>...</td>\n",
       "      <td>...</td>\n",
       "      <td>...</td>\n",
       "      <td>...</td>\n",
       "      <td>...</td>\n",
       "      <td>...</td>\n",
       "      <td>...</td>\n",
       "      <td>...</td>\n",
       "      <td>...</td>\n",
       "      <td>...</td>\n",
       "      <td>...</td>\n",
       "      <td>...</td>\n",
       "      <td>...</td>\n",
       "      <td>...</td>\n",
       "      <td>...</td>\n",
       "      <td>...</td>\n",
       "      <td>...</td>\n",
       "      <td>...</td>\n",
       "      <td>...</td>\n",
       "      <td>...</td>\n",
       "      <td>...</td>\n",
       "    </tr>\n",
       "    <tr>\n",
       "      <th>213</th>\n",
       "      <td>213</td>\n",
       "      <td>NaN</td>\n",
       "      <td>NaN</td>\n",
       "      <td>NaN</td>\n",
       "      <td>NaN</td>\n",
       "      <td>NaN</td>\n",
       "      <td>NaN</td>\n",
       "      <td>NaN</td>\n",
       "      <td>NaN</td>\n",
       "      <td>NaN</td>\n",
       "      <td>...</td>\n",
       "      <td>NaN</td>\n",
       "      <td>NaN</td>\n",
       "      <td>NaN</td>\n",
       "      <td>NaN</td>\n",
       "      <td>NaN</td>\n",
       "      <td>NaN</td>\n",
       "      <td>NaN</td>\n",
       "      <td>NaN</td>\n",
       "      <td>NaN</td>\n",
       "      <td>NaN</td>\n",
       "    </tr>\n",
       "    <tr>\n",
       "      <th>214</th>\n",
       "      <td>214</td>\n",
       "      <td>NaN</td>\n",
       "      <td>NaN</td>\n",
       "      <td>NaN</td>\n",
       "      <td>NaN</td>\n",
       "      <td>NaN</td>\n",
       "      <td>NaN</td>\n",
       "      <td>NaN</td>\n",
       "      <td>NaN</td>\n",
       "      <td>NaN</td>\n",
       "      <td>...</td>\n",
       "      <td>NaN</td>\n",
       "      <td>NaN</td>\n",
       "      <td>NaN</td>\n",
       "      <td>NaN</td>\n",
       "      <td>NaN</td>\n",
       "      <td>NaN</td>\n",
       "      <td>NaN</td>\n",
       "      <td>NaN</td>\n",
       "      <td>NaN</td>\n",
       "      <td>NaN</td>\n",
       "    </tr>\n",
       "    <tr>\n",
       "      <th>215</th>\n",
       "      <td>215</td>\n",
       "      <td>NaN</td>\n",
       "      <td>NaN</td>\n",
       "      <td>NaN</td>\n",
       "      <td>NaN</td>\n",
       "      <td>NaN</td>\n",
       "      <td>NaN</td>\n",
       "      <td>NaN</td>\n",
       "      <td>NaN</td>\n",
       "      <td>NaN</td>\n",
       "      <td>...</td>\n",
       "      <td>NaN</td>\n",
       "      <td>NaN</td>\n",
       "      <td>NaN</td>\n",
       "      <td>NaN</td>\n",
       "      <td>NaN</td>\n",
       "      <td>NaN</td>\n",
       "      <td>NaN</td>\n",
       "      <td>NaN</td>\n",
       "      <td>NaN</td>\n",
       "      <td>NaN</td>\n",
       "    </tr>\n",
       "    <tr>\n",
       "      <th>216</th>\n",
       "      <td>216</td>\n",
       "      <td>NaN</td>\n",
       "      <td>NaN</td>\n",
       "      <td>NaN</td>\n",
       "      <td>NaN</td>\n",
       "      <td>NaN</td>\n",
       "      <td>NaN</td>\n",
       "      <td>NaN</td>\n",
       "      <td>NaN</td>\n",
       "      <td>NaN</td>\n",
       "      <td>...</td>\n",
       "      <td>NaN</td>\n",
       "      <td>NaN</td>\n",
       "      <td>NaN</td>\n",
       "      <td>NaN</td>\n",
       "      <td>NaN</td>\n",
       "      <td>NaN</td>\n",
       "      <td>NaN</td>\n",
       "      <td>NaN</td>\n",
       "      <td>NaN</td>\n",
       "      <td>NaN</td>\n",
       "    </tr>\n",
       "    <tr>\n",
       "      <th>217</th>\n",
       "      <td>217</td>\n",
       "      <td>NaN</td>\n",
       "      <td>NaN</td>\n",
       "      <td>NaN</td>\n",
       "      <td>NaN</td>\n",
       "      <td>NaN</td>\n",
       "      <td>NaN</td>\n",
       "      <td>NaN</td>\n",
       "      <td>NaN</td>\n",
       "      <td>NaN</td>\n",
       "      <td>...</td>\n",
       "      <td>NaN</td>\n",
       "      <td>NaN</td>\n",
       "      <td>NaN</td>\n",
       "      <td>NaN</td>\n",
       "      <td>NaN</td>\n",
       "      <td>NaN</td>\n",
       "      <td>NaN</td>\n",
       "      <td>NaN</td>\n",
       "      <td>NaN</td>\n",
       "      <td>NaN</td>\n",
       "    </tr>\n",
       "  </tbody>\n",
       "</table>\n",
       "<p>218 rows × 1332 columns</p>\n",
       "</div>"
      ],
      "text/plain": [
       "     Unnamed: 0  sowc_demographics__population-thousands-2021_total  \\\n",
       "0             0                                         40099.4620    \n",
       "1             1                                          2854.7100    \n",
       "2             2                                         44177.9685    \n",
       "3             3                                            79.0340    \n",
       "4             4                                         34503.7735    \n",
       "..          ...                                                ...    \n",
       "213         213                                                NaN    \n",
       "214         214                                                NaN    \n",
       "215         215                                                NaN    \n",
       "216         216                                                NaN    \n",
       "217         217                                                NaN    \n",
       "\n",
       "     sowc_demographics__population-thousands-2021_under-18  \\\n",
       "0                                           20297.8860       \n",
       "1                                             574.3875       \n",
       "2                                           15526.2050       \n",
       "3                                              12.7765       \n",
       "4                                           17832.9760       \n",
       "..                                                 ...       \n",
       "213                                                NaN       \n",
       "214                                                NaN       \n",
       "215                                                NaN       \n",
       "216                                                NaN       \n",
       "217                                                NaN       \n",
       "\n",
       "     sowc_demographics__population-thousands-2021_under-5  \\\n",
       "0                                            6490.5540      \n",
       "1                                             141.3930      \n",
       "2                                            4870.8425      \n",
       "3                                               2.5385      \n",
       "4                                            5983.4065      \n",
       "..                                                 ...      \n",
       "213                                                NaN      \n",
       "214                                                NaN      \n",
       "215                                                NaN      \n",
       "216                                                NaN      \n",
       "217                                                NaN      \n",
       "\n",
       "     sowc_demographics__annual-population-growth-rate_2000-2020  \\\n",
       "0                                             3.286824            \n",
       "1                                             0.496681            \n",
       "2                                             1.642661            \n",
       "3                                             0.770116            \n",
       "4                                             3.392806            \n",
       "..                                                 ...            \n",
       "213                                                NaN            \n",
       "214                                                NaN            \n",
       "215                                                NaN            \n",
       "216                                                NaN            \n",
       "217                                                NaN            \n",
       "\n",
       "     sowc_demographics__annual-population-growth-rate_2020-2030-a  \\\n",
       "0                                             2.325169              \n",
       "1                                             0.248324              \n",
       "2                                             1.237367              \n",
       "3                                             0.437249              \n",
       "4                                             2.684447              \n",
       "..                                                 ...              \n",
       "213                                                NaN              \n",
       "214                                                NaN              \n",
       "215                                                NaN              \n",
       "216                                                NaN              \n",
       "217                                                NaN              \n",
       "\n",
       "     sowc_demographics__annual-number-of-births-thousands-2021_2020-2030-a  \\\n",
       "0                                             1440.941                       \n",
       "1                                               29.289                       \n",
       "2                                              950.888                       \n",
       "3                                                0.567                       \n",
       "4                                             1338.792                       \n",
       "..                                                 ...                       \n",
       "213                                                NaN                       \n",
       "214                                                NaN                       \n",
       "215                                                NaN                       \n",
       "216                                                NaN                       \n",
       "217                                                NaN                       \n",
       "\n",
       "     sowc_demographics__total-fertility-live-births-per-woman-2021_2020-2030-a  \\\n",
       "0                                               4.6434                           \n",
       "1                                               1.3897                           \n",
       "2                                               2.8886                           \n",
       "3                                               1.1254                           \n",
       "4                                               5.3044                           \n",
       "..                                                 ...                           \n",
       "213                                                NaN                           \n",
       "214                                                NaN                           \n",
       "215                                                NaN                           \n",
       "216                                                NaN                           \n",
       "217                                                NaN                           \n",
       "\n",
       "     sowc_demographics__life-expectancy-at-birth-years_1970  \\\n",
       "0                                              37.4178        \n",
       "1                                              64.8239        \n",
       "2                                              43.1597        \n",
       "3                                              74.2557        \n",
       "4                                              40.1904        \n",
       "..                                                 ...        \n",
       "213                                                NaN        \n",
       "214                                                NaN        \n",
       "215                                                NaN        \n",
       "216                                                NaN        \n",
       "217                                                NaN        \n",
       "\n",
       "     sowc_demographics__life-expectancy-at-birth-years_2000-0  ...  \\\n",
       "0                                              55.2978         ...   \n",
       "1                                              75.4043         ...   \n",
       "2                                              70.4779         ...   \n",
       "3                                              80.9193         ...   \n",
       "4                                              46.0236         ...   \n",
       "..                                                 ...         ...   \n",
       "213                                                NaN         ...   \n",
       "214                                                NaN         ...   \n",
       "215                                                NaN         ...   \n",
       "216                                                NaN         ...   \n",
       "217                                                NaN         ...   \n",
       "\n",
       "     fsi_e3:_human_flight_and_brain_drain  fsi_e2:_economic_inequality  \\\n",
       "0                                     8.5                          8.2   \n",
       "1                                     8.5                          2.9   \n",
       "2                                     5.1                          5.2   \n",
       "3                                     NaN                          NaN   \n",
       "4                                     5.6                          8.8   \n",
       "..                                    ...                          ...   \n",
       "213                                   NaN                          NaN   \n",
       "214                                   NaN                          NaN   \n",
       "215                                   NaN                          NaN   \n",
       "216                                   NaN                          NaN   \n",
       "217                                   NaN                          NaN   \n",
       "\n",
       "     fsi_e1:_economy  fsi_p1:_state_legitimacy  fsi_p2:_public_services  \\\n",
       "0                9.6                       9.4                     10.0   \n",
       "1                6.1                       5.0                      3.8   \n",
       "2                6.2                       7.6                      5.0   \n",
       "3                NaN                       NaN                      NaN   \n",
       "4                8.2                       8.1                      8.8   \n",
       "..               ...                       ...                      ...   \n",
       "213              NaN                       NaN                      NaN   \n",
       "214              NaN                       NaN                      NaN   \n",
       "215              NaN                       NaN                      NaN   \n",
       "216              NaN                       NaN                      NaN   \n",
       "217              NaN                       NaN                      NaN   \n",
       "\n",
       "     fsi_p3:_human_rights  fsi_c1:_security_apparatus  \\\n",
       "0                     8.7                         9.7   \n",
       "1                     3.6                         4.8   \n",
       "2                     6.9                         5.8   \n",
       "3                     NaN                         NaN   \n",
       "4                     6.3                         6.6   \n",
       "..                    ...                         ...   \n",
       "213                   NaN                         NaN   \n",
       "214                   NaN                         NaN   \n",
       "215                   NaN                         NaN   \n",
       "216                   NaN                         NaN   \n",
       "217                   NaN                         NaN   \n",
       "\n",
       "     fsi_c2:_factionalized_elites  fsi_x1:_external_intervention  fsi_category  \n",
       "0                             8.7                            7.7         Alert  \n",
       "1                             6.2                            5.5        Stable  \n",
       "2                             6.9                            3.1       Warning  \n",
       "3                             NaN                            NaN           NaN  \n",
       "4                             7.2                            4.0       Warning  \n",
       "..                            ...                            ...           ...  \n",
       "213                           NaN                            NaN           NaN  \n",
       "214                           NaN                            NaN           NaN  \n",
       "215                           NaN                            NaN           NaN  \n",
       "216                           NaN                            NaN           NaN  \n",
       "217                           NaN                            NaN           NaN  \n",
       "\n",
       "[218 rows x 1332 columns]"
      ]
     },
     "execution_count": 20,
     "metadata": {},
     "output_type": "execute_result"
    }
   ],
   "source": [
    "import pandas as pd\n",
    "import numpy as np\n",
    "df_indicators = pd.read_csv('country_indicators.csv')\n",
    "df_indicators"
   ]
  },
  {
   "cell_type": "code",
   "execution_count": 21,
   "id": "018e0f3f",
   "metadata": {},
   "outputs": [
    {
     "data": {
      "text/html": [
       "<div>\n",
       "<style scoped>\n",
       "    .dataframe tbody tr th:only-of-type {\n",
       "        vertical-align: middle;\n",
       "    }\n",
       "\n",
       "    .dataframe tbody tr th {\n",
       "        vertical-align: top;\n",
       "    }\n",
       "\n",
       "    .dataframe thead th {\n",
       "        text-align: right;\n",
       "    }\n",
       "</style>\n",
       "<table border=\"1\" class=\"dataframe\">\n",
       "  <thead>\n",
       "    <tr style=\"text-align: right;\">\n",
       "      <th></th>\n",
       "      <th>yearmonth</th>\n",
       "      <th>fips</th>\n",
       "      <th>y_pred_transformer</th>\n",
       "      <th>y_pred_proba_transformer</th>\n",
       "      <th>y_true_transformer</th>\n",
       "      <th>y_pred_xgboost</th>\n",
       "      <th>y_pred_proba_xgboost</th>\n",
       "      <th>y_true_xgboost</th>\n",
       "      <th>y_pred_ffnn</th>\n",
       "      <th>y_pred_proba_ffnn</th>\n",
       "      <th>y_true_ffnn</th>\n",
       "      <th>iso3</th>\n",
       "    </tr>\n",
       "  </thead>\n",
       "  <tbody>\n",
       "    <tr>\n",
       "      <th>0</th>\n",
       "      <td>202211</td>\n",
       "      <td>FJ</td>\n",
       "      <td>False</td>\n",
       "      <td>0.183897</td>\n",
       "      <td>False</td>\n",
       "      <td>False</td>\n",
       "      <td>0.066500</td>\n",
       "      <td>False</td>\n",
       "      <td>False</td>\n",
       "      <td>0.409958</td>\n",
       "      <td>False</td>\n",
       "      <td>FJI</td>\n",
       "    </tr>\n",
       "    <tr>\n",
       "      <th>1</th>\n",
       "      <td>202212</td>\n",
       "      <td>FJ</td>\n",
       "      <td>False</td>\n",
       "      <td>0.267831</td>\n",
       "      <td>False</td>\n",
       "      <td>False</td>\n",
       "      <td>0.099643</td>\n",
       "      <td>False</td>\n",
       "      <td>False</td>\n",
       "      <td>0.406696</td>\n",
       "      <td>False</td>\n",
       "      <td>FJI</td>\n",
       "    </tr>\n",
       "    <tr>\n",
       "      <th>2</th>\n",
       "      <td>202211</td>\n",
       "      <td>TZ</td>\n",
       "      <td>False</td>\n",
       "      <td>0.482585</td>\n",
       "      <td>False</td>\n",
       "      <td>True</td>\n",
       "      <td>0.704086</td>\n",
       "      <td>True</td>\n",
       "      <td>True</td>\n",
       "      <td>0.545236</td>\n",
       "      <td>False</td>\n",
       "      <td>TZA</td>\n",
       "    </tr>\n",
       "    <tr>\n",
       "      <th>3</th>\n",
       "      <td>202212</td>\n",
       "      <td>TZ</td>\n",
       "      <td>False</td>\n",
       "      <td>0.187792</td>\n",
       "      <td>False</td>\n",
       "      <td>True</td>\n",
       "      <td>0.638444</td>\n",
       "      <td>True</td>\n",
       "      <td>True</td>\n",
       "      <td>0.534560</td>\n",
       "      <td>False</td>\n",
       "      <td>TZA</td>\n",
       "    </tr>\n",
       "    <tr>\n",
       "      <th>4</th>\n",
       "      <td>202301</td>\n",
       "      <td>TZ</td>\n",
       "      <td>True</td>\n",
       "      <td>0.539319</td>\n",
       "      <td>True</td>\n",
       "      <td>True</td>\n",
       "      <td>0.608380</td>\n",
       "      <td>False</td>\n",
       "      <td>True</td>\n",
       "      <td>0.538583</td>\n",
       "      <td>True</td>\n",
       "      <td>TZA</td>\n",
       "    </tr>\n",
       "    <tr>\n",
       "      <th>...</th>\n",
       "      <td>...</td>\n",
       "      <td>...</td>\n",
       "      <td>...</td>\n",
       "      <td>...</td>\n",
       "      <td>...</td>\n",
       "      <td>...</td>\n",
       "      <td>...</td>\n",
       "      <td>...</td>\n",
       "      <td>...</td>\n",
       "      <td>...</td>\n",
       "      <td>...</td>\n",
       "      <td>...</td>\n",
       "    </tr>\n",
       "    <tr>\n",
       "      <th>359</th>\n",
       "      <td>202211</td>\n",
       "      <td>MJ</td>\n",
       "      <td>False</td>\n",
       "      <td>0.182196</td>\n",
       "      <td>False</td>\n",
       "      <td>False</td>\n",
       "      <td>0.079453</td>\n",
       "      <td>False</td>\n",
       "      <td>False</td>\n",
       "      <td>0.291874</td>\n",
       "      <td>False</td>\n",
       "      <td>MNE</td>\n",
       "    </tr>\n",
       "    <tr>\n",
       "      <th>360</th>\n",
       "      <td>202212</td>\n",
       "      <td>MJ</td>\n",
       "      <td>False</td>\n",
       "      <td>0.203236</td>\n",
       "      <td>False</td>\n",
       "      <td>False</td>\n",
       "      <td>0.060189</td>\n",
       "      <td>False</td>\n",
       "      <td>False</td>\n",
       "      <td>0.300321</td>\n",
       "      <td>False</td>\n",
       "      <td>MNE</td>\n",
       "    </tr>\n",
       "    <tr>\n",
       "      <th>361</th>\n",
       "      <td>202211</td>\n",
       "      <td>TD</td>\n",
       "      <td>True</td>\n",
       "      <td>0.527107</td>\n",
       "      <td>False</td>\n",
       "      <td>True</td>\n",
       "      <td>0.697625</td>\n",
       "      <td>True</td>\n",
       "      <td>False</td>\n",
       "      <td>0.335496</td>\n",
       "      <td>False</td>\n",
       "      <td>TTO</td>\n",
       "    </tr>\n",
       "    <tr>\n",
       "      <th>362</th>\n",
       "      <td>202212</td>\n",
       "      <td>TD</td>\n",
       "      <td>True</td>\n",
       "      <td>0.555677</td>\n",
       "      <td>False</td>\n",
       "      <td>True</td>\n",
       "      <td>0.729246</td>\n",
       "      <td>False</td>\n",
       "      <td>False</td>\n",
       "      <td>0.324000</td>\n",
       "      <td>False</td>\n",
       "      <td>TTO</td>\n",
       "    </tr>\n",
       "    <tr>\n",
       "      <th>363</th>\n",
       "      <td>202301</td>\n",
       "      <td>TD</td>\n",
       "      <td>True</td>\n",
       "      <td>0.565700</td>\n",
       "      <td>True</td>\n",
       "      <td>True</td>\n",
       "      <td>0.591722</td>\n",
       "      <td>False</td>\n",
       "      <td>False</td>\n",
       "      <td>0.332455</td>\n",
       "      <td>True</td>\n",
       "      <td>TTO</td>\n",
       "    </tr>\n",
       "  </tbody>\n",
       "</table>\n",
       "<p>364 rows × 12 columns</p>\n",
       "</div>"
      ],
      "text/plain": [
       "     yearmonth fips  y_pred_transformer  y_pred_proba_transformer  \\\n",
       "0       202211   FJ               False                  0.183897   \n",
       "1       202212   FJ               False                  0.267831   \n",
       "2       202211   TZ               False                  0.482585   \n",
       "3       202212   TZ               False                  0.187792   \n",
       "4       202301   TZ                True                  0.539319   \n",
       "..         ...  ...                 ...                       ...   \n",
       "359     202211   MJ               False                  0.182196   \n",
       "360     202212   MJ               False                  0.203236   \n",
       "361     202211   TD                True                  0.527107   \n",
       "362     202212   TD                True                  0.555677   \n",
       "363     202301   TD                True                  0.565700   \n",
       "\n",
       "     y_true_transformer  y_pred_xgboost  y_pred_proba_xgboost  y_true_xgboost  \\\n",
       "0                 False           False              0.066500           False   \n",
       "1                 False           False              0.099643           False   \n",
       "2                 False            True              0.704086            True   \n",
       "3                 False            True              0.638444            True   \n",
       "4                  True            True              0.608380           False   \n",
       "..                  ...             ...                   ...             ...   \n",
       "359               False           False              0.079453           False   \n",
       "360               False           False              0.060189           False   \n",
       "361               False            True              0.697625            True   \n",
       "362               False            True              0.729246           False   \n",
       "363                True            True              0.591722           False   \n",
       "\n",
       "     y_pred_ffnn  y_pred_proba_ffnn  y_true_ffnn iso3  \n",
       "0          False           0.409958        False  FJI  \n",
       "1          False           0.406696        False  FJI  \n",
       "2           True           0.545236        False  TZA  \n",
       "3           True           0.534560        False  TZA  \n",
       "4           True           0.538583         True  TZA  \n",
       "..           ...                ...          ...  ...  \n",
       "359        False           0.291874        False  MNE  \n",
       "360        False           0.300321        False  MNE  \n",
       "361        False           0.335496        False  TTO  \n",
       "362        False           0.324000        False  TTO  \n",
       "363        False           0.332455         True  TTO  \n",
       "\n",
       "[364 rows x 12 columns]"
      ]
     },
     "execution_count": 21,
     "metadata": {},
     "output_type": "execute_result"
    }
   ],
   "source": [
    "df_preds = pd.read_csv('test_predictions.csv')\n",
    "df_preds"
   ]
  },
  {
   "cell_type": "code",
   "execution_count": 22,
   "id": "ea1a127f",
   "metadata": {},
   "outputs": [
    {
     "data": {
      "text/html": [
       "<div>\n",
       "<style scoped>\n",
       "    .dataframe tbody tr th:only-of-type {\n",
       "        vertical-align: middle;\n",
       "    }\n",
       "\n",
       "    .dataframe tbody tr th {\n",
       "        vertical-align: top;\n",
       "    }\n",
       "\n",
       "    .dataframe thead th {\n",
       "        text-align: right;\n",
       "    }\n",
       "</style>\n",
       "<table border=\"1\" class=\"dataframe\">\n",
       "  <thead>\n",
       "    <tr style=\"text-align: right;\">\n",
       "      <th></th>\n",
       "      <th>yearmonth</th>\n",
       "      <th>fips</th>\n",
       "      <th>y_pred_transformer</th>\n",
       "      <th>y_pred_proba_transformer</th>\n",
       "      <th>y_true_transformer</th>\n",
       "      <th>y_pred_xgboost</th>\n",
       "      <th>y_pred_proba_xgboost</th>\n",
       "      <th>y_true_xgboost</th>\n",
       "      <th>y_pred_ffnn</th>\n",
       "      <th>y_pred_proba_ffnn</th>\n",
       "      <th>...</th>\n",
       "      <th>fsi_e3:_human_flight_and_brain_drain</th>\n",
       "      <th>fsi_e2:_economic_inequality</th>\n",
       "      <th>fsi_e1:_economy</th>\n",
       "      <th>fsi_p1:_state_legitimacy</th>\n",
       "      <th>fsi_p2:_public_services</th>\n",
       "      <th>fsi_p3:_human_rights</th>\n",
       "      <th>fsi_c1:_security_apparatus</th>\n",
       "      <th>fsi_c2:_factionalized_elites</th>\n",
       "      <th>fsi_x1:_external_intervention</th>\n",
       "      <th>fsi_category</th>\n",
       "    </tr>\n",
       "  </thead>\n",
       "  <tbody>\n",
       "    <tr>\n",
       "      <th>0</th>\n",
       "      <td>202211</td>\n",
       "      <td>FJ</td>\n",
       "      <td>False</td>\n",
       "      <td>0.183897</td>\n",
       "      <td>False</td>\n",
       "      <td>False</td>\n",
       "      <td>0.066500</td>\n",
       "      <td>False</td>\n",
       "      <td>False</td>\n",
       "      <td>0.409958</td>\n",
       "      <td>...</td>\n",
       "      <td>7.6</td>\n",
       "      <td>5.0</td>\n",
       "      <td>7.5</td>\n",
       "      <td>6.1</td>\n",
       "      <td>4.2</td>\n",
       "      <td>5.4</td>\n",
       "      <td>6.4</td>\n",
       "      <td>8.2</td>\n",
       "      <td>6.6</td>\n",
       "      <td>Warning</td>\n",
       "    </tr>\n",
       "    <tr>\n",
       "      <th>1</th>\n",
       "      <td>202212</td>\n",
       "      <td>FJ</td>\n",
       "      <td>False</td>\n",
       "      <td>0.267831</td>\n",
       "      <td>False</td>\n",
       "      <td>False</td>\n",
       "      <td>0.099643</td>\n",
       "      <td>False</td>\n",
       "      <td>False</td>\n",
       "      <td>0.406696</td>\n",
       "      <td>...</td>\n",
       "      <td>7.6</td>\n",
       "      <td>5.0</td>\n",
       "      <td>7.5</td>\n",
       "      <td>6.1</td>\n",
       "      <td>4.2</td>\n",
       "      <td>5.4</td>\n",
       "      <td>6.4</td>\n",
       "      <td>8.2</td>\n",
       "      <td>6.6</td>\n",
       "      <td>Warning</td>\n",
       "    </tr>\n",
       "    <tr>\n",
       "      <th>2</th>\n",
       "      <td>202211</td>\n",
       "      <td>TZ</td>\n",
       "      <td>False</td>\n",
       "      <td>0.482585</td>\n",
       "      <td>False</td>\n",
       "      <td>True</td>\n",
       "      <td>0.704086</td>\n",
       "      <td>True</td>\n",
       "      <td>True</td>\n",
       "      <td>0.545236</td>\n",
       "      <td>...</td>\n",
       "      <td>6.4</td>\n",
       "      <td>7.3</td>\n",
       "      <td>6.2</td>\n",
       "      <td>6.9</td>\n",
       "      <td>8.4</td>\n",
       "      <td>5.6</td>\n",
       "      <td>4.6</td>\n",
       "      <td>6.5</td>\n",
       "      <td>6.0</td>\n",
       "      <td>Warning</td>\n",
       "    </tr>\n",
       "    <tr>\n",
       "      <th>3</th>\n",
       "      <td>202212</td>\n",
       "      <td>TZ</td>\n",
       "      <td>False</td>\n",
       "      <td>0.187792</td>\n",
       "      <td>False</td>\n",
       "      <td>True</td>\n",
       "      <td>0.638444</td>\n",
       "      <td>True</td>\n",
       "      <td>True</td>\n",
       "      <td>0.534560</td>\n",
       "      <td>...</td>\n",
       "      <td>6.4</td>\n",
       "      <td>7.3</td>\n",
       "      <td>6.2</td>\n",
       "      <td>6.9</td>\n",
       "      <td>8.4</td>\n",
       "      <td>5.6</td>\n",
       "      <td>4.6</td>\n",
       "      <td>6.5</td>\n",
       "      <td>6.0</td>\n",
       "      <td>Warning</td>\n",
       "    </tr>\n",
       "    <tr>\n",
       "      <th>4</th>\n",
       "      <td>202301</td>\n",
       "      <td>TZ</td>\n",
       "      <td>True</td>\n",
       "      <td>0.539319</td>\n",
       "      <td>True</td>\n",
       "      <td>True</td>\n",
       "      <td>0.608380</td>\n",
       "      <td>False</td>\n",
       "      <td>True</td>\n",
       "      <td>0.538583</td>\n",
       "      <td>...</td>\n",
       "      <td>6.4</td>\n",
       "      <td>7.3</td>\n",
       "      <td>6.2</td>\n",
       "      <td>6.9</td>\n",
       "      <td>8.4</td>\n",
       "      <td>5.6</td>\n",
       "      <td>4.6</td>\n",
       "      <td>6.5</td>\n",
       "      <td>6.0</td>\n",
       "      <td>Warning</td>\n",
       "    </tr>\n",
       "    <tr>\n",
       "      <th>...</th>\n",
       "      <td>...</td>\n",
       "      <td>...</td>\n",
       "      <td>...</td>\n",
       "      <td>...</td>\n",
       "      <td>...</td>\n",
       "      <td>...</td>\n",
       "      <td>...</td>\n",
       "      <td>...</td>\n",
       "      <td>...</td>\n",
       "      <td>...</td>\n",
       "      <td>...</td>\n",
       "      <td>...</td>\n",
       "      <td>...</td>\n",
       "      <td>...</td>\n",
       "      <td>...</td>\n",
       "      <td>...</td>\n",
       "      <td>...</td>\n",
       "      <td>...</td>\n",
       "      <td>...</td>\n",
       "      <td>...</td>\n",
       "      <td>...</td>\n",
       "    </tr>\n",
       "    <tr>\n",
       "      <th>359</th>\n",
       "      <td>202211</td>\n",
       "      <td>MJ</td>\n",
       "      <td>False</td>\n",
       "      <td>0.182196</td>\n",
       "      <td>False</td>\n",
       "      <td>False</td>\n",
       "      <td>0.079453</td>\n",
       "      <td>False</td>\n",
       "      <td>False</td>\n",
       "      <td>0.291874</td>\n",
       "      <td>...</td>\n",
       "      <td>5.4</td>\n",
       "      <td>2.4</td>\n",
       "      <td>5.8</td>\n",
       "      <td>3.9</td>\n",
       "      <td>3.8</td>\n",
       "      <td>2.9</td>\n",
       "      <td>4.0</td>\n",
       "      <td>6.5</td>\n",
       "      <td>6.3</td>\n",
       "      <td>Stable</td>\n",
       "    </tr>\n",
       "    <tr>\n",
       "      <th>360</th>\n",
       "      <td>202212</td>\n",
       "      <td>MJ</td>\n",
       "      <td>False</td>\n",
       "      <td>0.203236</td>\n",
       "      <td>False</td>\n",
       "      <td>False</td>\n",
       "      <td>0.060189</td>\n",
       "      <td>False</td>\n",
       "      <td>False</td>\n",
       "      <td>0.300321</td>\n",
       "      <td>...</td>\n",
       "      <td>5.4</td>\n",
       "      <td>2.4</td>\n",
       "      <td>5.8</td>\n",
       "      <td>3.9</td>\n",
       "      <td>3.8</td>\n",
       "      <td>2.9</td>\n",
       "      <td>4.0</td>\n",
       "      <td>6.5</td>\n",
       "      <td>6.3</td>\n",
       "      <td>Stable</td>\n",
       "    </tr>\n",
       "    <tr>\n",
       "      <th>361</th>\n",
       "      <td>202211</td>\n",
       "      <td>TD</td>\n",
       "      <td>True</td>\n",
       "      <td>0.527107</td>\n",
       "      <td>False</td>\n",
       "      <td>True</td>\n",
       "      <td>0.697625</td>\n",
       "      <td>True</td>\n",
       "      <td>False</td>\n",
       "      <td>0.335496</td>\n",
       "      <td>...</td>\n",
       "      <td>6.8</td>\n",
       "      <td>4.7</td>\n",
       "      <td>3.9</td>\n",
       "      <td>3.5</td>\n",
       "      <td>4.3</td>\n",
       "      <td>3.5</td>\n",
       "      <td>7.3</td>\n",
       "      <td>5.6</td>\n",
       "      <td>3.3</td>\n",
       "      <td>Stable</td>\n",
       "    </tr>\n",
       "    <tr>\n",
       "      <th>362</th>\n",
       "      <td>202212</td>\n",
       "      <td>TD</td>\n",
       "      <td>True</td>\n",
       "      <td>0.555677</td>\n",
       "      <td>False</td>\n",
       "      <td>True</td>\n",
       "      <td>0.729246</td>\n",
       "      <td>False</td>\n",
       "      <td>False</td>\n",
       "      <td>0.324000</td>\n",
       "      <td>...</td>\n",
       "      <td>6.8</td>\n",
       "      <td>4.7</td>\n",
       "      <td>3.9</td>\n",
       "      <td>3.5</td>\n",
       "      <td>4.3</td>\n",
       "      <td>3.5</td>\n",
       "      <td>7.3</td>\n",
       "      <td>5.6</td>\n",
       "      <td>3.3</td>\n",
       "      <td>Stable</td>\n",
       "    </tr>\n",
       "    <tr>\n",
       "      <th>363</th>\n",
       "      <td>202301</td>\n",
       "      <td>TD</td>\n",
       "      <td>True</td>\n",
       "      <td>0.565700</td>\n",
       "      <td>True</td>\n",
       "      <td>True</td>\n",
       "      <td>0.591722</td>\n",
       "      <td>False</td>\n",
       "      <td>False</td>\n",
       "      <td>0.332455</td>\n",
       "      <td>...</td>\n",
       "      <td>6.8</td>\n",
       "      <td>4.7</td>\n",
       "      <td>3.9</td>\n",
       "      <td>3.5</td>\n",
       "      <td>4.3</td>\n",
       "      <td>3.5</td>\n",
       "      <td>7.3</td>\n",
       "      <td>5.6</td>\n",
       "      <td>3.3</td>\n",
       "      <td>Stable</td>\n",
       "    </tr>\n",
       "  </tbody>\n",
       "</table>\n",
       "<p>364 rows × 1343 columns</p>\n",
       "</div>"
      ],
      "text/plain": [
       "     yearmonth fips  y_pred_transformer  y_pred_proba_transformer  \\\n",
       "0       202211   FJ               False                  0.183897   \n",
       "1       202212   FJ               False                  0.267831   \n",
       "2       202211   TZ               False                  0.482585   \n",
       "3       202212   TZ               False                  0.187792   \n",
       "4       202301   TZ                True                  0.539319   \n",
       "..         ...  ...                 ...                       ...   \n",
       "359     202211   MJ               False                  0.182196   \n",
       "360     202212   MJ               False                  0.203236   \n",
       "361     202211   TD                True                  0.527107   \n",
       "362     202212   TD                True                  0.555677   \n",
       "363     202301   TD                True                  0.565700   \n",
       "\n",
       "     y_true_transformer  y_pred_xgboost  y_pred_proba_xgboost  y_true_xgboost  \\\n",
       "0                 False           False              0.066500           False   \n",
       "1                 False           False              0.099643           False   \n",
       "2                 False            True              0.704086            True   \n",
       "3                 False            True              0.638444            True   \n",
       "4                  True            True              0.608380           False   \n",
       "..                  ...             ...                   ...             ...   \n",
       "359               False           False              0.079453           False   \n",
       "360               False           False              0.060189           False   \n",
       "361               False            True              0.697625            True   \n",
       "362               False            True              0.729246           False   \n",
       "363                True            True              0.591722           False   \n",
       "\n",
       "     y_pred_ffnn  y_pred_proba_ffnn  ...  \\\n",
       "0          False           0.409958  ...   \n",
       "1          False           0.406696  ...   \n",
       "2           True           0.545236  ...   \n",
       "3           True           0.534560  ...   \n",
       "4           True           0.538583  ...   \n",
       "..           ...                ...  ...   \n",
       "359        False           0.291874  ...   \n",
       "360        False           0.300321  ...   \n",
       "361        False           0.335496  ...   \n",
       "362        False           0.324000  ...   \n",
       "363        False           0.332455  ...   \n",
       "\n",
       "     fsi_e3:_human_flight_and_brain_drain fsi_e2:_economic_inequality  \\\n",
       "0                                     7.6                         5.0   \n",
       "1                                     7.6                         5.0   \n",
       "2                                     6.4                         7.3   \n",
       "3                                     6.4                         7.3   \n",
       "4                                     6.4                         7.3   \n",
       "..                                    ...                         ...   \n",
       "359                                   5.4                         2.4   \n",
       "360                                   5.4                         2.4   \n",
       "361                                   6.8                         4.7   \n",
       "362                                   6.8                         4.7   \n",
       "363                                   6.8                         4.7   \n",
       "\n",
       "     fsi_e1:_economy  fsi_p1:_state_legitimacy  fsi_p2:_public_services  \\\n",
       "0                7.5                       6.1                      4.2   \n",
       "1                7.5                       6.1                      4.2   \n",
       "2                6.2                       6.9                      8.4   \n",
       "3                6.2                       6.9                      8.4   \n",
       "4                6.2                       6.9                      8.4   \n",
       "..               ...                       ...                      ...   \n",
       "359              5.8                       3.9                      3.8   \n",
       "360              5.8                       3.9                      3.8   \n",
       "361              3.9                       3.5                      4.3   \n",
       "362              3.9                       3.5                      4.3   \n",
       "363              3.9                       3.5                      4.3   \n",
       "\n",
       "     fsi_p3:_human_rights  fsi_c1:_security_apparatus  \\\n",
       "0                     5.4                         6.4   \n",
       "1                     5.4                         6.4   \n",
       "2                     5.6                         4.6   \n",
       "3                     5.6                         4.6   \n",
       "4                     5.6                         4.6   \n",
       "..                    ...                         ...   \n",
       "359                   2.9                         4.0   \n",
       "360                   2.9                         4.0   \n",
       "361                   3.5                         7.3   \n",
       "362                   3.5                         7.3   \n",
       "363                   3.5                         7.3   \n",
       "\n",
       "     fsi_c2:_factionalized_elites  fsi_x1:_external_intervention  fsi_category  \n",
       "0                             8.2                            6.6       Warning  \n",
       "1                             8.2                            6.6       Warning  \n",
       "2                             6.5                            6.0       Warning  \n",
       "3                             6.5                            6.0       Warning  \n",
       "4                             6.5                            6.0       Warning  \n",
       "..                            ...                            ...           ...  \n",
       "359                           6.5                            6.3        Stable  \n",
       "360                           6.5                            6.3        Stable  \n",
       "361                           5.6                            3.3        Stable  \n",
       "362                           5.6                            3.3        Stable  \n",
       "363                           5.6                            3.3        Stable  \n",
       "\n",
       "[364 rows x 1343 columns]"
      ]
     },
     "execution_count": 22,
     "metadata": {},
     "output_type": "execute_result"
    }
   ],
   "source": [
    "df = df_preds.merge(df_indicators, left_on='iso3', right_on='iso3', how='inner')\n",
    "df"
   ]
  },
  {
   "cell_type": "code",
   "execution_count": 23,
   "id": "fe40e59f",
   "metadata": {},
   "outputs": [
    {
     "data": {
      "text/html": [
       "<style type=\"text/css\">\n",
       "#T_19272_row0_col2 {\n",
       "  background-color: #c9e3e3;\n",
       "  color: #000000;\n",
       "}\n",
       "#T_19272_row1_col2 {\n",
       "  background-color: #e8f3f3;\n",
       "  color: #000000;\n",
       "}\n",
       "#T_19272_row2_col2 {\n",
       "  background-color: #aad4d4;\n",
       "  color: #000000;\n",
       "}\n",
       "#T_19272_row3_col2 {\n",
       "  background-color: #0f8888;\n",
       "  color: #f1f1f1;\n",
       "}\n",
       "#T_19272_row4_col2 {\n",
       "  background-color: #45a2a2;\n",
       "  color: #f1f1f1;\n",
       "}\n",
       "#T_19272_row5_col2 {\n",
       "  background-color: #52a9a9;\n",
       "  color: #f1f1f1;\n",
       "}\n",
       "#T_19272_row6_col2, #T_19272_row8_col2 {\n",
       "  background-color: #008080;\n",
       "  color: #f1f1f1;\n",
       "}\n",
       "#T_19272_row7_col2 {\n",
       "  background-color: #299494;\n",
       "  color: #f1f1f1;\n",
       "}\n",
       "#T_19272_row9_col2 {\n",
       "  background-color: #4ba5a5;\n",
       "  color: #f1f1f1;\n",
       "}\n",
       "#T_19272_row10_col2 {\n",
       "  background-color: #c6e2e2;\n",
       "  color: #000000;\n",
       "}\n",
       "#T_19272_row11_col2 {\n",
       "  background-color: #89c4c4;\n",
       "  color: #000000;\n",
       "}\n",
       "</style>\n",
       "<table id=\"T_19272\">\n",
       "  <thead>\n",
       "    <tr>\n",
       "      <th id=\"T_19272_level0_col0\" class=\"col_heading level0 col0\" >model</th>\n",
       "      <th id=\"T_19272_level0_col1\" class=\"col_heading level0 col1\" >fsi_category</th>\n",
       "      <th id=\"T_19272_level0_col2\" class=\"col_heading level0 col2\" >accuracy_score</th>\n",
       "    </tr>\n",
       "  </thead>\n",
       "  <tbody>\n",
       "    <tr>\n",
       "      <td id=\"T_19272_row0_col0\" class=\"data row0 col0\" >ffnn</td>\n",
       "      <td id=\"T_19272_row0_col1\" class=\"data row0 col1\" >Alert</td>\n",
       "      <td id=\"T_19272_row0_col2\" class=\"data row0 col2\" >0.38571</td>\n",
       "    </tr>\n",
       "    <tr>\n",
       "      <td id=\"T_19272_row1_col0\" class=\"data row1 col0\" >xgboost</td>\n",
       "      <td id=\"T_19272_row1_col1\" class=\"data row1 col1\" >Alert</td>\n",
       "      <td id=\"T_19272_row1_col2\" class=\"data row1 col2\" >0.30000</td>\n",
       "    </tr>\n",
       "    <tr>\n",
       "      <td id=\"T_19272_row2_col0\" class=\"data row2 col0\" >transformer</td>\n",
       "      <td id=\"T_19272_row2_col1\" class=\"data row2 col1\" >Alert</td>\n",
       "      <td id=\"T_19272_row2_col2\" class=\"data row2 col2\" >0.47143</td>\n",
       "    </tr>\n",
       "    <tr>\n",
       "      <td id=\"T_19272_row3_col0\" class=\"data row3 col0\" >ffnn</td>\n",
       "      <td id=\"T_19272_row3_col1\" class=\"data row3 col1\" >Stable</td>\n",
       "      <td id=\"T_19272_row3_col2\" class=\"data row3 col2\" >0.89773</td>\n",
       "    </tr>\n",
       "    <tr>\n",
       "      <td id=\"T_19272_row4_col0\" class=\"data row4 col0\" >xgboost</td>\n",
       "      <td id=\"T_19272_row4_col1\" class=\"data row4 col1\" >Stable</td>\n",
       "      <td id=\"T_19272_row4_col2\" class=\"data row4 col2\" >0.75000</td>\n",
       "    </tr>\n",
       "    <tr>\n",
       "      <td id=\"T_19272_row5_col0\" class=\"data row5 col0\" >transformer</td>\n",
       "      <td id=\"T_19272_row5_col1\" class=\"data row5 col1\" >Stable</td>\n",
       "      <td id=\"T_19272_row5_col2\" class=\"data row5 col2\" >0.71591</td>\n",
       "    </tr>\n",
       "    <tr>\n",
       "      <td id=\"T_19272_row6_col0\" class=\"data row6 col0\" >ffnn</td>\n",
       "      <td id=\"T_19272_row6_col1\" class=\"data row6 col1\" >Sustainable</td>\n",
       "      <td id=\"T_19272_row6_col2\" class=\"data row6 col2\" >0.94286</td>\n",
       "    </tr>\n",
       "    <tr>\n",
       "      <td id=\"T_19272_row7_col0\" class=\"data row7 col0\" >xgboost</td>\n",
       "      <td id=\"T_19272_row7_col1\" class=\"data row7 col1\" >Sustainable</td>\n",
       "      <td id=\"T_19272_row7_col2\" class=\"data row7 col2\" >0.82857</td>\n",
       "    </tr>\n",
       "    <tr>\n",
       "      <td id=\"T_19272_row8_col0\" class=\"data row8 col0\" >transformer</td>\n",
       "      <td id=\"T_19272_row8_col1\" class=\"data row8 col1\" >Sustainable</td>\n",
       "      <td id=\"T_19272_row8_col2\" class=\"data row8 col2\" >0.94286</td>\n",
       "    </tr>\n",
       "    <tr>\n",
       "      <td id=\"T_19272_row9_col0\" class=\"data row9 col0\" >ffnn</td>\n",
       "      <td id=\"T_19272_row9_col1\" class=\"data row9 col1\" >Warning</td>\n",
       "      <td id=\"T_19272_row9_col2\" class=\"data row9 col2\" >0.73684</td>\n",
       "    </tr>\n",
       "    <tr>\n",
       "      <td id=\"T_19272_row10_col0\" class=\"data row10 col0\" >xgboost</td>\n",
       "      <td id=\"T_19272_row10_col1\" class=\"data row10 col1\" >Warning</td>\n",
       "      <td id=\"T_19272_row10_col2\" class=\"data row10 col2\" >0.39766</td>\n",
       "    </tr>\n",
       "    <tr>\n",
       "      <td id=\"T_19272_row11_col0\" class=\"data row11 col0\" >transformer</td>\n",
       "      <td id=\"T_19272_row11_col1\" class=\"data row11 col1\" >Warning</td>\n",
       "      <td id=\"T_19272_row11_col2\" class=\"data row11 col2\" >0.56140</td>\n",
       "    </tr>\n",
       "  </tbody>\n",
       "</table>\n"
      ],
      "text/plain": [
       "<pandas.io.formats.style.Styler at 0x7fb355e519f0>"
      ]
     },
     "execution_count": 23,
     "metadata": {},
     "output_type": "execute_result"
    }
   ],
   "source": [
    "from sklearn import metrics\n",
    "import seaborn as sns\n",
    "\n",
    "column_defining_groups = 'fsi_category'\n",
    "\n",
    "chosen_metric = 'accuracy_score'\n",
    "\n",
    "metric_function = getattr(metrics, chosen_metric)\n",
    "\n",
    "chosen_metric_for_chosen_groups = list()\n",
    "chosen_metric_back_into_original_data = {'ffnn': pd.Series(index=df.index, dtype=np.float64), \n",
    "                                         'xgboost': pd.Series(index=df.index, dtype=np.float64), \n",
    "                                         'transformer': pd.Series(index=df.index, dtype=np.float64)}\n",
    "    \n",
    "for g, rows in df.groupby(column_defining_groups):\n",
    "    for model in ['ffnn', 'xgboost', 'transformer']:        \n",
    "        chosen_metric_value = metric_function(rows[f\"y_true_{model}\"], rows[f\"y_pred_{model}\"]) \n",
    "        \n",
    "        chosen_metric_back_into_original_data[model][rows.index] = chosen_metric_value\n",
    "        chosen_metric_for_chosen_groups.append((model, g, chosen_metric_value))\n",
    "\n",
    "cm_bigger_better = sns.light_palette(\"teal\", as_cmap=True)\n",
    "\n",
    "styler = ( pd.DataFrame(chosen_metric_for_chosen_groups, \n",
    "                        columns=('model', column_defining_groups, chosen_metric))\n",
    "            .sort_values(column_defining_groups).style\n",
    "            .background_gradient(cmap=cm_bigger_better)\n",
    "            .format(precision=5).hide(axis=\"index\"))\n",
    "styler"
   ]
  },
  {
   "cell_type": "code",
   "execution_count": 54,
   "id": "07e9277d",
   "metadata": {},
   "outputs": [
    {
     "data": {
      "application/vnd.plotly.v1+json": {
       "config": {
        "plotlyServerURL": "https://plot.ly"
       },
       "data": [
        {
         "colorscale": [
          [
           0,
           "#636efa"
          ],
          [
           1,
           "#636efa"
          ]
         ],
         "geo": "geo",
         "hovertemplate": "<b>%{hovertext}</b><br><br>fsi_category=Warning<br>iso3=%{location}<extra></extra>",
         "hovertext": [
          "FJI",
          "FJI",
          "TZA",
          "TZA",
          "TZA",
          "KAZ",
          "KAZ",
          "KAZ",
          "UZB",
          "UZB",
          "UZB",
          "IDN",
          "IDN",
          "IDN",
          "KEN",
          "KEN",
          "KEN",
          "RUS",
          "RUS",
          "RUS",
          "ZAF",
          "ZAF",
          "ZAF",
          "LSO",
          "LSO",
          "LSO",
          "MEX",
          "MEX",
          "MEX",
          "BRA",
          "BRA",
          "BRA",
          "BOL",
          "BOL",
          "BOL",
          "PER",
          "PER",
          "PER",
          "COL",
          "COL",
          "COL",
          "NIC",
          "NIC",
          "NIC",
          "HND",
          "HND",
          "HND",
          "SLV",
          "SLV",
          "SLV",
          "GTM",
          "GTM",
          "GTM",
          "GUY",
          "GUY",
          "GUY",
          "ECU",
          "ECU",
          "ECU",
          "JAM",
          "JAM",
          "JAM",
          "NAM",
          "NAM",
          "NAM",
          "SEN",
          "SEN",
          "SEN",
          "MRT",
          "MRT",
          "BEN",
          "BEN",
          "BEN",
          "TGO",
          "TGO",
          "TGO",
          "GHA",
          "GHA",
          "GHA",
          "CIV",
          "LBR",
          "LBR",
          "LBR",
          "GAB",
          "GAB",
          "ZMB",
          "ZMB",
          "ZMB",
          "MWI",
          "MWI",
          "MWI",
          "AGO",
          "AGO",
          "AGO",
          "MDG",
          "MDG",
          "MDG",
          "TUN",
          "TUN",
          "DZA",
          "DZA",
          "DZA",
          "JOR",
          "JOR",
          "JOR",
          "KHM",
          "KHM",
          "THA",
          "THA",
          "THA",
          "IND",
          "IND",
          "IND",
          "BGD",
          "BGD",
          "BGD",
          "BTN",
          "BTN",
          "NPL",
          "NPL",
          "NPL",
          "PAK",
          "PAK",
          "PAK",
          "TJK",
          "TJK",
          "KGZ",
          "KGZ",
          "KGZ",
          "TKM",
          "TKM",
          "ARM",
          "ARM",
          "ARM",
          "BLR",
          "BLR",
          "BLR",
          "MDA",
          "MDA",
          "MDA",
          "CHN",
          "CHN",
          "CHN",
          "AZE",
          "AZE",
          "AZE",
          "GEO",
          "GEO",
          "GEO",
          "PHL",
          "PHL",
          "PHL",
          "PRY",
          "PRY",
          "PRY",
          "SAU",
          "SAU",
          "SAU",
          "MAR",
          "MAR",
          "MAR",
          "DJI",
          "RWA",
          "RWA",
          "RWA",
          "MKD",
          "MKD",
          "MKD",
          "SRB",
          "SRB",
          "SRB"
         ],
         "locations": [
          "FJI",
          "FJI",
          "TZA",
          "TZA",
          "TZA",
          "KAZ",
          "KAZ",
          "KAZ",
          "UZB",
          "UZB",
          "UZB",
          "IDN",
          "IDN",
          "IDN",
          "KEN",
          "KEN",
          "KEN",
          "RUS",
          "RUS",
          "RUS",
          "ZAF",
          "ZAF",
          "ZAF",
          "LSO",
          "LSO",
          "LSO",
          "MEX",
          "MEX",
          "MEX",
          "BRA",
          "BRA",
          "BRA",
          "BOL",
          "BOL",
          "BOL",
          "PER",
          "PER",
          "PER",
          "COL",
          "COL",
          "COL",
          "NIC",
          "NIC",
          "NIC",
          "HND",
          "HND",
          "HND",
          "SLV",
          "SLV",
          "SLV",
          "GTM",
          "GTM",
          "GTM",
          "GUY",
          "GUY",
          "GUY",
          "ECU",
          "ECU",
          "ECU",
          "JAM",
          "JAM",
          "JAM",
          "NAM",
          "NAM",
          "NAM",
          "SEN",
          "SEN",
          "SEN",
          "MRT",
          "MRT",
          "BEN",
          "BEN",
          "BEN",
          "TGO",
          "TGO",
          "TGO",
          "GHA",
          "GHA",
          "GHA",
          "CIV",
          "LBR",
          "LBR",
          "LBR",
          "GAB",
          "GAB",
          "ZMB",
          "ZMB",
          "ZMB",
          "MWI",
          "MWI",
          "MWI",
          "AGO",
          "AGO",
          "AGO",
          "MDG",
          "MDG",
          "MDG",
          "TUN",
          "TUN",
          "DZA",
          "DZA",
          "DZA",
          "JOR",
          "JOR",
          "JOR",
          "KHM",
          "KHM",
          "THA",
          "THA",
          "THA",
          "IND",
          "IND",
          "IND",
          "BGD",
          "BGD",
          "BGD",
          "BTN",
          "BTN",
          "NPL",
          "NPL",
          "NPL",
          "PAK",
          "PAK",
          "PAK",
          "TJK",
          "TJK",
          "KGZ",
          "KGZ",
          "KGZ",
          "TKM",
          "TKM",
          "ARM",
          "ARM",
          "ARM",
          "BLR",
          "BLR",
          "BLR",
          "MDA",
          "MDA",
          "MDA",
          "CHN",
          "CHN",
          "CHN",
          "AZE",
          "AZE",
          "AZE",
          "GEO",
          "GEO",
          "GEO",
          "PHL",
          "PHL",
          "PHL",
          "PRY",
          "PRY",
          "PRY",
          "SAU",
          "SAU",
          "SAU",
          "MAR",
          "MAR",
          "MAR",
          "DJI",
          "RWA",
          "RWA",
          "RWA",
          "MKD",
          "MKD",
          "MKD",
          "SRB",
          "SRB",
          "SRB"
         ],
         "name": "Warning",
         "showlegend": true,
         "showscale": false,
         "type": "choropleth",
         "z": [
          1,
          1,
          1,
          1,
          1,
          1,
          1,
          1,
          1,
          1,
          1,
          1,
          1,
          1,
          1,
          1,
          1,
          1,
          1,
          1,
          1,
          1,
          1,
          1,
          1,
          1,
          1,
          1,
          1,
          1,
          1,
          1,
          1,
          1,
          1,
          1,
          1,
          1,
          1,
          1,
          1,
          1,
          1,
          1,
          1,
          1,
          1,
          1,
          1,
          1,
          1,
          1,
          1,
          1,
          1,
          1,
          1,
          1,
          1,
          1,
          1,
          1,
          1,
          1,
          1,
          1,
          1,
          1,
          1,
          1,
          1,
          1,
          1,
          1,
          1,
          1,
          1,
          1,
          1,
          1,
          1,
          1,
          1,
          1,
          1,
          1,
          1,
          1,
          1,
          1,
          1,
          1,
          1,
          1,
          1,
          1,
          1,
          1,
          1,
          1,
          1,
          1,
          1,
          1,
          1,
          1,
          1,
          1,
          1,
          1,
          1,
          1,
          1,
          1,
          1,
          1,
          1,
          1,
          1,
          1,
          1,
          1,
          1,
          1,
          1,
          1,
          1,
          1,
          1,
          1,
          1,
          1,
          1,
          1,
          1,
          1,
          1,
          1,
          1,
          1,
          1,
          1,
          1,
          1,
          1,
          1,
          1,
          1,
          1,
          1,
          1,
          1,
          1,
          1,
          1,
          1,
          1,
          1,
          1,
          1,
          1,
          1,
          1,
          1,
          1,
          1,
          1,
          1,
          1,
          1,
          1
         ]
        },
        {
         "colorscale": [
          [
           0,
           "#EF553B"
          ],
          [
           1,
           "#EF553B"
          ]
         ],
         "geo": "geo",
         "hovertemplate": "<b>%{hovertext}</b><br><br>fsi_category=Sustainable<br>iso3=%{location}<extra></extra>",
         "hovertext": [
          "CAN",
          "CAN",
          "NOR",
          "NOR",
          "FRA",
          "FRA",
          "FRA",
          "SWE",
          "SWE",
          "AUT",
          "AUT",
          "DEU",
          "DEU",
          "DEU",
          "CHE",
          "CHE",
          "LUX",
          "LUX",
          "NLD",
          "NLD",
          "PRT",
          "PRT",
          "IRL",
          "IRL",
          "IRL",
          "AUS",
          "AUS",
          "DNK",
          "DNK",
          "ISL",
          "ISL",
          "SVN",
          "SVN",
          "FIN",
          "FIN"
         ],
         "locations": [
          "CAN",
          "CAN",
          "NOR",
          "NOR",
          "FRA",
          "FRA",
          "FRA",
          "SWE",
          "SWE",
          "AUT",
          "AUT",
          "DEU",
          "DEU",
          "DEU",
          "CHE",
          "CHE",
          "LUX",
          "LUX",
          "NLD",
          "NLD",
          "PRT",
          "PRT",
          "IRL",
          "IRL",
          "IRL",
          "AUS",
          "AUS",
          "DNK",
          "DNK",
          "ISL",
          "ISL",
          "SVN",
          "SVN",
          "FIN",
          "FIN"
         ],
         "name": "Sustainable",
         "showlegend": true,
         "showscale": false,
         "type": "choropleth",
         "z": [
          1,
          1,
          1,
          1,
          1,
          1,
          1,
          1,
          1,
          1,
          1,
          1,
          1,
          1,
          1,
          1,
          1,
          1,
          1,
          1,
          1,
          1,
          1,
          1,
          1,
          1,
          1,
          1,
          1,
          1,
          1,
          1,
          1,
          1,
          1
         ]
        },
        {
         "colorscale": [
          [
           0,
           "#00cc96"
          ],
          [
           1,
           "#00cc96"
          ]
         ],
         "geo": "geo",
         "hovertemplate": "<b>%{hovertext}</b><br><br>fsi_category=Stable<br>iso3=%{location}<extra></extra>",
         "hovertext": [
          "USA",
          "USA",
          "USA",
          "ARG",
          "ARG",
          "ARG",
          "CHL",
          "CHL",
          "CHL",
          "URY",
          "URY",
          "PAN",
          "PAN",
          "BLZ",
          "BLZ",
          "BLZ",
          "SUR",
          "SUR",
          "CUB",
          "CUB",
          "CUB",
          "BWA",
          "BWA",
          "BWA",
          "ISR",
          "ISR",
          "ISR",
          "QAT",
          "QAT",
          "KWT",
          "KWT",
          "OMN",
          "OMN",
          "VNM",
          "VNM",
          "MNG",
          "MNG",
          "POL",
          "POL",
          "HUN",
          "HUN",
          "HUN",
          "ROU",
          "ROU",
          "LTU",
          "LTU",
          "LVA",
          "LVA",
          "EST",
          "EST",
          "BGR",
          "BGR",
          "GRC",
          "GRC",
          "GRC",
          "ALB",
          "ALB",
          "HRV",
          "HRV",
          "BEL",
          "BEL",
          "ESP",
          "ESP",
          "ESP",
          "ITA",
          "ITA",
          "ITA",
          "GBR",
          "GBR",
          "MYS",
          "MYS",
          "BRN",
          "BRN",
          "SVK",
          "SVK",
          "CZE",
          "CZE",
          "CZE",
          "JPN",
          "JPN",
          "CYP",
          "CYP",
          "CYP",
          "MNE",
          "MNE",
          "TTO",
          "TTO",
          "TTO"
         ],
         "locations": [
          "USA",
          "USA",
          "USA",
          "ARG",
          "ARG",
          "ARG",
          "CHL",
          "CHL",
          "CHL",
          "URY",
          "URY",
          "PAN",
          "PAN",
          "BLZ",
          "BLZ",
          "BLZ",
          "SUR",
          "SUR",
          "CUB",
          "CUB",
          "CUB",
          "BWA",
          "BWA",
          "BWA",
          "ISR",
          "ISR",
          "ISR",
          "QAT",
          "QAT",
          "KWT",
          "KWT",
          "OMN",
          "OMN",
          "VNM",
          "VNM",
          "MNG",
          "MNG",
          "POL",
          "POL",
          "HUN",
          "HUN",
          "HUN",
          "ROU",
          "ROU",
          "LTU",
          "LTU",
          "LVA",
          "LVA",
          "EST",
          "EST",
          "BGR",
          "BGR",
          "GRC",
          "GRC",
          "GRC",
          "ALB",
          "ALB",
          "HRV",
          "HRV",
          "BEL",
          "BEL",
          "ESP",
          "ESP",
          "ESP",
          "ITA",
          "ITA",
          "ITA",
          "GBR",
          "GBR",
          "MYS",
          "MYS",
          "BRN",
          "BRN",
          "SVK",
          "SVK",
          "CZE",
          "CZE",
          "CZE",
          "JPN",
          "JPN",
          "CYP",
          "CYP",
          "CYP",
          "MNE",
          "MNE",
          "TTO",
          "TTO",
          "TTO"
         ],
         "name": "Stable",
         "showlegend": true,
         "showscale": false,
         "type": "choropleth",
         "z": [
          1,
          1,
          1,
          1,
          1,
          1,
          1,
          1,
          1,
          1,
          1,
          1,
          1,
          1,
          1,
          1,
          1,
          1,
          1,
          1,
          1,
          1,
          1,
          1,
          1,
          1,
          1,
          1,
          1,
          1,
          1,
          1,
          1,
          1,
          1,
          1,
          1,
          1,
          1,
          1,
          1,
          1,
          1,
          1,
          1,
          1,
          1,
          1,
          1,
          1,
          1,
          1,
          1,
          1,
          1,
          1,
          1,
          1,
          1,
          1,
          1,
          1,
          1,
          1,
          1,
          1,
          1,
          1,
          1,
          1,
          1,
          1,
          1,
          1,
          1,
          1,
          1,
          1,
          1,
          1,
          1,
          1,
          1,
          1,
          1,
          1,
          1,
          1
         ]
        },
        {
         "colorscale": [
          [
           0,
           "#ab63fa"
          ],
          [
           1,
           "#ab63fa"
          ]
         ],
         "geo": "geo",
         "hovertemplate": "<b>%{hovertext}</b><br><br>fsi_category=Alert<br>iso3=%{location}<extra></extra>",
         "hovertext": [
          "SOM",
          "SOM",
          "SOM",
          "SDN",
          "SDN",
          "SDN",
          "TCD",
          "TCD",
          "TCD",
          "HTI",
          "HTI",
          "HTI",
          "ZWE",
          "ZWE",
          "ZWE",
          "MLI",
          "MLI",
          "MLI",
          "NER",
          "NER",
          "NER",
          "NGA",
          "NGA",
          "NGA",
          "CMR",
          "CMR",
          "CMR",
          "GIN",
          "GIN",
          "GIN",
          "BFA",
          "BFA",
          "BFA",
          "MOZ",
          "MOZ",
          "MOZ",
          "BDI",
          "BDI",
          "LBN",
          "LBN",
          "LBN",
          "IRQ",
          "IRQ",
          "IRQ",
          "MMR",
          "MMR",
          "MMR",
          "AFG",
          "AFG",
          "AFG",
          "SYR",
          "SYR",
          "SYR",
          "UKR",
          "UKR",
          "UKR",
          "LKA",
          "LKA",
          "LKA",
          "ERI",
          "ERI",
          "LBY",
          "LBY",
          "LBY",
          "ETH",
          "ETH",
          "ETH",
          "UGA",
          "UGA",
          "UGA"
         ],
         "locations": [
          "SOM",
          "SOM",
          "SOM",
          "SDN",
          "SDN",
          "SDN",
          "TCD",
          "TCD",
          "TCD",
          "HTI",
          "HTI",
          "HTI",
          "ZWE",
          "ZWE",
          "ZWE",
          "MLI",
          "MLI",
          "MLI",
          "NER",
          "NER",
          "NER",
          "NGA",
          "NGA",
          "NGA",
          "CMR",
          "CMR",
          "CMR",
          "GIN",
          "GIN",
          "GIN",
          "BFA",
          "BFA",
          "BFA",
          "MOZ",
          "MOZ",
          "MOZ",
          "BDI",
          "BDI",
          "LBN",
          "LBN",
          "LBN",
          "IRQ",
          "IRQ",
          "IRQ",
          "MMR",
          "MMR",
          "MMR",
          "AFG",
          "AFG",
          "AFG",
          "SYR",
          "SYR",
          "SYR",
          "UKR",
          "UKR",
          "UKR",
          "LKA",
          "LKA",
          "LKA",
          "ERI",
          "ERI",
          "LBY",
          "LBY",
          "LBY",
          "ETH",
          "ETH",
          "ETH",
          "UGA",
          "UGA",
          "UGA"
         ],
         "name": "Alert",
         "showlegend": true,
         "showscale": false,
         "type": "choropleth",
         "z": [
          1,
          1,
          1,
          1,
          1,
          1,
          1,
          1,
          1,
          1,
          1,
          1,
          1,
          1,
          1,
          1,
          1,
          1,
          1,
          1,
          1,
          1,
          1,
          1,
          1,
          1,
          1,
          1,
          1,
          1,
          1,
          1,
          1,
          1,
          1,
          1,
          1,
          1,
          1,
          1,
          1,
          1,
          1,
          1,
          1,
          1,
          1,
          1,
          1,
          1,
          1,
          1,
          1,
          1,
          1,
          1,
          1,
          1,
          1,
          1,
          1,
          1,
          1,
          1,
          1,
          1,
          1,
          1,
          1,
          1
         ]
        }
       ],
       "layout": {
        "geo": {
         "center": {},
         "domain": {
          "x": [
           0,
           1
          ],
          "y": [
           0,
           1
          ]
         }
        },
        "legend": {
         "title": {
          "text": "fsi_category"
         },
         "tracegroupgap": 0
        },
        "margin": {
         "t": 60
        },
        "template": {
         "data": {
          "bar": [
           {
            "error_x": {
             "color": "#2a3f5f"
            },
            "error_y": {
             "color": "#2a3f5f"
            },
            "marker": {
             "line": {
              "color": "#E5ECF6",
              "width": 0.5
             },
             "pattern": {
              "fillmode": "overlay",
              "size": 10,
              "solidity": 0.2
             }
            },
            "type": "bar"
           }
          ],
          "barpolar": [
           {
            "marker": {
             "line": {
              "color": "#E5ECF6",
              "width": 0.5
             },
             "pattern": {
              "fillmode": "overlay",
              "size": 10,
              "solidity": 0.2
             }
            },
            "type": "barpolar"
           }
          ],
          "carpet": [
           {
            "aaxis": {
             "endlinecolor": "#2a3f5f",
             "gridcolor": "white",
             "linecolor": "white",
             "minorgridcolor": "white",
             "startlinecolor": "#2a3f5f"
            },
            "baxis": {
             "endlinecolor": "#2a3f5f",
             "gridcolor": "white",
             "linecolor": "white",
             "minorgridcolor": "white",
             "startlinecolor": "#2a3f5f"
            },
            "type": "carpet"
           }
          ],
          "choropleth": [
           {
            "colorbar": {
             "outlinewidth": 0,
             "ticks": ""
            },
            "type": "choropleth"
           }
          ],
          "contour": [
           {
            "colorbar": {
             "outlinewidth": 0,
             "ticks": ""
            },
            "colorscale": [
             [
              0,
              "#0d0887"
             ],
             [
              0.1111111111111111,
              "#46039f"
             ],
             [
              0.2222222222222222,
              "#7201a8"
             ],
             [
              0.3333333333333333,
              "#9c179e"
             ],
             [
              0.4444444444444444,
              "#bd3786"
             ],
             [
              0.5555555555555556,
              "#d8576b"
             ],
             [
              0.6666666666666666,
              "#ed7953"
             ],
             [
              0.7777777777777778,
              "#fb9f3a"
             ],
             [
              0.8888888888888888,
              "#fdca26"
             ],
             [
              1,
              "#f0f921"
             ]
            ],
            "type": "contour"
           }
          ],
          "contourcarpet": [
           {
            "colorbar": {
             "outlinewidth": 0,
             "ticks": ""
            },
            "type": "contourcarpet"
           }
          ],
          "heatmap": [
           {
            "colorbar": {
             "outlinewidth": 0,
             "ticks": ""
            },
            "colorscale": [
             [
              0,
              "#0d0887"
             ],
             [
              0.1111111111111111,
              "#46039f"
             ],
             [
              0.2222222222222222,
              "#7201a8"
             ],
             [
              0.3333333333333333,
              "#9c179e"
             ],
             [
              0.4444444444444444,
              "#bd3786"
             ],
             [
              0.5555555555555556,
              "#d8576b"
             ],
             [
              0.6666666666666666,
              "#ed7953"
             ],
             [
              0.7777777777777778,
              "#fb9f3a"
             ],
             [
              0.8888888888888888,
              "#fdca26"
             ],
             [
              1,
              "#f0f921"
             ]
            ],
            "type": "heatmap"
           }
          ],
          "heatmapgl": [
           {
            "colorbar": {
             "outlinewidth": 0,
             "ticks": ""
            },
            "colorscale": [
             [
              0,
              "#0d0887"
             ],
             [
              0.1111111111111111,
              "#46039f"
             ],
             [
              0.2222222222222222,
              "#7201a8"
             ],
             [
              0.3333333333333333,
              "#9c179e"
             ],
             [
              0.4444444444444444,
              "#bd3786"
             ],
             [
              0.5555555555555556,
              "#d8576b"
             ],
             [
              0.6666666666666666,
              "#ed7953"
             ],
             [
              0.7777777777777778,
              "#fb9f3a"
             ],
             [
              0.8888888888888888,
              "#fdca26"
             ],
             [
              1,
              "#f0f921"
             ]
            ],
            "type": "heatmapgl"
           }
          ],
          "histogram": [
           {
            "marker": {
             "pattern": {
              "fillmode": "overlay",
              "size": 10,
              "solidity": 0.2
             }
            },
            "type": "histogram"
           }
          ],
          "histogram2d": [
           {
            "colorbar": {
             "outlinewidth": 0,
             "ticks": ""
            },
            "colorscale": [
             [
              0,
              "#0d0887"
             ],
             [
              0.1111111111111111,
              "#46039f"
             ],
             [
              0.2222222222222222,
              "#7201a8"
             ],
             [
              0.3333333333333333,
              "#9c179e"
             ],
             [
              0.4444444444444444,
              "#bd3786"
             ],
             [
              0.5555555555555556,
              "#d8576b"
             ],
             [
              0.6666666666666666,
              "#ed7953"
             ],
             [
              0.7777777777777778,
              "#fb9f3a"
             ],
             [
              0.8888888888888888,
              "#fdca26"
             ],
             [
              1,
              "#f0f921"
             ]
            ],
            "type": "histogram2d"
           }
          ],
          "histogram2dcontour": [
           {
            "colorbar": {
             "outlinewidth": 0,
             "ticks": ""
            },
            "colorscale": [
             [
              0,
              "#0d0887"
             ],
             [
              0.1111111111111111,
              "#46039f"
             ],
             [
              0.2222222222222222,
              "#7201a8"
             ],
             [
              0.3333333333333333,
              "#9c179e"
             ],
             [
              0.4444444444444444,
              "#bd3786"
             ],
             [
              0.5555555555555556,
              "#d8576b"
             ],
             [
              0.6666666666666666,
              "#ed7953"
             ],
             [
              0.7777777777777778,
              "#fb9f3a"
             ],
             [
              0.8888888888888888,
              "#fdca26"
             ],
             [
              1,
              "#f0f921"
             ]
            ],
            "type": "histogram2dcontour"
           }
          ],
          "mesh3d": [
           {
            "colorbar": {
             "outlinewidth": 0,
             "ticks": ""
            },
            "type": "mesh3d"
           }
          ],
          "parcoords": [
           {
            "line": {
             "colorbar": {
              "outlinewidth": 0,
              "ticks": ""
             }
            },
            "type": "parcoords"
           }
          ],
          "pie": [
           {
            "automargin": true,
            "type": "pie"
           }
          ],
          "scatter": [
           {
            "fillpattern": {
             "fillmode": "overlay",
             "size": 10,
             "solidity": 0.2
            },
            "type": "scatter"
           }
          ],
          "scatter3d": [
           {
            "line": {
             "colorbar": {
              "outlinewidth": 0,
              "ticks": ""
             }
            },
            "marker": {
             "colorbar": {
              "outlinewidth": 0,
              "ticks": ""
             }
            },
            "type": "scatter3d"
           }
          ],
          "scattercarpet": [
           {
            "marker": {
             "colorbar": {
              "outlinewidth": 0,
              "ticks": ""
             }
            },
            "type": "scattercarpet"
           }
          ],
          "scattergeo": [
           {
            "marker": {
             "colorbar": {
              "outlinewidth": 0,
              "ticks": ""
             }
            },
            "type": "scattergeo"
           }
          ],
          "scattergl": [
           {
            "marker": {
             "colorbar": {
              "outlinewidth": 0,
              "ticks": ""
             }
            },
            "type": "scattergl"
           }
          ],
          "scattermapbox": [
           {
            "marker": {
             "colorbar": {
              "outlinewidth": 0,
              "ticks": ""
             }
            },
            "type": "scattermapbox"
           }
          ],
          "scatterpolar": [
           {
            "marker": {
             "colorbar": {
              "outlinewidth": 0,
              "ticks": ""
             }
            },
            "type": "scatterpolar"
           }
          ],
          "scatterpolargl": [
           {
            "marker": {
             "colorbar": {
              "outlinewidth": 0,
              "ticks": ""
             }
            },
            "type": "scatterpolargl"
           }
          ],
          "scatterternary": [
           {
            "marker": {
             "colorbar": {
              "outlinewidth": 0,
              "ticks": ""
             }
            },
            "type": "scatterternary"
           }
          ],
          "surface": [
           {
            "colorbar": {
             "outlinewidth": 0,
             "ticks": ""
            },
            "colorscale": [
             [
              0,
              "#0d0887"
             ],
             [
              0.1111111111111111,
              "#46039f"
             ],
             [
              0.2222222222222222,
              "#7201a8"
             ],
             [
              0.3333333333333333,
              "#9c179e"
             ],
             [
              0.4444444444444444,
              "#bd3786"
             ],
             [
              0.5555555555555556,
              "#d8576b"
             ],
             [
              0.6666666666666666,
              "#ed7953"
             ],
             [
              0.7777777777777778,
              "#fb9f3a"
             ],
             [
              0.8888888888888888,
              "#fdca26"
             ],
             [
              1,
              "#f0f921"
             ]
            ],
            "type": "surface"
           }
          ],
          "table": [
           {
            "cells": {
             "fill": {
              "color": "#EBF0F8"
             },
             "line": {
              "color": "white"
             }
            },
            "header": {
             "fill": {
              "color": "#C8D4E3"
             },
             "line": {
              "color": "white"
             }
            },
            "type": "table"
           }
          ]
         },
         "layout": {
          "annotationdefaults": {
           "arrowcolor": "#2a3f5f",
           "arrowhead": 0,
           "arrowwidth": 1
          },
          "autotypenumbers": "strict",
          "coloraxis": {
           "colorbar": {
            "outlinewidth": 0,
            "ticks": ""
           }
          },
          "colorscale": {
           "diverging": [
            [
             0,
             "#8e0152"
            ],
            [
             0.1,
             "#c51b7d"
            ],
            [
             0.2,
             "#de77ae"
            ],
            [
             0.3,
             "#f1b6da"
            ],
            [
             0.4,
             "#fde0ef"
            ],
            [
             0.5,
             "#f7f7f7"
            ],
            [
             0.6,
             "#e6f5d0"
            ],
            [
             0.7,
             "#b8e186"
            ],
            [
             0.8,
             "#7fbc41"
            ],
            [
             0.9,
             "#4d9221"
            ],
            [
             1,
             "#276419"
            ]
           ],
           "sequential": [
            [
             0,
             "#0d0887"
            ],
            [
             0.1111111111111111,
             "#46039f"
            ],
            [
             0.2222222222222222,
             "#7201a8"
            ],
            [
             0.3333333333333333,
             "#9c179e"
            ],
            [
             0.4444444444444444,
             "#bd3786"
            ],
            [
             0.5555555555555556,
             "#d8576b"
            ],
            [
             0.6666666666666666,
             "#ed7953"
            ],
            [
             0.7777777777777778,
             "#fb9f3a"
            ],
            [
             0.8888888888888888,
             "#fdca26"
            ],
            [
             1,
             "#f0f921"
            ]
           ],
           "sequentialminus": [
            [
             0,
             "#0d0887"
            ],
            [
             0.1111111111111111,
             "#46039f"
            ],
            [
             0.2222222222222222,
             "#7201a8"
            ],
            [
             0.3333333333333333,
             "#9c179e"
            ],
            [
             0.4444444444444444,
             "#bd3786"
            ],
            [
             0.5555555555555556,
             "#d8576b"
            ],
            [
             0.6666666666666666,
             "#ed7953"
            ],
            [
             0.7777777777777778,
             "#fb9f3a"
            ],
            [
             0.8888888888888888,
             "#fdca26"
            ],
            [
             1,
             "#f0f921"
            ]
           ]
          },
          "colorway": [
           "#636efa",
           "#EF553B",
           "#00cc96",
           "#ab63fa",
           "#FFA15A",
           "#19d3f3",
           "#FF6692",
           "#B6E880",
           "#FF97FF",
           "#FECB52"
          ],
          "font": {
           "color": "#2a3f5f"
          },
          "geo": {
           "bgcolor": "white",
           "lakecolor": "white",
           "landcolor": "#E5ECF6",
           "showlakes": true,
           "showland": true,
           "subunitcolor": "white"
          },
          "hoverlabel": {
           "align": "left"
          },
          "hovermode": "closest",
          "mapbox": {
           "style": "light"
          },
          "paper_bgcolor": "white",
          "plot_bgcolor": "#E5ECF6",
          "polar": {
           "angularaxis": {
            "gridcolor": "white",
            "linecolor": "white",
            "ticks": ""
           },
           "bgcolor": "#E5ECF6",
           "radialaxis": {
            "gridcolor": "white",
            "linecolor": "white",
            "ticks": ""
           }
          },
          "scene": {
           "xaxis": {
            "backgroundcolor": "#E5ECF6",
            "gridcolor": "white",
            "gridwidth": 2,
            "linecolor": "white",
            "showbackground": true,
            "ticks": "",
            "zerolinecolor": "white"
           },
           "yaxis": {
            "backgroundcolor": "#E5ECF6",
            "gridcolor": "white",
            "gridwidth": 2,
            "linecolor": "white",
            "showbackground": true,
            "ticks": "",
            "zerolinecolor": "white"
           },
           "zaxis": {
            "backgroundcolor": "#E5ECF6",
            "gridcolor": "white",
            "gridwidth": 2,
            "linecolor": "white",
            "showbackground": true,
            "ticks": "",
            "zerolinecolor": "white"
           }
          },
          "shapedefaults": {
           "line": {
            "color": "#2a3f5f"
           }
          },
          "ternary": {
           "aaxis": {
            "gridcolor": "white",
            "linecolor": "white",
            "ticks": ""
           },
           "baxis": {
            "gridcolor": "white",
            "linecolor": "white",
            "ticks": ""
           },
           "bgcolor": "#E5ECF6",
           "caxis": {
            "gridcolor": "white",
            "linecolor": "white",
            "ticks": ""
           }
          },
          "title": {
           "x": 0.05
          },
          "xaxis": {
           "automargin": true,
           "gridcolor": "white",
           "linecolor": "white",
           "ticks": "",
           "title": {
            "standoff": 15
           },
           "zerolinecolor": "white",
           "zerolinewidth": 2
          },
          "yaxis": {
           "automargin": true,
           "gridcolor": "white",
           "linecolor": "white",
           "ticks": "",
           "title": {
            "standoff": 15
           },
           "zerolinecolor": "white",
           "zerolinewidth": 2
          }
         }
        }
       }
      },
      "text/html": [
       "<div>                            <div id=\"cf6bb283-2037-497c-a680-5568b9cdfffa\" class=\"plotly-graph-div\" style=\"height:525px; width:100%;\"></div>            <script type=\"text/javascript\">                require([\"plotly\"], function(Plotly) {                    window.PLOTLYENV=window.PLOTLYENV || {};                                    if (document.getElementById(\"cf6bb283-2037-497c-a680-5568b9cdfffa\")) {                    Plotly.newPlot(                        \"cf6bb283-2037-497c-a680-5568b9cdfffa\",                        [{\"colorscale\":[[0.0,\"#636efa\"],[1.0,\"#636efa\"]],\"geo\":\"geo\",\"hovertemplate\":\"\\u003cb\\u003e%{hovertext}\\u003c\\u002fb\\u003e\\u003cbr\\u003e\\u003cbr\\u003efsi_category=Warning\\u003cbr\\u003eiso3=%{location}\\u003cextra\\u003e\\u003c\\u002fextra\\u003e\",\"hovertext\":[\"FJI\",\"FJI\",\"TZA\",\"TZA\",\"TZA\",\"KAZ\",\"KAZ\",\"KAZ\",\"UZB\",\"UZB\",\"UZB\",\"IDN\",\"IDN\",\"IDN\",\"KEN\",\"KEN\",\"KEN\",\"RUS\",\"RUS\",\"RUS\",\"ZAF\",\"ZAF\",\"ZAF\",\"LSO\",\"LSO\",\"LSO\",\"MEX\",\"MEX\",\"MEX\",\"BRA\",\"BRA\",\"BRA\",\"BOL\",\"BOL\",\"BOL\",\"PER\",\"PER\",\"PER\",\"COL\",\"COL\",\"COL\",\"NIC\",\"NIC\",\"NIC\",\"HND\",\"HND\",\"HND\",\"SLV\",\"SLV\",\"SLV\",\"GTM\",\"GTM\",\"GTM\",\"GUY\",\"GUY\",\"GUY\",\"ECU\",\"ECU\",\"ECU\",\"JAM\",\"JAM\",\"JAM\",\"NAM\",\"NAM\",\"NAM\",\"SEN\",\"SEN\",\"SEN\",\"MRT\",\"MRT\",\"BEN\",\"BEN\",\"BEN\",\"TGO\",\"TGO\",\"TGO\",\"GHA\",\"GHA\",\"GHA\",\"CIV\",\"LBR\",\"LBR\",\"LBR\",\"GAB\",\"GAB\",\"ZMB\",\"ZMB\",\"ZMB\",\"MWI\",\"MWI\",\"MWI\",\"AGO\",\"AGO\",\"AGO\",\"MDG\",\"MDG\",\"MDG\",\"TUN\",\"TUN\",\"DZA\",\"DZA\",\"DZA\",\"JOR\",\"JOR\",\"JOR\",\"KHM\",\"KHM\",\"THA\",\"THA\",\"THA\",\"IND\",\"IND\",\"IND\",\"BGD\",\"BGD\",\"BGD\",\"BTN\",\"BTN\",\"NPL\",\"NPL\",\"NPL\",\"PAK\",\"PAK\",\"PAK\",\"TJK\",\"TJK\",\"KGZ\",\"KGZ\",\"KGZ\",\"TKM\",\"TKM\",\"ARM\",\"ARM\",\"ARM\",\"BLR\",\"BLR\",\"BLR\",\"MDA\",\"MDA\",\"MDA\",\"CHN\",\"CHN\",\"CHN\",\"AZE\",\"AZE\",\"AZE\",\"GEO\",\"GEO\",\"GEO\",\"PHL\",\"PHL\",\"PHL\",\"PRY\",\"PRY\",\"PRY\",\"SAU\",\"SAU\",\"SAU\",\"MAR\",\"MAR\",\"MAR\",\"DJI\",\"RWA\",\"RWA\",\"RWA\",\"MKD\",\"MKD\",\"MKD\",\"SRB\",\"SRB\",\"SRB\"],\"locations\":[\"FJI\",\"FJI\",\"TZA\",\"TZA\",\"TZA\",\"KAZ\",\"KAZ\",\"KAZ\",\"UZB\",\"UZB\",\"UZB\",\"IDN\",\"IDN\",\"IDN\",\"KEN\",\"KEN\",\"KEN\",\"RUS\",\"RUS\",\"RUS\",\"ZAF\",\"ZAF\",\"ZAF\",\"LSO\",\"LSO\",\"LSO\",\"MEX\",\"MEX\",\"MEX\",\"BRA\",\"BRA\",\"BRA\",\"BOL\",\"BOL\",\"BOL\",\"PER\",\"PER\",\"PER\",\"COL\",\"COL\",\"COL\",\"NIC\",\"NIC\",\"NIC\",\"HND\",\"HND\",\"HND\",\"SLV\",\"SLV\",\"SLV\",\"GTM\",\"GTM\",\"GTM\",\"GUY\",\"GUY\",\"GUY\",\"ECU\",\"ECU\",\"ECU\",\"JAM\",\"JAM\",\"JAM\",\"NAM\",\"NAM\",\"NAM\",\"SEN\",\"SEN\",\"SEN\",\"MRT\",\"MRT\",\"BEN\",\"BEN\",\"BEN\",\"TGO\",\"TGO\",\"TGO\",\"GHA\",\"GHA\",\"GHA\",\"CIV\",\"LBR\",\"LBR\",\"LBR\",\"GAB\",\"GAB\",\"ZMB\",\"ZMB\",\"ZMB\",\"MWI\",\"MWI\",\"MWI\",\"AGO\",\"AGO\",\"AGO\",\"MDG\",\"MDG\",\"MDG\",\"TUN\",\"TUN\",\"DZA\",\"DZA\",\"DZA\",\"JOR\",\"JOR\",\"JOR\",\"KHM\",\"KHM\",\"THA\",\"THA\",\"THA\",\"IND\",\"IND\",\"IND\",\"BGD\",\"BGD\",\"BGD\",\"BTN\",\"BTN\",\"NPL\",\"NPL\",\"NPL\",\"PAK\",\"PAK\",\"PAK\",\"TJK\",\"TJK\",\"KGZ\",\"KGZ\",\"KGZ\",\"TKM\",\"TKM\",\"ARM\",\"ARM\",\"ARM\",\"BLR\",\"BLR\",\"BLR\",\"MDA\",\"MDA\",\"MDA\",\"CHN\",\"CHN\",\"CHN\",\"AZE\",\"AZE\",\"AZE\",\"GEO\",\"GEO\",\"GEO\",\"PHL\",\"PHL\",\"PHL\",\"PRY\",\"PRY\",\"PRY\",\"SAU\",\"SAU\",\"SAU\",\"MAR\",\"MAR\",\"MAR\",\"DJI\",\"RWA\",\"RWA\",\"RWA\",\"MKD\",\"MKD\",\"MKD\",\"SRB\",\"SRB\",\"SRB\"],\"name\":\"Warning\",\"showlegend\":true,\"showscale\":false,\"z\":[1,1,1,1,1,1,1,1,1,1,1,1,1,1,1,1,1,1,1,1,1,1,1,1,1,1,1,1,1,1,1,1,1,1,1,1,1,1,1,1,1,1,1,1,1,1,1,1,1,1,1,1,1,1,1,1,1,1,1,1,1,1,1,1,1,1,1,1,1,1,1,1,1,1,1,1,1,1,1,1,1,1,1,1,1,1,1,1,1,1,1,1,1,1,1,1,1,1,1,1,1,1,1,1,1,1,1,1,1,1,1,1,1,1,1,1,1,1,1,1,1,1,1,1,1,1,1,1,1,1,1,1,1,1,1,1,1,1,1,1,1,1,1,1,1,1,1,1,1,1,1,1,1,1,1,1,1,1,1,1,1,1,1,1,1,1,1,1,1,1,1],\"type\":\"choropleth\"},{\"colorscale\":[[0.0,\"#EF553B\"],[1.0,\"#EF553B\"]],\"geo\":\"geo\",\"hovertemplate\":\"\\u003cb\\u003e%{hovertext}\\u003c\\u002fb\\u003e\\u003cbr\\u003e\\u003cbr\\u003efsi_category=Sustainable\\u003cbr\\u003eiso3=%{location}\\u003cextra\\u003e\\u003c\\u002fextra\\u003e\",\"hovertext\":[\"CAN\",\"CAN\",\"NOR\",\"NOR\",\"FRA\",\"FRA\",\"FRA\",\"SWE\",\"SWE\",\"AUT\",\"AUT\",\"DEU\",\"DEU\",\"DEU\",\"CHE\",\"CHE\",\"LUX\",\"LUX\",\"NLD\",\"NLD\",\"PRT\",\"PRT\",\"IRL\",\"IRL\",\"IRL\",\"AUS\",\"AUS\",\"DNK\",\"DNK\",\"ISL\",\"ISL\",\"SVN\",\"SVN\",\"FIN\",\"FIN\"],\"locations\":[\"CAN\",\"CAN\",\"NOR\",\"NOR\",\"FRA\",\"FRA\",\"FRA\",\"SWE\",\"SWE\",\"AUT\",\"AUT\",\"DEU\",\"DEU\",\"DEU\",\"CHE\",\"CHE\",\"LUX\",\"LUX\",\"NLD\",\"NLD\",\"PRT\",\"PRT\",\"IRL\",\"IRL\",\"IRL\",\"AUS\",\"AUS\",\"DNK\",\"DNK\",\"ISL\",\"ISL\",\"SVN\",\"SVN\",\"FIN\",\"FIN\"],\"name\":\"Sustainable\",\"showlegend\":true,\"showscale\":false,\"z\":[1,1,1,1,1,1,1,1,1,1,1,1,1,1,1,1,1,1,1,1,1,1,1,1,1,1,1,1,1,1,1,1,1,1,1],\"type\":\"choropleth\"},{\"colorscale\":[[0.0,\"#00cc96\"],[1.0,\"#00cc96\"]],\"geo\":\"geo\",\"hovertemplate\":\"\\u003cb\\u003e%{hovertext}\\u003c\\u002fb\\u003e\\u003cbr\\u003e\\u003cbr\\u003efsi_category=Stable\\u003cbr\\u003eiso3=%{location}\\u003cextra\\u003e\\u003c\\u002fextra\\u003e\",\"hovertext\":[\"USA\",\"USA\",\"USA\",\"ARG\",\"ARG\",\"ARG\",\"CHL\",\"CHL\",\"CHL\",\"URY\",\"URY\",\"PAN\",\"PAN\",\"BLZ\",\"BLZ\",\"BLZ\",\"SUR\",\"SUR\",\"CUB\",\"CUB\",\"CUB\",\"BWA\",\"BWA\",\"BWA\",\"ISR\",\"ISR\",\"ISR\",\"QAT\",\"QAT\",\"KWT\",\"KWT\",\"OMN\",\"OMN\",\"VNM\",\"VNM\",\"MNG\",\"MNG\",\"POL\",\"POL\",\"HUN\",\"HUN\",\"HUN\",\"ROU\",\"ROU\",\"LTU\",\"LTU\",\"LVA\",\"LVA\",\"EST\",\"EST\",\"BGR\",\"BGR\",\"GRC\",\"GRC\",\"GRC\",\"ALB\",\"ALB\",\"HRV\",\"HRV\",\"BEL\",\"BEL\",\"ESP\",\"ESP\",\"ESP\",\"ITA\",\"ITA\",\"ITA\",\"GBR\",\"GBR\",\"MYS\",\"MYS\",\"BRN\",\"BRN\",\"SVK\",\"SVK\",\"CZE\",\"CZE\",\"CZE\",\"JPN\",\"JPN\",\"CYP\",\"CYP\",\"CYP\",\"MNE\",\"MNE\",\"TTO\",\"TTO\",\"TTO\"],\"locations\":[\"USA\",\"USA\",\"USA\",\"ARG\",\"ARG\",\"ARG\",\"CHL\",\"CHL\",\"CHL\",\"URY\",\"URY\",\"PAN\",\"PAN\",\"BLZ\",\"BLZ\",\"BLZ\",\"SUR\",\"SUR\",\"CUB\",\"CUB\",\"CUB\",\"BWA\",\"BWA\",\"BWA\",\"ISR\",\"ISR\",\"ISR\",\"QAT\",\"QAT\",\"KWT\",\"KWT\",\"OMN\",\"OMN\",\"VNM\",\"VNM\",\"MNG\",\"MNG\",\"POL\",\"POL\",\"HUN\",\"HUN\",\"HUN\",\"ROU\",\"ROU\",\"LTU\",\"LTU\",\"LVA\",\"LVA\",\"EST\",\"EST\",\"BGR\",\"BGR\",\"GRC\",\"GRC\",\"GRC\",\"ALB\",\"ALB\",\"HRV\",\"HRV\",\"BEL\",\"BEL\",\"ESP\",\"ESP\",\"ESP\",\"ITA\",\"ITA\",\"ITA\",\"GBR\",\"GBR\",\"MYS\",\"MYS\",\"BRN\",\"BRN\",\"SVK\",\"SVK\",\"CZE\",\"CZE\",\"CZE\",\"JPN\",\"JPN\",\"CYP\",\"CYP\",\"CYP\",\"MNE\",\"MNE\",\"TTO\",\"TTO\",\"TTO\"],\"name\":\"Stable\",\"showlegend\":true,\"showscale\":false,\"z\":[1,1,1,1,1,1,1,1,1,1,1,1,1,1,1,1,1,1,1,1,1,1,1,1,1,1,1,1,1,1,1,1,1,1,1,1,1,1,1,1,1,1,1,1,1,1,1,1,1,1,1,1,1,1,1,1,1,1,1,1,1,1,1,1,1,1,1,1,1,1,1,1,1,1,1,1,1,1,1,1,1,1,1,1,1,1,1,1],\"type\":\"choropleth\"},{\"colorscale\":[[0.0,\"#ab63fa\"],[1.0,\"#ab63fa\"]],\"geo\":\"geo\",\"hovertemplate\":\"\\u003cb\\u003e%{hovertext}\\u003c\\u002fb\\u003e\\u003cbr\\u003e\\u003cbr\\u003efsi_category=Alert\\u003cbr\\u003eiso3=%{location}\\u003cextra\\u003e\\u003c\\u002fextra\\u003e\",\"hovertext\":[\"SOM\",\"SOM\",\"SOM\",\"SDN\",\"SDN\",\"SDN\",\"TCD\",\"TCD\",\"TCD\",\"HTI\",\"HTI\",\"HTI\",\"ZWE\",\"ZWE\",\"ZWE\",\"MLI\",\"MLI\",\"MLI\",\"NER\",\"NER\",\"NER\",\"NGA\",\"NGA\",\"NGA\",\"CMR\",\"CMR\",\"CMR\",\"GIN\",\"GIN\",\"GIN\",\"BFA\",\"BFA\",\"BFA\",\"MOZ\",\"MOZ\",\"MOZ\",\"BDI\",\"BDI\",\"LBN\",\"LBN\",\"LBN\",\"IRQ\",\"IRQ\",\"IRQ\",\"MMR\",\"MMR\",\"MMR\",\"AFG\",\"AFG\",\"AFG\",\"SYR\",\"SYR\",\"SYR\",\"UKR\",\"UKR\",\"UKR\",\"LKA\",\"LKA\",\"LKA\",\"ERI\",\"ERI\",\"LBY\",\"LBY\",\"LBY\",\"ETH\",\"ETH\",\"ETH\",\"UGA\",\"UGA\",\"UGA\"],\"locations\":[\"SOM\",\"SOM\",\"SOM\",\"SDN\",\"SDN\",\"SDN\",\"TCD\",\"TCD\",\"TCD\",\"HTI\",\"HTI\",\"HTI\",\"ZWE\",\"ZWE\",\"ZWE\",\"MLI\",\"MLI\",\"MLI\",\"NER\",\"NER\",\"NER\",\"NGA\",\"NGA\",\"NGA\",\"CMR\",\"CMR\",\"CMR\",\"GIN\",\"GIN\",\"GIN\",\"BFA\",\"BFA\",\"BFA\",\"MOZ\",\"MOZ\",\"MOZ\",\"BDI\",\"BDI\",\"LBN\",\"LBN\",\"LBN\",\"IRQ\",\"IRQ\",\"IRQ\",\"MMR\",\"MMR\",\"MMR\",\"AFG\",\"AFG\",\"AFG\",\"SYR\",\"SYR\",\"SYR\",\"UKR\",\"UKR\",\"UKR\",\"LKA\",\"LKA\",\"LKA\",\"ERI\",\"ERI\",\"LBY\",\"LBY\",\"LBY\",\"ETH\",\"ETH\",\"ETH\",\"UGA\",\"UGA\",\"UGA\"],\"name\":\"Alert\",\"showlegend\":true,\"showscale\":false,\"z\":[1,1,1,1,1,1,1,1,1,1,1,1,1,1,1,1,1,1,1,1,1,1,1,1,1,1,1,1,1,1,1,1,1,1,1,1,1,1,1,1,1,1,1,1,1,1,1,1,1,1,1,1,1,1,1,1,1,1,1,1,1,1,1,1,1,1,1,1,1,1],\"type\":\"choropleth\"}],                        {\"template\":{\"data\":{\"histogram2dcontour\":[{\"type\":\"histogram2dcontour\",\"colorbar\":{\"outlinewidth\":0,\"ticks\":\"\"},\"colorscale\":[[0.0,\"#0d0887\"],[0.1111111111111111,\"#46039f\"],[0.2222222222222222,\"#7201a8\"],[0.3333333333333333,\"#9c179e\"],[0.4444444444444444,\"#bd3786\"],[0.5555555555555556,\"#d8576b\"],[0.6666666666666666,\"#ed7953\"],[0.7777777777777778,\"#fb9f3a\"],[0.8888888888888888,\"#fdca26\"],[1.0,\"#f0f921\"]]}],\"choropleth\":[{\"type\":\"choropleth\",\"colorbar\":{\"outlinewidth\":0,\"ticks\":\"\"}}],\"histogram2d\":[{\"type\":\"histogram2d\",\"colorbar\":{\"outlinewidth\":0,\"ticks\":\"\"},\"colorscale\":[[0.0,\"#0d0887\"],[0.1111111111111111,\"#46039f\"],[0.2222222222222222,\"#7201a8\"],[0.3333333333333333,\"#9c179e\"],[0.4444444444444444,\"#bd3786\"],[0.5555555555555556,\"#d8576b\"],[0.6666666666666666,\"#ed7953\"],[0.7777777777777778,\"#fb9f3a\"],[0.8888888888888888,\"#fdca26\"],[1.0,\"#f0f921\"]]}],\"heatmap\":[{\"type\":\"heatmap\",\"colorbar\":{\"outlinewidth\":0,\"ticks\":\"\"},\"colorscale\":[[0.0,\"#0d0887\"],[0.1111111111111111,\"#46039f\"],[0.2222222222222222,\"#7201a8\"],[0.3333333333333333,\"#9c179e\"],[0.4444444444444444,\"#bd3786\"],[0.5555555555555556,\"#d8576b\"],[0.6666666666666666,\"#ed7953\"],[0.7777777777777778,\"#fb9f3a\"],[0.8888888888888888,\"#fdca26\"],[1.0,\"#f0f921\"]]}],\"heatmapgl\":[{\"type\":\"heatmapgl\",\"colorbar\":{\"outlinewidth\":0,\"ticks\":\"\"},\"colorscale\":[[0.0,\"#0d0887\"],[0.1111111111111111,\"#46039f\"],[0.2222222222222222,\"#7201a8\"],[0.3333333333333333,\"#9c179e\"],[0.4444444444444444,\"#bd3786\"],[0.5555555555555556,\"#d8576b\"],[0.6666666666666666,\"#ed7953\"],[0.7777777777777778,\"#fb9f3a\"],[0.8888888888888888,\"#fdca26\"],[1.0,\"#f0f921\"]]}],\"contourcarpet\":[{\"type\":\"contourcarpet\",\"colorbar\":{\"outlinewidth\":0,\"ticks\":\"\"}}],\"contour\":[{\"type\":\"contour\",\"colorbar\":{\"outlinewidth\":0,\"ticks\":\"\"},\"colorscale\":[[0.0,\"#0d0887\"],[0.1111111111111111,\"#46039f\"],[0.2222222222222222,\"#7201a8\"],[0.3333333333333333,\"#9c179e\"],[0.4444444444444444,\"#bd3786\"],[0.5555555555555556,\"#d8576b\"],[0.6666666666666666,\"#ed7953\"],[0.7777777777777778,\"#fb9f3a\"],[0.8888888888888888,\"#fdca26\"],[1.0,\"#f0f921\"]]}],\"surface\":[{\"type\":\"surface\",\"colorbar\":{\"outlinewidth\":0,\"ticks\":\"\"},\"colorscale\":[[0.0,\"#0d0887\"],[0.1111111111111111,\"#46039f\"],[0.2222222222222222,\"#7201a8\"],[0.3333333333333333,\"#9c179e\"],[0.4444444444444444,\"#bd3786\"],[0.5555555555555556,\"#d8576b\"],[0.6666666666666666,\"#ed7953\"],[0.7777777777777778,\"#fb9f3a\"],[0.8888888888888888,\"#fdca26\"],[1.0,\"#f0f921\"]]}],\"mesh3d\":[{\"type\":\"mesh3d\",\"colorbar\":{\"outlinewidth\":0,\"ticks\":\"\"}}],\"scatter\":[{\"fillpattern\":{\"fillmode\":\"overlay\",\"size\":10,\"solidity\":0.2},\"type\":\"scatter\"}],\"parcoords\":[{\"type\":\"parcoords\",\"line\":{\"colorbar\":{\"outlinewidth\":0,\"ticks\":\"\"}}}],\"scatterpolargl\":[{\"type\":\"scatterpolargl\",\"marker\":{\"colorbar\":{\"outlinewidth\":0,\"ticks\":\"\"}}}],\"bar\":[{\"error_x\":{\"color\":\"#2a3f5f\"},\"error_y\":{\"color\":\"#2a3f5f\"},\"marker\":{\"line\":{\"color\":\"#E5ECF6\",\"width\":0.5},\"pattern\":{\"fillmode\":\"overlay\",\"size\":10,\"solidity\":0.2}},\"type\":\"bar\"}],\"scattergeo\":[{\"type\":\"scattergeo\",\"marker\":{\"colorbar\":{\"outlinewidth\":0,\"ticks\":\"\"}}}],\"scatterpolar\":[{\"type\":\"scatterpolar\",\"marker\":{\"colorbar\":{\"outlinewidth\":0,\"ticks\":\"\"}}}],\"histogram\":[{\"marker\":{\"pattern\":{\"fillmode\":\"overlay\",\"size\":10,\"solidity\":0.2}},\"type\":\"histogram\"}],\"scattergl\":[{\"type\":\"scattergl\",\"marker\":{\"colorbar\":{\"outlinewidth\":0,\"ticks\":\"\"}}}],\"scatter3d\":[{\"type\":\"scatter3d\",\"line\":{\"colorbar\":{\"outlinewidth\":0,\"ticks\":\"\"}},\"marker\":{\"colorbar\":{\"outlinewidth\":0,\"ticks\":\"\"}}}],\"scattermapbox\":[{\"type\":\"scattermapbox\",\"marker\":{\"colorbar\":{\"outlinewidth\":0,\"ticks\":\"\"}}}],\"scatterternary\":[{\"type\":\"scatterternary\",\"marker\":{\"colorbar\":{\"outlinewidth\":0,\"ticks\":\"\"}}}],\"scattercarpet\":[{\"type\":\"scattercarpet\",\"marker\":{\"colorbar\":{\"outlinewidth\":0,\"ticks\":\"\"}}}],\"carpet\":[{\"aaxis\":{\"endlinecolor\":\"#2a3f5f\",\"gridcolor\":\"white\",\"linecolor\":\"white\",\"minorgridcolor\":\"white\",\"startlinecolor\":\"#2a3f5f\"},\"baxis\":{\"endlinecolor\":\"#2a3f5f\",\"gridcolor\":\"white\",\"linecolor\":\"white\",\"minorgridcolor\":\"white\",\"startlinecolor\":\"#2a3f5f\"},\"type\":\"carpet\"}],\"table\":[{\"cells\":{\"fill\":{\"color\":\"#EBF0F8\"},\"line\":{\"color\":\"white\"}},\"header\":{\"fill\":{\"color\":\"#C8D4E3\"},\"line\":{\"color\":\"white\"}},\"type\":\"table\"}],\"barpolar\":[{\"marker\":{\"line\":{\"color\":\"#E5ECF6\",\"width\":0.5},\"pattern\":{\"fillmode\":\"overlay\",\"size\":10,\"solidity\":0.2}},\"type\":\"barpolar\"}],\"pie\":[{\"automargin\":true,\"type\":\"pie\"}]},\"layout\":{\"autotypenumbers\":\"strict\",\"colorway\":[\"#636efa\",\"#EF553B\",\"#00cc96\",\"#ab63fa\",\"#FFA15A\",\"#19d3f3\",\"#FF6692\",\"#B6E880\",\"#FF97FF\",\"#FECB52\"],\"font\":{\"color\":\"#2a3f5f\"},\"hovermode\":\"closest\",\"hoverlabel\":{\"align\":\"left\"},\"paper_bgcolor\":\"white\",\"plot_bgcolor\":\"#E5ECF6\",\"polar\":{\"bgcolor\":\"#E5ECF6\",\"angularaxis\":{\"gridcolor\":\"white\",\"linecolor\":\"white\",\"ticks\":\"\"},\"radialaxis\":{\"gridcolor\":\"white\",\"linecolor\":\"white\",\"ticks\":\"\"}},\"ternary\":{\"bgcolor\":\"#E5ECF6\",\"aaxis\":{\"gridcolor\":\"white\",\"linecolor\":\"white\",\"ticks\":\"\"},\"baxis\":{\"gridcolor\":\"white\",\"linecolor\":\"white\",\"ticks\":\"\"},\"caxis\":{\"gridcolor\":\"white\",\"linecolor\":\"white\",\"ticks\":\"\"}},\"coloraxis\":{\"colorbar\":{\"outlinewidth\":0,\"ticks\":\"\"}},\"colorscale\":{\"sequential\":[[0.0,\"#0d0887\"],[0.1111111111111111,\"#46039f\"],[0.2222222222222222,\"#7201a8\"],[0.3333333333333333,\"#9c179e\"],[0.4444444444444444,\"#bd3786\"],[0.5555555555555556,\"#d8576b\"],[0.6666666666666666,\"#ed7953\"],[0.7777777777777778,\"#fb9f3a\"],[0.8888888888888888,\"#fdca26\"],[1.0,\"#f0f921\"]],\"sequentialminus\":[[0.0,\"#0d0887\"],[0.1111111111111111,\"#46039f\"],[0.2222222222222222,\"#7201a8\"],[0.3333333333333333,\"#9c179e\"],[0.4444444444444444,\"#bd3786\"],[0.5555555555555556,\"#d8576b\"],[0.6666666666666666,\"#ed7953\"],[0.7777777777777778,\"#fb9f3a\"],[0.8888888888888888,\"#fdca26\"],[1.0,\"#f0f921\"]],\"diverging\":[[0,\"#8e0152\"],[0.1,\"#c51b7d\"],[0.2,\"#de77ae\"],[0.3,\"#f1b6da\"],[0.4,\"#fde0ef\"],[0.5,\"#f7f7f7\"],[0.6,\"#e6f5d0\"],[0.7,\"#b8e186\"],[0.8,\"#7fbc41\"],[0.9,\"#4d9221\"],[1,\"#276419\"]]},\"xaxis\":{\"gridcolor\":\"white\",\"linecolor\":\"white\",\"ticks\":\"\",\"title\":{\"standoff\":15},\"zerolinecolor\":\"white\",\"automargin\":true,\"zerolinewidth\":2},\"yaxis\":{\"gridcolor\":\"white\",\"linecolor\":\"white\",\"ticks\":\"\",\"title\":{\"standoff\":15},\"zerolinecolor\":\"white\",\"automargin\":true,\"zerolinewidth\":2},\"scene\":{\"xaxis\":{\"backgroundcolor\":\"#E5ECF6\",\"gridcolor\":\"white\",\"linecolor\":\"white\",\"showbackground\":true,\"ticks\":\"\",\"zerolinecolor\":\"white\",\"gridwidth\":2},\"yaxis\":{\"backgroundcolor\":\"#E5ECF6\",\"gridcolor\":\"white\",\"linecolor\":\"white\",\"showbackground\":true,\"ticks\":\"\",\"zerolinecolor\":\"white\",\"gridwidth\":2},\"zaxis\":{\"backgroundcolor\":\"#E5ECF6\",\"gridcolor\":\"white\",\"linecolor\":\"white\",\"showbackground\":true,\"ticks\":\"\",\"zerolinecolor\":\"white\",\"gridwidth\":2}},\"shapedefaults\":{\"line\":{\"color\":\"#2a3f5f\"}},\"annotationdefaults\":{\"arrowcolor\":\"#2a3f5f\",\"arrowhead\":0,\"arrowwidth\":1},\"geo\":{\"bgcolor\":\"white\",\"landcolor\":\"#E5ECF6\",\"subunitcolor\":\"white\",\"showland\":true,\"showlakes\":true,\"lakecolor\":\"white\"},\"title\":{\"x\":0.05},\"mapbox\":{\"style\":\"light\"}}},\"geo\":{\"domain\":{\"x\":[0.0,1.0],\"y\":[0.0,1.0]},\"center\":{}},\"legend\":{\"title\":{\"text\":\"fsi_category\"},\"tracegroupgap\":0},\"margin\":{\"t\":60}},                        {\"responsive\": true}                    ).then(function(){\n",
       "                            \n",
       "var gd = document.getElementById('cf6bb283-2037-497c-a680-5568b9cdfffa');\n",
       "var x = new MutationObserver(function (mutations, observer) {{\n",
       "        var display = window.getComputedStyle(gd).display;\n",
       "        if (!display || display === 'none') {{\n",
       "            console.log([gd, 'removed!']);\n",
       "            Plotly.purge(gd);\n",
       "            observer.disconnect();\n",
       "        }}\n",
       "}});\n",
       "\n",
       "// Listen for the removal of the full notebook cells\n",
       "var notebookContainer = gd.closest('#notebook-container');\n",
       "if (notebookContainer) {{\n",
       "    x.observe(notebookContainer, {childList: true});\n",
       "}}\n",
       "\n",
       "// Listen for the clearing of the current output cell\n",
       "var outputEl = gd.closest('.output');\n",
       "if (outputEl) {{\n",
       "    x.observe(outputEl, {childList: true});\n",
       "}}\n",
       "\n",
       "                        })                };                });            </script>        </div>"
      ]
     },
     "metadata": {},
     "output_type": "display_data"
    }
   ],
   "source": [
    "import plotly.express as px\n",
    "\n",
    "fig = px.choropleth(df, \n",
    "                    locations='iso3',\n",
    "                    color='fsi_category',\n",
    "                    hover_name='iso3',\n",
    "                    color_continuous_scale=px.colors.sequential.Plasma)\n",
    "fig.show()"
   ]
  },
  {
   "cell_type": "markdown",
   "id": "6ae50fb4",
   "metadata": {},
   "source": [
    "# ***HYPOTHESIS TEST*** $1$\n",
    "### (between all three models)\n",
    "\n",
    "\n",
    "We believe that the probability that all three models should accurately predict a true positive (correctly predicted escalation) or a true negative (correctly predicted no escalation) for the fsi category 'sustainable' is 0.5. This is because the model will either have to choose if a country has conflict escalation (positive) or no escalation (negative) and therefore, has a 0.5 chance that it is true and a 0.5 chance it is false. \n",
    "\n",
    "- Let t be 'correctly predicted escalation and no escalation' under **transformer** model for fsi category 'Sustainable'\n",
    "- Let f be 'correctly predicted escalation and no escalation' under **ffnn** model for fsi category 'Sustainable' \n",
    "- Let x be 'correctly predicted escalation and no escalation' under **xgboost** model for fsi category 'Sustainable'\n",
    "- Let c be 'correctly predicted escalation and no escalation' under **all three models** for fsi category 'Sustainable'\n",
    "\n",
    "$H_0: p_c = p_t + p_f + p_x = 0.5$\n",
    "\n",
    "$H_1$: Not $H_0$"
   ]
  },
  {
   "cell_type": "code",
   "execution_count": 25,
   "id": "8955b55f",
   "metadata": {},
   "outputs": [
    {
     "data": {
      "text/plain": [
       "Warning        171\n",
       "Stable          88\n",
       "Alert           70\n",
       "Sustainable     35\n",
       "Name: fsi_category, dtype: int64"
      ]
     },
     "execution_count": 25,
     "metadata": {},
     "output_type": "execute_result"
    }
   ],
   "source": [
    "df.fsi_category.value_counts() #to count the number of countries with sustainable fsi_category"
   ]
  },
  {
   "cell_type": "markdown",
   "id": "2d33e2fc",
   "metadata": {},
   "source": [
    "## To Calculate ($p_t$): The Proportion of 'Correctly Predicted Escalation and No Escalation under transformer model for fsi category 'Sustainable' "
   ]
  },
  {
   "cell_type": "code",
   "execution_count": 26,
   "id": "38ebed8a",
   "metadata": {},
   "outputs": [
    {
     "data": {
      "text/html": [
       "<div>\n",
       "<style scoped>\n",
       "    .dataframe tbody tr th:only-of-type {\n",
       "        vertical-align: middle;\n",
       "    }\n",
       "\n",
       "    .dataframe tbody tr th {\n",
       "        vertical-align: top;\n",
       "    }\n",
       "\n",
       "    .dataframe thead th {\n",
       "        text-align: right;\n",
       "    }\n",
       "</style>\n",
       "<table border=\"1\" class=\"dataframe\">\n",
       "  <thead>\n",
       "    <tr style=\"text-align: right;\">\n",
       "      <th></th>\n",
       "      <th>y_true_transformer</th>\n",
       "      <th>y_pred_transformer</th>\n",
       "      <th>transformer_classification_performance_outcome</th>\n",
       "    </tr>\n",
       "  </thead>\n",
       "  <tbody>\n",
       "    <tr>\n",
       "      <th>0</th>\n",
       "      <td>False</td>\n",
       "      <td>False</td>\n",
       "      <td>0.5</td>\n",
       "    </tr>\n",
       "    <tr>\n",
       "      <th>1</th>\n",
       "      <td>False</td>\n",
       "      <td>False</td>\n",
       "      <td>0.5</td>\n",
       "    </tr>\n",
       "    <tr>\n",
       "      <th>2</th>\n",
       "      <td>False</td>\n",
       "      <td>False</td>\n",
       "      <td>0.5</td>\n",
       "    </tr>\n",
       "    <tr>\n",
       "      <th>3</th>\n",
       "      <td>False</td>\n",
       "      <td>False</td>\n",
       "      <td>0.5</td>\n",
       "    </tr>\n",
       "    <tr>\n",
       "      <th>4</th>\n",
       "      <td>True</td>\n",
       "      <td>True</td>\n",
       "      <td>0.5</td>\n",
       "    </tr>\n",
       "    <tr>\n",
       "      <th>...</th>\n",
       "      <td>...</td>\n",
       "      <td>...</td>\n",
       "      <td>...</td>\n",
       "    </tr>\n",
       "    <tr>\n",
       "      <th>359</th>\n",
       "      <td>False</td>\n",
       "      <td>False</td>\n",
       "      <td>0.5</td>\n",
       "    </tr>\n",
       "    <tr>\n",
       "      <th>360</th>\n",
       "      <td>False</td>\n",
       "      <td>False</td>\n",
       "      <td>0.5</td>\n",
       "    </tr>\n",
       "    <tr>\n",
       "      <th>361</th>\n",
       "      <td>False</td>\n",
       "      <td>True</td>\n",
       "      <td>0.5</td>\n",
       "    </tr>\n",
       "    <tr>\n",
       "      <th>362</th>\n",
       "      <td>False</td>\n",
       "      <td>True</td>\n",
       "      <td>0.5</td>\n",
       "    </tr>\n",
       "    <tr>\n",
       "      <th>363</th>\n",
       "      <td>True</td>\n",
       "      <td>True</td>\n",
       "      <td>0.5</td>\n",
       "    </tr>\n",
       "  </tbody>\n",
       "</table>\n",
       "<p>364 rows × 3 columns</p>\n",
       "</div>"
      ],
      "text/plain": [
       "     y_true_transformer  y_pred_transformer  \\\n",
       "0                 False               False   \n",
       "1                 False               False   \n",
       "2                 False               False   \n",
       "3                 False               False   \n",
       "4                  True                True   \n",
       "..                  ...                 ...   \n",
       "359               False               False   \n",
       "360               False               False   \n",
       "361               False                True   \n",
       "362               False                True   \n",
       "363                True                True   \n",
       "\n",
       "     transformer_classification_performance_outcome  \n",
       "0                                               0.5  \n",
       "1                                               0.5  \n",
       "2                                               0.5  \n",
       "3                                               0.5  \n",
       "4                                               0.5  \n",
       "..                                              ...  \n",
       "359                                             0.5  \n",
       "360                                             0.5  \n",
       "361                                             0.5  \n",
       "362                                             0.5  \n",
       "363                                             0.5  \n",
       "\n",
       "[364 rows x 3 columns]"
      ]
     },
     "execution_count": 26,
     "metadata": {},
     "output_type": "execute_result"
    }
   ],
   "source": [
    "threshold = 0.5 # using default classification threshold\n",
    "\n",
    "df_preds['transformer_classification_performance_outcome'] = 0.5\n",
    "\n",
    "tmpt = df_preds['transformer_classification_performance_outcome'].copy()\n",
    "TP_pos_pred_correct = df_preds.y_true_transformer & (df_preds.y_pred_proba_transformer>threshold)\n",
    "tmpt[TP_pos_pred_correct] = \"correctly predicted escalation\"\n",
    "TN_neg_pred_correct = (~df_preds.y_true_transformer) & (df_preds.y_pred_proba_transformer<=threshold)\n",
    "tmpt[TN_neg_pred_correct] = \"correctly predicted no escalation\"\n",
    "\n",
    "df_preds['transformer_classifcation_performance_outcome'] = tmpt\n",
    "df_preds[['y_true_transformer','y_pred_transformer','transformer_classification_performance_outcome']]"
   ]
  },
  {
   "cell_type": "code",
   "execution_count": 27,
   "id": "b318c03b",
   "metadata": {},
   "outputs": [
    {
     "data": {
      "text/plain": [
       "fsi_category  transformer_classification_performance_outcome\n",
       "Alert         correctly predicted escalation                    0.024725\n",
       "Stable        correctly predicted escalation                    0.008242\n",
       "Sustainable   correctly predicted escalation                    0.002747\n",
       "Warning       correctly predicted escalation                    0.052198\n",
       "Name: transformer_classification_performance_outcome, dtype: float64"
      ]
     },
     "execution_count": 27,
     "metadata": {},
     "output_type": "execute_result"
    }
   ],
   "source": [
    "pt_TP_pos_pred_correct = (tmpt[TP_pos_pred_correct].groupby(df.fsi_category))\n",
    "pt_TP_pos_pred_correct.value_counts()/364"
   ]
  },
  {
   "cell_type": "code",
   "execution_count": 28,
   "id": "22de435a",
   "metadata": {},
   "outputs": [
    {
     "data": {
      "text/plain": [
       "fsi_category  transformer_classification_performance_outcome\n",
       "Alert         correctly predicted no escalation                 0.065934\n",
       "Stable        correctly predicted no escalation                 0.164835\n",
       "Sustainable   correctly predicted no escalation                 0.087912\n",
       "Warning       correctly predicted no escalation                 0.211538\n",
       "Name: transformer_classification_performance_outcome, dtype: float64"
      ]
     },
     "execution_count": 28,
     "metadata": {},
     "output_type": "execute_result"
    }
   ],
   "source": [
    "pt_TN_neg_pred_correct = (tmpt[TN_neg_pred_correct].groupby(df.fsi_category))\n",
    "pt_TN_neg_pred_correct.value_counts()/364"
   ]
  },
  {
   "cell_type": "markdown",
   "id": "b5ee8cd2",
   "metadata": {},
   "source": [
    "### $p_t = 0.002747 + 0.087912 = 0.090659$\n",
    "\n",
    "Let $p_t$ be the observed proportion of true positives under the ffnn model for sustainable fsi category plus the proportion of true negatives under the transformer model for sustainable fsi category"
   ]
  },
  {
   "cell_type": "markdown",
   "id": "ab955b20",
   "metadata": {},
   "source": [
    "## To Calculate ($p_f$): The Proportion of 'Correctly Predicted Escalation and No Escalation under ffnn model for fsi category 'Sustainable' "
   ]
  },
  {
   "cell_type": "code",
   "execution_count": 29,
   "id": "1e626a43",
   "metadata": {},
   "outputs": [
    {
     "data": {
      "text/html": [
       "<div>\n",
       "<style scoped>\n",
       "    .dataframe tbody tr th:only-of-type {\n",
       "        vertical-align: middle;\n",
       "    }\n",
       "\n",
       "    .dataframe tbody tr th {\n",
       "        vertical-align: top;\n",
       "    }\n",
       "\n",
       "    .dataframe thead th {\n",
       "        text-align: right;\n",
       "    }\n",
       "</style>\n",
       "<table border=\"1\" class=\"dataframe\">\n",
       "  <thead>\n",
       "    <tr style=\"text-align: right;\">\n",
       "      <th></th>\n",
       "      <th>y_true_ffnn</th>\n",
       "      <th>y_pred_ffnn</th>\n",
       "      <th>ffnn_classification_performance_outcome</th>\n",
       "    </tr>\n",
       "  </thead>\n",
       "  <tbody>\n",
       "    <tr>\n",
       "      <th>0</th>\n",
       "      <td>False</td>\n",
       "      <td>False</td>\n",
       "      <td>0.5</td>\n",
       "    </tr>\n",
       "    <tr>\n",
       "      <th>1</th>\n",
       "      <td>False</td>\n",
       "      <td>False</td>\n",
       "      <td>0.5</td>\n",
       "    </tr>\n",
       "    <tr>\n",
       "      <th>2</th>\n",
       "      <td>False</td>\n",
       "      <td>True</td>\n",
       "      <td>0.5</td>\n",
       "    </tr>\n",
       "    <tr>\n",
       "      <th>3</th>\n",
       "      <td>False</td>\n",
       "      <td>True</td>\n",
       "      <td>0.5</td>\n",
       "    </tr>\n",
       "    <tr>\n",
       "      <th>4</th>\n",
       "      <td>True</td>\n",
       "      <td>True</td>\n",
       "      <td>0.5</td>\n",
       "    </tr>\n",
       "    <tr>\n",
       "      <th>...</th>\n",
       "      <td>...</td>\n",
       "      <td>...</td>\n",
       "      <td>...</td>\n",
       "    </tr>\n",
       "    <tr>\n",
       "      <th>359</th>\n",
       "      <td>False</td>\n",
       "      <td>False</td>\n",
       "      <td>0.5</td>\n",
       "    </tr>\n",
       "    <tr>\n",
       "      <th>360</th>\n",
       "      <td>False</td>\n",
       "      <td>False</td>\n",
       "      <td>0.5</td>\n",
       "    </tr>\n",
       "    <tr>\n",
       "      <th>361</th>\n",
       "      <td>False</td>\n",
       "      <td>False</td>\n",
       "      <td>0.5</td>\n",
       "    </tr>\n",
       "    <tr>\n",
       "      <th>362</th>\n",
       "      <td>False</td>\n",
       "      <td>False</td>\n",
       "      <td>0.5</td>\n",
       "    </tr>\n",
       "    <tr>\n",
       "      <th>363</th>\n",
       "      <td>True</td>\n",
       "      <td>False</td>\n",
       "      <td>0.5</td>\n",
       "    </tr>\n",
       "  </tbody>\n",
       "</table>\n",
       "<p>364 rows × 3 columns</p>\n",
       "</div>"
      ],
      "text/plain": [
       "     y_true_ffnn  y_pred_ffnn  ffnn_classification_performance_outcome\n",
       "0          False        False                                      0.5\n",
       "1          False        False                                      0.5\n",
       "2          False         True                                      0.5\n",
       "3          False         True                                      0.5\n",
       "4           True         True                                      0.5\n",
       "..           ...          ...                                      ...\n",
       "359        False        False                                      0.5\n",
       "360        False        False                                      0.5\n",
       "361        False        False                                      0.5\n",
       "362        False        False                                      0.5\n",
       "363         True        False                                      0.5\n",
       "\n",
       "[364 rows x 3 columns]"
      ]
     },
     "execution_count": 29,
     "metadata": {},
     "output_type": "execute_result"
    }
   ],
   "source": [
    "threshold = 0.5 # using default classification threshold\n",
    "\n",
    "df_preds['ffnn_classification_performance_outcome'] = 0.5\n",
    "\n",
    "tmpf = df_preds['ffnn_classification_performance_outcome'].copy()\n",
    "TP_pos_pred_correct = df_preds.y_true_ffnn & (df_preds.y_pred_proba_ffnn>threshold)\n",
    "tmpf[TP_pos_pred_correct] = \"correctly predicted escalation\"\n",
    "TN_neg_pred_correct = (~df_preds.y_true_ffnn) & (df_preds.y_pred_proba_ffnn<=threshold)\n",
    "tmpf[TN_neg_pred_correct] = \"correctly predicted no escalation\"\n",
    "\n",
    "df_preds['ffnn_classifcation_performance_outcome'] = tmpf\n",
    "df_preds[['y_true_ffnn','y_pred_ffnn','ffnn_classification_performance_outcome']]"
   ]
  },
  {
   "cell_type": "code",
   "execution_count": 30,
   "id": "f3aaed4f",
   "metadata": {},
   "outputs": [
    {
     "data": {
      "text/plain": [
       "fsi_category  ffnn_classification_performance_outcome\n",
       "Alert         correctly predicted escalation             0.021978\n",
       "Warning       correctly predicted escalation             0.041209\n",
       "Name: ffnn_classification_performance_outcome, dtype: float64"
      ]
     },
     "execution_count": 30,
     "metadata": {},
     "output_type": "execute_result"
    }
   ],
   "source": [
    "pf_TP_pos_pred_correct = (tmpf[TP_pos_pred_correct].groupby(df.fsi_category))\n",
    "pf_TP_pos_pred_correct.value_counts()/364"
   ]
  },
  {
   "cell_type": "code",
   "execution_count": 31,
   "id": "01e90e26",
   "metadata": {},
   "outputs": [
    {
     "data": {
      "text/plain": [
       "fsi_category  ffnn_classification_performance_outcome\n",
       "Alert         correctly predicted no escalation          0.052198\n",
       "Stable        correctly predicted no escalation          0.217033\n",
       "Sustainable   correctly predicted no escalation          0.090659\n",
       "Warning       correctly predicted no escalation          0.304945\n",
       "Name: ffnn_classification_performance_outcome, dtype: float64"
      ]
     },
     "execution_count": 31,
     "metadata": {},
     "output_type": "execute_result"
    }
   ],
   "source": [
    "pf_TN_neg_pred_correct = (tmpf[TN_neg_pred_correct].groupby(df.fsi_category))\n",
    "pf_TN_neg_pred_correct.value_counts()/364"
   ]
  },
  {
   "cell_type": "markdown",
   "id": "1b06d97b",
   "metadata": {},
   "source": [
    "### $p_f = 0 + 0.090659 = 0.090659$\n",
    "\n",
    "Let $p_f$ be the observed proportion of true positives under the ffnn model for sustainable fsi category plus the proportion of true negatives under the ffnn model for sustainable fsi category"
   ]
  },
  {
   "cell_type": "markdown",
   "id": "84c331ea",
   "metadata": {},
   "source": [
    "## To Calculate ($p_x$): The Proportion of 'Correctly Predicted Escalation and No Escalation under xgboost model for fsi category 'Sustainable' "
   ]
  },
  {
   "cell_type": "code",
   "execution_count": 32,
   "id": "d8422266",
   "metadata": {},
   "outputs": [
    {
     "data": {
      "text/html": [
       "<div>\n",
       "<style scoped>\n",
       "    .dataframe tbody tr th:only-of-type {\n",
       "        vertical-align: middle;\n",
       "    }\n",
       "\n",
       "    .dataframe tbody tr th {\n",
       "        vertical-align: top;\n",
       "    }\n",
       "\n",
       "    .dataframe thead th {\n",
       "        text-align: right;\n",
       "    }\n",
       "</style>\n",
       "<table border=\"1\" class=\"dataframe\">\n",
       "  <thead>\n",
       "    <tr style=\"text-align: right;\">\n",
       "      <th></th>\n",
       "      <th>y_true_xgboost</th>\n",
       "      <th>y_pred_xgboost</th>\n",
       "      <th>xgboost_classification_performance_outcome</th>\n",
       "    </tr>\n",
       "  </thead>\n",
       "  <tbody>\n",
       "    <tr>\n",
       "      <th>0</th>\n",
       "      <td>False</td>\n",
       "      <td>False</td>\n",
       "      <td>0.5</td>\n",
       "    </tr>\n",
       "    <tr>\n",
       "      <th>1</th>\n",
       "      <td>False</td>\n",
       "      <td>False</td>\n",
       "      <td>0.5</td>\n",
       "    </tr>\n",
       "    <tr>\n",
       "      <th>2</th>\n",
       "      <td>True</td>\n",
       "      <td>True</td>\n",
       "      <td>0.5</td>\n",
       "    </tr>\n",
       "    <tr>\n",
       "      <th>3</th>\n",
       "      <td>True</td>\n",
       "      <td>True</td>\n",
       "      <td>0.5</td>\n",
       "    </tr>\n",
       "    <tr>\n",
       "      <th>4</th>\n",
       "      <td>False</td>\n",
       "      <td>True</td>\n",
       "      <td>0.5</td>\n",
       "    </tr>\n",
       "    <tr>\n",
       "      <th>...</th>\n",
       "      <td>...</td>\n",
       "      <td>...</td>\n",
       "      <td>...</td>\n",
       "    </tr>\n",
       "    <tr>\n",
       "      <th>359</th>\n",
       "      <td>False</td>\n",
       "      <td>False</td>\n",
       "      <td>0.5</td>\n",
       "    </tr>\n",
       "    <tr>\n",
       "      <th>360</th>\n",
       "      <td>False</td>\n",
       "      <td>False</td>\n",
       "      <td>0.5</td>\n",
       "    </tr>\n",
       "    <tr>\n",
       "      <th>361</th>\n",
       "      <td>True</td>\n",
       "      <td>True</td>\n",
       "      <td>0.5</td>\n",
       "    </tr>\n",
       "    <tr>\n",
       "      <th>362</th>\n",
       "      <td>False</td>\n",
       "      <td>True</td>\n",
       "      <td>0.5</td>\n",
       "    </tr>\n",
       "    <tr>\n",
       "      <th>363</th>\n",
       "      <td>False</td>\n",
       "      <td>True</td>\n",
       "      <td>0.5</td>\n",
       "    </tr>\n",
       "  </tbody>\n",
       "</table>\n",
       "<p>364 rows × 3 columns</p>\n",
       "</div>"
      ],
      "text/plain": [
       "     y_true_xgboost  y_pred_xgboost  \\\n",
       "0             False           False   \n",
       "1             False           False   \n",
       "2              True            True   \n",
       "3              True            True   \n",
       "4             False            True   \n",
       "..              ...             ...   \n",
       "359           False           False   \n",
       "360           False           False   \n",
       "361            True            True   \n",
       "362           False            True   \n",
       "363           False            True   \n",
       "\n",
       "     xgboost_classification_performance_outcome  \n",
       "0                                           0.5  \n",
       "1                                           0.5  \n",
       "2                                           0.5  \n",
       "3                                           0.5  \n",
       "4                                           0.5  \n",
       "..                                          ...  \n",
       "359                                         0.5  \n",
       "360                                         0.5  \n",
       "361                                         0.5  \n",
       "362                                         0.5  \n",
       "363                                         0.5  \n",
       "\n",
       "[364 rows x 3 columns]"
      ]
     },
     "execution_count": 32,
     "metadata": {},
     "output_type": "execute_result"
    }
   ],
   "source": [
    "threshold = 0.5 # using default classification threshold\n",
    "\n",
    "df_preds['xgboost_classification_performance_outcome'] = 0.5\n",
    "\n",
    "tmpx = df_preds['xgboost_classification_performance_outcome'].copy()\n",
    "TP_pos_pred_correct = df_preds.y_true_xgboost & (df_preds.y_pred_proba_xgboost>threshold)\n",
    "tmpx[TP_pos_pred_correct] = \"correctly predicted escalation\"\n",
    "TN_neg_pred_correct = (~df_preds.y_true_xgboost) & (df_preds.y_pred_proba_xgboost<=threshold)\n",
    "tmpx[TN_neg_pred_correct] = \"correctly predicted no escalation\"\n",
    "\n",
    "df_preds['xgboost_classifcation_performance_outcome'] = tmpx\n",
    "df_preds[['y_true_xgboost','y_pred_xgboost','xgboost_classification_performance_outcome']]"
   ]
  },
  {
   "cell_type": "code",
   "execution_count": 33,
   "id": "88853843",
   "metadata": {},
   "outputs": [
    {
     "data": {
      "text/plain": [
       "fsi_category  xgboost_classification_performance_outcome\n",
       "Alert         correctly predicted escalation                0.024725\n",
       "Stable        correctly predicted escalation                0.010989\n",
       "Warning       correctly predicted escalation                0.068681\n",
       "Name: xgboost_classification_performance_outcome, dtype: float64"
      ]
     },
     "execution_count": 33,
     "metadata": {},
     "output_type": "execute_result"
    }
   ],
   "source": [
    "px_TP_pos_pred_correct = (tmpx[TP_pos_pred_correct].groupby(df.fsi_category))\n",
    "px_TP_pos_pred_correct.value_counts()/364"
   ]
  },
  {
   "cell_type": "code",
   "execution_count": 34,
   "id": "0e5c6ce0",
   "metadata": {},
   "outputs": [
    {
     "data": {
      "text/plain": [
       "fsi_category  xgboost_classification_performance_outcome\n",
       "Alert         correctly predicted no escalation             0.032967\n",
       "Stable        correctly predicted no escalation             0.170330\n",
       "Sustainable   correctly predicted no escalation             0.079670\n",
       "Warning       correctly predicted no escalation             0.118132\n",
       "Name: xgboost_classification_performance_outcome, dtype: float64"
      ]
     },
     "execution_count": 34,
     "metadata": {},
     "output_type": "execute_result"
    }
   ],
   "source": [
    "px_TN_neg_pred_correct = (tmpx[TN_neg_pred_correct].groupby(df.fsi_category))\n",
    "px_TN_neg_pred_correct.value_counts()/364"
   ]
  },
  {
   "cell_type": "markdown",
   "id": "2c67ab5d",
   "metadata": {},
   "source": [
    "### $p_x = 0 + 0.079670 = 0.079670$\n",
    "\n",
    "Let $p_x$ be the observed proportion of true positives under the xgboost model for sustainable fsi category plus the proportion of true negatives under the xgboost model for sustainable fsi category"
   ]
  },
  {
   "cell_type": "markdown",
   "id": "d5507815",
   "metadata": {},
   "source": [
    "### Therefore, the observed test statistic would be the total observed proportion of true positives and true negatives for the sustainable fsi_category for all three models which is given by the equation:\n",
    "\n",
    "$p_c$ (observed) = $p_x$ (observed) + $p_f$ (observed) + $p_t$ (observed)\n",
    "\n",
    "$p_c$ (observed) = 0.079670 + 0.090659 + 0.090659\n",
    "\n",
    "$p_c$ (observed) = 0.260988"
   ]
  },
  {
   "cell_type": "code",
   "execution_count": 35,
   "id": "215fe71e",
   "metadata": {},
   "outputs": [
    {
     "data": {
      "text/plain": [
       "0.0051"
      ]
     },
     "execution_count": 35,
     "metadata": {},
     "output_type": "execute_result"
    }
   ],
   "source": [
    "simulated_samples, n = 10000, 35 #n=35 since there are 35 countries with the sustainable fsi_category (as seen in ln6)\n",
    "p_hats = [] \n",
    "p = 0.5 # Null Hypothesis assumed proportion\n",
    "np.random.seed(100) \n",
    "for i in range(simulated_samples): \n",
    "    sample = np.random.choice(['True Positive and True Negative', 'False Positive and False Negative'], size=n, replace=True, p=[p, 1-p])\n",
    "    sample_prop = (sample == 'True Positive and True Negative').sum() / n\n",
    "    p_hats.append(sample_prop)\n",
    "\n",
    "observed_test_stat = 0.260988\n",
    "p = 0.5\n",
    "num_more_extreme = (abs(np.array(p_hats) - p) >= abs(observed_test_stat - p)).sum()\n",
    "p_value = num_more_extreme / simulated_samples\n",
    "p_value"
   ]
  },
  {
   "cell_type": "markdown",
   "id": "3aa5c070",
   "metadata": {},
   "source": [
    "Therefore, since we got a **p-value of 0.0051**, this shows that there is **very strong evidence against the null** which means that the probability that all three models (xgboost, ffnn and transformer) accurately predicted escalation or no escalation is **not equal to 0.5**. In reality, it can be seen that the probability of true positives and true negatives for the fsi category 'sustainable' is approximately 0.905 (the average of the accuracy score for all three models for the given category)."
   ]
  },
  {
   "cell_type": "markdown",
   "id": "2e8a4dd5",
   "metadata": {},
   "source": [
    "# This concludes the Hypothesis Test $1$."
   ]
  },
  {
   "cell_type": "code",
   "execution_count": 55,
   "id": "ce20942e",
   "metadata": {},
   "outputs": [
    {
     "data": {
      "text/html": [
       "<style type=\"text/css\">\n",
       "#T_08754_row0_col2 {\n",
       "  background-color: #ffc0cb;\n",
       "  color: #000000;\n",
       "}\n",
       "#T_08754_row1_col2, #T_08754_row2_col2 {\n",
       "  background-color: #fdc9d2;\n",
       "  color: #000000;\n",
       "}\n",
       "#T_08754_row3_col2 {\n",
       "  background-color: #f3f0f0;\n",
       "  color: #000000;\n",
       "}\n",
       "#T_08754_row4_col2 {\n",
       "  background-color: #f4ebed;\n",
       "  color: #000000;\n",
       "}\n",
       "#T_08754_row5_col2 {\n",
       "  background-color: #f8dbe0;\n",
       "  color: #000000;\n",
       "}\n",
       "#T_08754_row6_col2 {\n",
       "  background-color: #fad2d9;\n",
       "  color: #000000;\n",
       "}\n",
       "#T_08754_row7_col2 {\n",
       "  background-color: #f6e4e7;\n",
       "  color: #000000;\n",
       "}\n",
       "#T_08754_row8_col2 {\n",
       "  background-color: #f8dadf;\n",
       "  color: #000000;\n",
       "}\n",
       "#T_08754_row9_col2 {\n",
       "  background-color: #fec3cd;\n",
       "  color: #000000;\n",
       "}\n",
       "#T_08754_row10_col2 {\n",
       "  background-color: #f6e5e8;\n",
       "  color: #000000;\n",
       "}\n",
       "#T_08754_row11_col2 {\n",
       "  background-color: #f8dce1;\n",
       "  color: #000000;\n",
       "}\n",
       "</style>\n",
       "<table id=\"T_08754\">\n",
       "  <thead>\n",
       "    <tr>\n",
       "      <th id=\"T_08754_level0_col0\" class=\"col_heading level0 col0\" >model</th>\n",
       "      <th id=\"T_08754_level0_col1\" class=\"col_heading level0 col1\" >wbi_income_group</th>\n",
       "      <th id=\"T_08754_level0_col2\" class=\"col_heading level0 col2\" >accuracy_score</th>\n",
       "    </tr>\n",
       "  </thead>\n",
       "  <tbody>\n",
       "    <tr>\n",
       "      <td id=\"T_08754_row0_col0\" class=\"data row0 col0\" >ffnn</td>\n",
       "      <td id=\"T_08754_row0_col1\" class=\"data row0 col1\" >High income</td>\n",
       "      <td id=\"T_08754_row0_col2\" class=\"data row0 col2\" >0.920</td>\n",
       "    </tr>\n",
       "    <tr>\n",
       "      <td id=\"T_08754_row1_col0\" class=\"data row1 col0\" >xgboost</td>\n",
       "      <td id=\"T_08754_row1_col1\" class=\"data row1 col1\" >High income</td>\n",
       "      <td id=\"T_08754_row1_col2\" class=\"data row1 col2\" >0.800</td>\n",
       "    </tr>\n",
       "    <tr>\n",
       "      <td id=\"T_08754_row2_col0\" class=\"data row2 col0\" >transformer</td>\n",
       "      <td id=\"T_08754_row2_col1\" class=\"data row2 col1\" >High income</td>\n",
       "      <td id=\"T_08754_row2_col2\" class=\"data row2 col2\" >0.800</td>\n",
       "    </tr>\n",
       "    <tr>\n",
       "      <td id=\"T_08754_row3_col0\" class=\"data row3 col0\" >ffnn</td>\n",
       "      <td id=\"T_08754_row3_col1\" class=\"data row3 col1\" >Low income</td>\n",
       "      <td id=\"T_08754_row3_col2\" class=\"data row3 col2\" >0.259</td>\n",
       "    </tr>\n",
       "    <tr>\n",
       "      <td id=\"T_08754_row4_col0\" class=\"data row4 col0\" >xgboost</td>\n",
       "      <td id=\"T_08754_row4_col1\" class=\"data row4 col1\" >Low income</td>\n",
       "      <td id=\"T_08754_row4_col2\" class=\"data row4 col2\" >0.328</td>\n",
       "    </tr>\n",
       "    <tr>\n",
       "      <td id=\"T_08754_row5_col0\" class=\"data row5 col0\" >transformer</td>\n",
       "      <td id=\"T_08754_row5_col1\" class=\"data row5 col1\" >Low income</td>\n",
       "      <td id=\"T_08754_row5_col2\" class=\"data row5 col2\" >0.552</td>\n",
       "    </tr>\n",
       "    <tr>\n",
       "      <td id=\"T_08754_row6_col0\" class=\"data row6 col0\" >ffnn</td>\n",
       "      <td id=\"T_08754_row6_col1\" class=\"data row6 col1\" >Lower middle income</td>\n",
       "      <td id=\"T_08754_row6_col2\" class=\"data row6 col2\" >0.667</td>\n",
       "    </tr>\n",
       "    <tr>\n",
       "      <td id=\"T_08754_row7_col0\" class=\"data row7 col0\" >xgboost</td>\n",
       "      <td id=\"T_08754_row7_col1\" class=\"data row7 col1\" >Lower middle income</td>\n",
       "      <td id=\"T_08754_row7_col2\" class=\"data row7 col2\" >0.422</td>\n",
       "    </tr>\n",
       "    <tr>\n",
       "      <td id=\"T_08754_row8_col0\" class=\"data row8 col0\" >transformer</td>\n",
       "      <td id=\"T_08754_row8_col1\" class=\"data row8 col1\" >Lower middle income</td>\n",
       "      <td id=\"T_08754_row8_col2\" class=\"data row8 col2\" >0.559</td>\n",
       "    </tr>\n",
       "    <tr>\n",
       "      <td id=\"T_08754_row9_col0\" class=\"data row9 col0\" >ffnn</td>\n",
       "      <td id=\"T_08754_row9_col1\" class=\"data row9 col1\" >Upper middle income</td>\n",
       "      <td id=\"T_08754_row9_col2\" class=\"data row9 col2\" >0.874</td>\n",
       "    </tr>\n",
       "    <tr>\n",
       "      <td id=\"T_08754_row10_col0\" class=\"data row10 col0\" >xgboost</td>\n",
       "      <td id=\"T_08754_row10_col1\" class=\"data row10 col1\" >Upper middle income</td>\n",
       "      <td id=\"T_08754_row10_col2\" class=\"data row10 col2\" >0.408</td>\n",
       "    </tr>\n",
       "    <tr>\n",
       "      <td id=\"T_08754_row11_col0\" class=\"data row11 col0\" >transformer</td>\n",
       "      <td id=\"T_08754_row11_col1\" class=\"data row11 col1\" >Upper middle income</td>\n",
       "      <td id=\"T_08754_row11_col2\" class=\"data row11 col2\" >0.534</td>\n",
       "    </tr>\n",
       "  </tbody>\n",
       "</table>\n"
      ],
      "text/plain": [
       "<pandas.io.formats.style.Styler at 0x7fb351071780>"
      ]
     },
     "execution_count": 55,
     "metadata": {},
     "output_type": "execute_result"
    }
   ],
   "source": [
    "#Visual aid for 'wbi_income_group' catagory for acuracy\n",
    "\n",
    "import numpy as np\n",
    "from sklearn import metrics\n",
    "import seaborn as sns\n",
    "\n",
    "column_defining_groups = 'wbi_income_group'\n",
    "chosen_metric = 'accuracy_score'\n",
    "\n",
    "metric_function = getattr(metrics, chosen_metric)\n",
    "\n",
    "chosen_metric_for_chosen_groups = list()\n",
    "chosen_metric_back_into_original_data = {'ffnn': pd.Series(index=df.index, dtype=np.float64), \n",
    "                                         'xgboost': pd.Series(index=df.index, dtype=np.float64), \n",
    "                                         'transformer': pd.Series(index=df.index, dtype=np.float64)}\n",
    "    \n",
    "for g, rows in df.groupby(column_defining_groups):\n",
    "    for model in ['ffnn', 'xgboost', 'transformer']:        \n",
    "        chosen_metric_value = metric_function(rows[f\"y_true_{model}\"], rows[f\"y_pred_{model}\"])\n",
    "\n",
    "        \n",
    "        chosen_metric_back_into_original_data[model][rows.index] = chosen_metric_value\n",
    "        chosen_metric_for_chosen_groups.append((model, g, chosen_metric_value))\n",
    "\n",
    "cm_bigger_better = sns.light_palette(\"pink\", as_cmap=True)\n",
    "styler = ( pd.DataFrame(chosen_metric_for_chosen_groups, \n",
    "                        columns=('model', column_defining_groups, chosen_metric))\n",
    "            .sort_values(column_defining_groups).style\n",
    "            .background_gradient(cmap=cm_bigger_better)\n",
    "            .format(precision=3).hide(axis=\"index\"))\n",
    "styler"
   ]
  },
  {
   "cell_type": "code",
   "execution_count": 56,
   "id": "390cc33f",
   "metadata": {},
   "outputs": [
    {
     "data": {
      "application/vnd.plotly.v1+json": {
       "config": {
        "plotlyServerURL": "https://plot.ly"
       },
       "data": [
        {
         "colorscale": [
          [
           0,
           "#636efa"
          ],
          [
           1,
           "#636efa"
          ]
         ],
         "geo": "geo",
         "hovertemplate": "<b>%{hovertext}</b><br><br>wbi_income_group=Upper middle income<br>iso3=%{location}<extra></extra>",
         "hovertext": [
          "FJI",
          "FJI",
          "KAZ",
          "KAZ",
          "KAZ",
          "ARG",
          "ARG",
          "ARG",
          "RUS",
          "RUS",
          "RUS",
          "ZAF",
          "ZAF",
          "ZAF",
          "MEX",
          "MEX",
          "MEX",
          "BRA",
          "BRA",
          "BRA",
          "PER",
          "PER",
          "PER",
          "COL",
          "COL",
          "COL",
          "GTM",
          "GTM",
          "GTM",
          "BLZ",
          "BLZ",
          "BLZ",
          "GUY",
          "GUY",
          "GUY",
          "SUR",
          "SUR",
          "ECU",
          "ECU",
          "ECU",
          "JAM",
          "JAM",
          "JAM",
          "CUB",
          "CUB",
          "CUB",
          "BWA",
          "BWA",
          "BWA",
          "NAM",
          "NAM",
          "NAM",
          "GAB",
          "GAB",
          "JOR",
          "JOR",
          "JOR",
          "IRQ",
          "IRQ",
          "IRQ",
          "THA",
          "THA",
          "THA",
          "TKM",
          "TKM",
          "ARM",
          "ARM",
          "ARM",
          "BLR",
          "BLR",
          "BLR",
          "MDA",
          "MDA",
          "MDA",
          "BGR",
          "BGR",
          "ALB",
          "ALB",
          "CHN",
          "CHN",
          "CHN",
          "AZE",
          "AZE",
          "AZE",
          "GEO",
          "GEO",
          "GEO",
          "MYS",
          "MYS",
          "PRY",
          "PRY",
          "PRY",
          "LBY",
          "LBY",
          "LBY",
          "MKD",
          "MKD",
          "MKD",
          "SRB",
          "SRB",
          "SRB",
          "MNE",
          "MNE"
         ],
         "locations": [
          "FJI",
          "FJI",
          "KAZ",
          "KAZ",
          "KAZ",
          "ARG",
          "ARG",
          "ARG",
          "RUS",
          "RUS",
          "RUS",
          "ZAF",
          "ZAF",
          "ZAF",
          "MEX",
          "MEX",
          "MEX",
          "BRA",
          "BRA",
          "BRA",
          "PER",
          "PER",
          "PER",
          "COL",
          "COL",
          "COL",
          "GTM",
          "GTM",
          "GTM",
          "BLZ",
          "BLZ",
          "BLZ",
          "GUY",
          "GUY",
          "GUY",
          "SUR",
          "SUR",
          "ECU",
          "ECU",
          "ECU",
          "JAM",
          "JAM",
          "JAM",
          "CUB",
          "CUB",
          "CUB",
          "BWA",
          "BWA",
          "BWA",
          "NAM",
          "NAM",
          "NAM",
          "GAB",
          "GAB",
          "JOR",
          "JOR",
          "JOR",
          "IRQ",
          "IRQ",
          "IRQ",
          "THA",
          "THA",
          "THA",
          "TKM",
          "TKM",
          "ARM",
          "ARM",
          "ARM",
          "BLR",
          "BLR",
          "BLR",
          "MDA",
          "MDA",
          "MDA",
          "BGR",
          "BGR",
          "ALB",
          "ALB",
          "CHN",
          "CHN",
          "CHN",
          "AZE",
          "AZE",
          "AZE",
          "GEO",
          "GEO",
          "GEO",
          "MYS",
          "MYS",
          "PRY",
          "PRY",
          "PRY",
          "LBY",
          "LBY",
          "LBY",
          "MKD",
          "MKD",
          "MKD",
          "SRB",
          "SRB",
          "SRB",
          "MNE",
          "MNE"
         ],
         "name": "Upper middle income",
         "showlegend": true,
         "showscale": false,
         "type": "choropleth",
         "z": [
          1,
          1,
          1,
          1,
          1,
          1,
          1,
          1,
          1,
          1,
          1,
          1,
          1,
          1,
          1,
          1,
          1,
          1,
          1,
          1,
          1,
          1,
          1,
          1,
          1,
          1,
          1,
          1,
          1,
          1,
          1,
          1,
          1,
          1,
          1,
          1,
          1,
          1,
          1,
          1,
          1,
          1,
          1,
          1,
          1,
          1,
          1,
          1,
          1,
          1,
          1,
          1,
          1,
          1,
          1,
          1,
          1,
          1,
          1,
          1,
          1,
          1,
          1,
          1,
          1,
          1,
          1,
          1,
          1,
          1,
          1,
          1,
          1,
          1,
          1,
          1,
          1,
          1,
          1,
          1,
          1,
          1,
          1,
          1,
          1,
          1,
          1,
          1,
          1,
          1,
          1,
          1,
          1,
          1,
          1,
          1,
          1,
          1,
          1,
          1,
          1,
          1,
          1
         ]
        },
        {
         "colorscale": [
          [
           0,
           "#EF553B"
          ],
          [
           1,
           "#EF553B"
          ]
         ],
         "geo": "geo",
         "hovertemplate": "<b>%{hovertext}</b><br><br>wbi_income_group=Lower middle income<br>iso3=%{location}<extra></extra>",
         "hovertext": [
          "TZA",
          "TZA",
          "TZA",
          "UZB",
          "UZB",
          "UZB",
          "IDN",
          "IDN",
          "IDN",
          "KEN",
          "KEN",
          "KEN",
          "HTI",
          "HTI",
          "HTI",
          "LSO",
          "LSO",
          "LSO",
          "BOL",
          "BOL",
          "BOL",
          "NIC",
          "NIC",
          "NIC",
          "HND",
          "HND",
          "HND",
          "SLV",
          "SLV",
          "SLV",
          "ZWE",
          "ZWE",
          "ZWE",
          "SEN",
          "SEN",
          "SEN",
          "MRT",
          "MRT",
          "BEN",
          "BEN",
          "BEN",
          "NGA",
          "NGA",
          "NGA",
          "CMR",
          "CMR",
          "CMR",
          "GHA",
          "GHA",
          "GHA",
          "AGO",
          "AGO",
          "AGO",
          "LBN",
          "LBN",
          "LBN",
          "TUN",
          "TUN",
          "DZA",
          "DZA",
          "DZA",
          "KHM",
          "KHM",
          "MMR",
          "MMR",
          "MMR",
          "VNM",
          "VNM",
          "MNG",
          "MNG",
          "IND",
          "IND",
          "IND",
          "BGD",
          "BGD",
          "BGD",
          "BTN",
          "BTN",
          "NPL",
          "NPL",
          "NPL",
          "PAK",
          "PAK",
          "PAK",
          "TJK",
          "TJK",
          "KGZ",
          "KGZ",
          "KGZ",
          "UKR",
          "UKR",
          "UKR",
          "LKA",
          "LKA",
          "LKA",
          "PHL",
          "PHL",
          "PHL",
          "MAR",
          "MAR",
          "MAR",
          "DJI"
         ],
         "locations": [
          "TZA",
          "TZA",
          "TZA",
          "UZB",
          "UZB",
          "UZB",
          "IDN",
          "IDN",
          "IDN",
          "KEN",
          "KEN",
          "KEN",
          "HTI",
          "HTI",
          "HTI",
          "LSO",
          "LSO",
          "LSO",
          "BOL",
          "BOL",
          "BOL",
          "NIC",
          "NIC",
          "NIC",
          "HND",
          "HND",
          "HND",
          "SLV",
          "SLV",
          "SLV",
          "ZWE",
          "ZWE",
          "ZWE",
          "SEN",
          "SEN",
          "SEN",
          "MRT",
          "MRT",
          "BEN",
          "BEN",
          "BEN",
          "NGA",
          "NGA",
          "NGA",
          "CMR",
          "CMR",
          "CMR",
          "GHA",
          "GHA",
          "GHA",
          "AGO",
          "AGO",
          "AGO",
          "LBN",
          "LBN",
          "LBN",
          "TUN",
          "TUN",
          "DZA",
          "DZA",
          "DZA",
          "KHM",
          "KHM",
          "MMR",
          "MMR",
          "MMR",
          "VNM",
          "VNM",
          "MNG",
          "MNG",
          "IND",
          "IND",
          "IND",
          "BGD",
          "BGD",
          "BGD",
          "BTN",
          "BTN",
          "NPL",
          "NPL",
          "NPL",
          "PAK",
          "PAK",
          "PAK",
          "TJK",
          "TJK",
          "KGZ",
          "KGZ",
          "KGZ",
          "UKR",
          "UKR",
          "UKR",
          "LKA",
          "LKA",
          "LKA",
          "PHL",
          "PHL",
          "PHL",
          "MAR",
          "MAR",
          "MAR",
          "DJI"
         ],
         "name": "Lower middle income",
         "showlegend": true,
         "showscale": false,
         "type": "choropleth",
         "z": [
          1,
          1,
          1,
          1,
          1,
          1,
          1,
          1,
          1,
          1,
          1,
          1,
          1,
          1,
          1,
          1,
          1,
          1,
          1,
          1,
          1,
          1,
          1,
          1,
          1,
          1,
          1,
          1,
          1,
          1,
          1,
          1,
          1,
          1,
          1,
          1,
          1,
          1,
          1,
          1,
          1,
          1,
          1,
          1,
          1,
          1,
          1,
          1,
          1,
          1,
          1,
          1,
          1,
          1,
          1,
          1,
          1,
          1,
          1,
          1,
          1,
          1,
          1,
          1,
          1,
          1,
          1,
          1,
          1,
          1,
          1,
          1,
          1,
          1,
          1,
          1,
          1,
          1,
          1,
          1,
          1,
          1,
          1,
          1,
          1,
          1,
          1,
          1,
          1,
          1,
          1,
          1,
          1,
          1,
          1,
          1,
          1,
          1,
          1,
          1,
          1,
          1
         ]
        },
        {
         "colorscale": [
          [
           0,
           "#00cc96"
          ],
          [
           1,
           "#00cc96"
          ]
         ],
         "geo": "geo",
         "hovertemplate": "<b>%{hovertext}</b><br><br>wbi_income_group=High income<br>iso3=%{location}<extra></extra>",
         "hovertext": [
          "CAN",
          "CAN",
          "USA",
          "USA",
          "USA",
          "CHL",
          "CHL",
          "CHL",
          "NOR",
          "NOR",
          "URY",
          "URY",
          "PAN",
          "PAN",
          "FRA",
          "FRA",
          "FRA",
          "ISR",
          "ISR",
          "ISR",
          "QAT",
          "QAT",
          "KWT",
          "KWT",
          "OMN",
          "OMN",
          "SWE",
          "SWE",
          "POL",
          "POL",
          "AUT",
          "AUT",
          "HUN",
          "HUN",
          "HUN",
          "ROU",
          "ROU",
          "LTU",
          "LTU",
          "LVA",
          "LVA",
          "EST",
          "EST",
          "DEU",
          "DEU",
          "DEU",
          "GRC",
          "GRC",
          "GRC",
          "HRV",
          "HRV",
          "CHE",
          "CHE",
          "LUX",
          "LUX",
          "BEL",
          "BEL",
          "NLD",
          "NLD",
          "PRT",
          "PRT",
          "ESP",
          "ESP",
          "ESP",
          "IRL",
          "IRL",
          "IRL",
          "AUS",
          "AUS",
          "ITA",
          "ITA",
          "ITA",
          "DNK",
          "DNK",
          "GBR",
          "GBR",
          "ISL",
          "ISL",
          "BRN",
          "BRN",
          "SVN",
          "SVN",
          "FIN",
          "FIN",
          "SVK",
          "SVK",
          "CZE",
          "CZE",
          "CZE",
          "JPN",
          "JPN",
          "SAU",
          "SAU",
          "SAU",
          "CYP",
          "CYP",
          "CYP",
          "TTO",
          "TTO",
          "TTO"
         ],
         "locations": [
          "CAN",
          "CAN",
          "USA",
          "USA",
          "USA",
          "CHL",
          "CHL",
          "CHL",
          "NOR",
          "NOR",
          "URY",
          "URY",
          "PAN",
          "PAN",
          "FRA",
          "FRA",
          "FRA",
          "ISR",
          "ISR",
          "ISR",
          "QAT",
          "QAT",
          "KWT",
          "KWT",
          "OMN",
          "OMN",
          "SWE",
          "SWE",
          "POL",
          "POL",
          "AUT",
          "AUT",
          "HUN",
          "HUN",
          "HUN",
          "ROU",
          "ROU",
          "LTU",
          "LTU",
          "LVA",
          "LVA",
          "EST",
          "EST",
          "DEU",
          "DEU",
          "DEU",
          "GRC",
          "GRC",
          "GRC",
          "HRV",
          "HRV",
          "CHE",
          "CHE",
          "LUX",
          "LUX",
          "BEL",
          "BEL",
          "NLD",
          "NLD",
          "PRT",
          "PRT",
          "ESP",
          "ESP",
          "ESP",
          "IRL",
          "IRL",
          "IRL",
          "AUS",
          "AUS",
          "ITA",
          "ITA",
          "ITA",
          "DNK",
          "DNK",
          "GBR",
          "GBR",
          "ISL",
          "ISL",
          "BRN",
          "BRN",
          "SVN",
          "SVN",
          "FIN",
          "FIN",
          "SVK",
          "SVK",
          "CZE",
          "CZE",
          "CZE",
          "JPN",
          "JPN",
          "SAU",
          "SAU",
          "SAU",
          "CYP",
          "CYP",
          "CYP",
          "TTO",
          "TTO",
          "TTO"
         ],
         "name": "High income",
         "showlegend": true,
         "showscale": false,
         "type": "choropleth",
         "z": [
          1,
          1,
          1,
          1,
          1,
          1,
          1,
          1,
          1,
          1,
          1,
          1,
          1,
          1,
          1,
          1,
          1,
          1,
          1,
          1,
          1,
          1,
          1,
          1,
          1,
          1,
          1,
          1,
          1,
          1,
          1,
          1,
          1,
          1,
          1,
          1,
          1,
          1,
          1,
          1,
          1,
          1,
          1,
          1,
          1,
          1,
          1,
          1,
          1,
          1,
          1,
          1,
          1,
          1,
          1,
          1,
          1,
          1,
          1,
          1,
          1,
          1,
          1,
          1,
          1,
          1,
          1,
          1,
          1,
          1,
          1,
          1,
          1,
          1,
          1,
          1,
          1,
          1,
          1,
          1,
          1,
          1,
          1,
          1,
          1,
          1,
          1,
          1,
          1,
          1,
          1,
          1,
          1,
          1,
          1,
          1,
          1,
          1,
          1,
          1
         ]
        },
        {
         "colorscale": [
          [
           0,
           "#ab63fa"
          ],
          [
           1,
           "#ab63fa"
          ]
         ],
         "geo": "geo",
         "hovertemplate": "<b>%{hovertext}</b><br><br>wbi_income_group=Low income<br>iso3=%{location}<extra></extra>",
         "hovertext": [
          "SOM",
          "SOM",
          "SOM",
          "SDN",
          "SDN",
          "SDN",
          "TCD",
          "TCD",
          "TCD",
          "MLI",
          "MLI",
          "MLI",
          "NER",
          "NER",
          "NER",
          "TGO",
          "TGO",
          "TGO",
          "GIN",
          "GIN",
          "GIN",
          "LBR",
          "LBR",
          "LBR",
          "BFA",
          "BFA",
          "BFA",
          "ZMB",
          "ZMB",
          "ZMB",
          "MWI",
          "MWI",
          "MWI",
          "MOZ",
          "MOZ",
          "MOZ",
          "BDI",
          "BDI",
          "MDG",
          "MDG",
          "MDG",
          "AFG",
          "AFG",
          "AFG",
          "SYR",
          "SYR",
          "SYR",
          "ERI",
          "ERI",
          "ETH",
          "ETH",
          "ETH",
          "UGA",
          "UGA",
          "UGA",
          "RWA",
          "RWA",
          "RWA"
         ],
         "locations": [
          "SOM",
          "SOM",
          "SOM",
          "SDN",
          "SDN",
          "SDN",
          "TCD",
          "TCD",
          "TCD",
          "MLI",
          "MLI",
          "MLI",
          "NER",
          "NER",
          "NER",
          "TGO",
          "TGO",
          "TGO",
          "GIN",
          "GIN",
          "GIN",
          "LBR",
          "LBR",
          "LBR",
          "BFA",
          "BFA",
          "BFA",
          "ZMB",
          "ZMB",
          "ZMB",
          "MWI",
          "MWI",
          "MWI",
          "MOZ",
          "MOZ",
          "MOZ",
          "BDI",
          "BDI",
          "MDG",
          "MDG",
          "MDG",
          "AFG",
          "AFG",
          "AFG",
          "SYR",
          "SYR",
          "SYR",
          "ERI",
          "ERI",
          "ETH",
          "ETH",
          "ETH",
          "UGA",
          "UGA",
          "UGA",
          "RWA",
          "RWA",
          "RWA"
         ],
         "name": "Low income",
         "showlegend": true,
         "showscale": false,
         "type": "choropleth",
         "z": [
          1,
          1,
          1,
          1,
          1,
          1,
          1,
          1,
          1,
          1,
          1,
          1,
          1,
          1,
          1,
          1,
          1,
          1,
          1,
          1,
          1,
          1,
          1,
          1,
          1,
          1,
          1,
          1,
          1,
          1,
          1,
          1,
          1,
          1,
          1,
          1,
          1,
          1,
          1,
          1,
          1,
          1,
          1,
          1,
          1,
          1,
          1,
          1,
          1,
          1,
          1,
          1,
          1,
          1,
          1,
          1,
          1,
          1
         ]
        }
       ],
       "layout": {
        "geo": {
         "center": {},
         "domain": {
          "x": [
           0,
           1
          ],
          "y": [
           0,
           1
          ]
         }
        },
        "legend": {
         "title": {
          "text": "wbi_income_group"
         },
         "tracegroupgap": 0
        },
        "margin": {
         "t": 60
        },
        "template": {
         "data": {
          "bar": [
           {
            "error_x": {
             "color": "#2a3f5f"
            },
            "error_y": {
             "color": "#2a3f5f"
            },
            "marker": {
             "line": {
              "color": "#E5ECF6",
              "width": 0.5
             },
             "pattern": {
              "fillmode": "overlay",
              "size": 10,
              "solidity": 0.2
             }
            },
            "type": "bar"
           }
          ],
          "barpolar": [
           {
            "marker": {
             "line": {
              "color": "#E5ECF6",
              "width": 0.5
             },
             "pattern": {
              "fillmode": "overlay",
              "size": 10,
              "solidity": 0.2
             }
            },
            "type": "barpolar"
           }
          ],
          "carpet": [
           {
            "aaxis": {
             "endlinecolor": "#2a3f5f",
             "gridcolor": "white",
             "linecolor": "white",
             "minorgridcolor": "white",
             "startlinecolor": "#2a3f5f"
            },
            "baxis": {
             "endlinecolor": "#2a3f5f",
             "gridcolor": "white",
             "linecolor": "white",
             "minorgridcolor": "white",
             "startlinecolor": "#2a3f5f"
            },
            "type": "carpet"
           }
          ],
          "choropleth": [
           {
            "colorbar": {
             "outlinewidth": 0,
             "ticks": ""
            },
            "type": "choropleth"
           }
          ],
          "contour": [
           {
            "colorbar": {
             "outlinewidth": 0,
             "ticks": ""
            },
            "colorscale": [
             [
              0,
              "#0d0887"
             ],
             [
              0.1111111111111111,
              "#46039f"
             ],
             [
              0.2222222222222222,
              "#7201a8"
             ],
             [
              0.3333333333333333,
              "#9c179e"
             ],
             [
              0.4444444444444444,
              "#bd3786"
             ],
             [
              0.5555555555555556,
              "#d8576b"
             ],
             [
              0.6666666666666666,
              "#ed7953"
             ],
             [
              0.7777777777777778,
              "#fb9f3a"
             ],
             [
              0.8888888888888888,
              "#fdca26"
             ],
             [
              1,
              "#f0f921"
             ]
            ],
            "type": "contour"
           }
          ],
          "contourcarpet": [
           {
            "colorbar": {
             "outlinewidth": 0,
             "ticks": ""
            },
            "type": "contourcarpet"
           }
          ],
          "heatmap": [
           {
            "colorbar": {
             "outlinewidth": 0,
             "ticks": ""
            },
            "colorscale": [
             [
              0,
              "#0d0887"
             ],
             [
              0.1111111111111111,
              "#46039f"
             ],
             [
              0.2222222222222222,
              "#7201a8"
             ],
             [
              0.3333333333333333,
              "#9c179e"
             ],
             [
              0.4444444444444444,
              "#bd3786"
             ],
             [
              0.5555555555555556,
              "#d8576b"
             ],
             [
              0.6666666666666666,
              "#ed7953"
             ],
             [
              0.7777777777777778,
              "#fb9f3a"
             ],
             [
              0.8888888888888888,
              "#fdca26"
             ],
             [
              1,
              "#f0f921"
             ]
            ],
            "type": "heatmap"
           }
          ],
          "heatmapgl": [
           {
            "colorbar": {
             "outlinewidth": 0,
             "ticks": ""
            },
            "colorscale": [
             [
              0,
              "#0d0887"
             ],
             [
              0.1111111111111111,
              "#46039f"
             ],
             [
              0.2222222222222222,
              "#7201a8"
             ],
             [
              0.3333333333333333,
              "#9c179e"
             ],
             [
              0.4444444444444444,
              "#bd3786"
             ],
             [
              0.5555555555555556,
              "#d8576b"
             ],
             [
              0.6666666666666666,
              "#ed7953"
             ],
             [
              0.7777777777777778,
              "#fb9f3a"
             ],
             [
              0.8888888888888888,
              "#fdca26"
             ],
             [
              1,
              "#f0f921"
             ]
            ],
            "type": "heatmapgl"
           }
          ],
          "histogram": [
           {
            "marker": {
             "pattern": {
              "fillmode": "overlay",
              "size": 10,
              "solidity": 0.2
             }
            },
            "type": "histogram"
           }
          ],
          "histogram2d": [
           {
            "colorbar": {
             "outlinewidth": 0,
             "ticks": ""
            },
            "colorscale": [
             [
              0,
              "#0d0887"
             ],
             [
              0.1111111111111111,
              "#46039f"
             ],
             [
              0.2222222222222222,
              "#7201a8"
             ],
             [
              0.3333333333333333,
              "#9c179e"
             ],
             [
              0.4444444444444444,
              "#bd3786"
             ],
             [
              0.5555555555555556,
              "#d8576b"
             ],
             [
              0.6666666666666666,
              "#ed7953"
             ],
             [
              0.7777777777777778,
              "#fb9f3a"
             ],
             [
              0.8888888888888888,
              "#fdca26"
             ],
             [
              1,
              "#f0f921"
             ]
            ],
            "type": "histogram2d"
           }
          ],
          "histogram2dcontour": [
           {
            "colorbar": {
             "outlinewidth": 0,
             "ticks": ""
            },
            "colorscale": [
             [
              0,
              "#0d0887"
             ],
             [
              0.1111111111111111,
              "#46039f"
             ],
             [
              0.2222222222222222,
              "#7201a8"
             ],
             [
              0.3333333333333333,
              "#9c179e"
             ],
             [
              0.4444444444444444,
              "#bd3786"
             ],
             [
              0.5555555555555556,
              "#d8576b"
             ],
             [
              0.6666666666666666,
              "#ed7953"
             ],
             [
              0.7777777777777778,
              "#fb9f3a"
             ],
             [
              0.8888888888888888,
              "#fdca26"
             ],
             [
              1,
              "#f0f921"
             ]
            ],
            "type": "histogram2dcontour"
           }
          ],
          "mesh3d": [
           {
            "colorbar": {
             "outlinewidth": 0,
             "ticks": ""
            },
            "type": "mesh3d"
           }
          ],
          "parcoords": [
           {
            "line": {
             "colorbar": {
              "outlinewidth": 0,
              "ticks": ""
             }
            },
            "type": "parcoords"
           }
          ],
          "pie": [
           {
            "automargin": true,
            "type": "pie"
           }
          ],
          "scatter": [
           {
            "fillpattern": {
             "fillmode": "overlay",
             "size": 10,
             "solidity": 0.2
            },
            "type": "scatter"
           }
          ],
          "scatter3d": [
           {
            "line": {
             "colorbar": {
              "outlinewidth": 0,
              "ticks": ""
             }
            },
            "marker": {
             "colorbar": {
              "outlinewidth": 0,
              "ticks": ""
             }
            },
            "type": "scatter3d"
           }
          ],
          "scattercarpet": [
           {
            "marker": {
             "colorbar": {
              "outlinewidth": 0,
              "ticks": ""
             }
            },
            "type": "scattercarpet"
           }
          ],
          "scattergeo": [
           {
            "marker": {
             "colorbar": {
              "outlinewidth": 0,
              "ticks": ""
             }
            },
            "type": "scattergeo"
           }
          ],
          "scattergl": [
           {
            "marker": {
             "colorbar": {
              "outlinewidth": 0,
              "ticks": ""
             }
            },
            "type": "scattergl"
           }
          ],
          "scattermapbox": [
           {
            "marker": {
             "colorbar": {
              "outlinewidth": 0,
              "ticks": ""
             }
            },
            "type": "scattermapbox"
           }
          ],
          "scatterpolar": [
           {
            "marker": {
             "colorbar": {
              "outlinewidth": 0,
              "ticks": ""
             }
            },
            "type": "scatterpolar"
           }
          ],
          "scatterpolargl": [
           {
            "marker": {
             "colorbar": {
              "outlinewidth": 0,
              "ticks": ""
             }
            },
            "type": "scatterpolargl"
           }
          ],
          "scatterternary": [
           {
            "marker": {
             "colorbar": {
              "outlinewidth": 0,
              "ticks": ""
             }
            },
            "type": "scatterternary"
           }
          ],
          "surface": [
           {
            "colorbar": {
             "outlinewidth": 0,
             "ticks": ""
            },
            "colorscale": [
             [
              0,
              "#0d0887"
             ],
             [
              0.1111111111111111,
              "#46039f"
             ],
             [
              0.2222222222222222,
              "#7201a8"
             ],
             [
              0.3333333333333333,
              "#9c179e"
             ],
             [
              0.4444444444444444,
              "#bd3786"
             ],
             [
              0.5555555555555556,
              "#d8576b"
             ],
             [
              0.6666666666666666,
              "#ed7953"
             ],
             [
              0.7777777777777778,
              "#fb9f3a"
             ],
             [
              0.8888888888888888,
              "#fdca26"
             ],
             [
              1,
              "#f0f921"
             ]
            ],
            "type": "surface"
           }
          ],
          "table": [
           {
            "cells": {
             "fill": {
              "color": "#EBF0F8"
             },
             "line": {
              "color": "white"
             }
            },
            "header": {
             "fill": {
              "color": "#C8D4E3"
             },
             "line": {
              "color": "white"
             }
            },
            "type": "table"
           }
          ]
         },
         "layout": {
          "annotationdefaults": {
           "arrowcolor": "#2a3f5f",
           "arrowhead": 0,
           "arrowwidth": 1
          },
          "autotypenumbers": "strict",
          "coloraxis": {
           "colorbar": {
            "outlinewidth": 0,
            "ticks": ""
           }
          },
          "colorscale": {
           "diverging": [
            [
             0,
             "#8e0152"
            ],
            [
             0.1,
             "#c51b7d"
            ],
            [
             0.2,
             "#de77ae"
            ],
            [
             0.3,
             "#f1b6da"
            ],
            [
             0.4,
             "#fde0ef"
            ],
            [
             0.5,
             "#f7f7f7"
            ],
            [
             0.6,
             "#e6f5d0"
            ],
            [
             0.7,
             "#b8e186"
            ],
            [
             0.8,
             "#7fbc41"
            ],
            [
             0.9,
             "#4d9221"
            ],
            [
             1,
             "#276419"
            ]
           ],
           "sequential": [
            [
             0,
             "#0d0887"
            ],
            [
             0.1111111111111111,
             "#46039f"
            ],
            [
             0.2222222222222222,
             "#7201a8"
            ],
            [
             0.3333333333333333,
             "#9c179e"
            ],
            [
             0.4444444444444444,
             "#bd3786"
            ],
            [
             0.5555555555555556,
             "#d8576b"
            ],
            [
             0.6666666666666666,
             "#ed7953"
            ],
            [
             0.7777777777777778,
             "#fb9f3a"
            ],
            [
             0.8888888888888888,
             "#fdca26"
            ],
            [
             1,
             "#f0f921"
            ]
           ],
           "sequentialminus": [
            [
             0,
             "#0d0887"
            ],
            [
             0.1111111111111111,
             "#46039f"
            ],
            [
             0.2222222222222222,
             "#7201a8"
            ],
            [
             0.3333333333333333,
             "#9c179e"
            ],
            [
             0.4444444444444444,
             "#bd3786"
            ],
            [
             0.5555555555555556,
             "#d8576b"
            ],
            [
             0.6666666666666666,
             "#ed7953"
            ],
            [
             0.7777777777777778,
             "#fb9f3a"
            ],
            [
             0.8888888888888888,
             "#fdca26"
            ],
            [
             1,
             "#f0f921"
            ]
           ]
          },
          "colorway": [
           "#636efa",
           "#EF553B",
           "#00cc96",
           "#ab63fa",
           "#FFA15A",
           "#19d3f3",
           "#FF6692",
           "#B6E880",
           "#FF97FF",
           "#FECB52"
          ],
          "font": {
           "color": "#2a3f5f"
          },
          "geo": {
           "bgcolor": "white",
           "lakecolor": "white",
           "landcolor": "#E5ECF6",
           "showlakes": true,
           "showland": true,
           "subunitcolor": "white"
          },
          "hoverlabel": {
           "align": "left"
          },
          "hovermode": "closest",
          "mapbox": {
           "style": "light"
          },
          "paper_bgcolor": "white",
          "plot_bgcolor": "#E5ECF6",
          "polar": {
           "angularaxis": {
            "gridcolor": "white",
            "linecolor": "white",
            "ticks": ""
           },
           "bgcolor": "#E5ECF6",
           "radialaxis": {
            "gridcolor": "white",
            "linecolor": "white",
            "ticks": ""
           }
          },
          "scene": {
           "xaxis": {
            "backgroundcolor": "#E5ECF6",
            "gridcolor": "white",
            "gridwidth": 2,
            "linecolor": "white",
            "showbackground": true,
            "ticks": "",
            "zerolinecolor": "white"
           },
           "yaxis": {
            "backgroundcolor": "#E5ECF6",
            "gridcolor": "white",
            "gridwidth": 2,
            "linecolor": "white",
            "showbackground": true,
            "ticks": "",
            "zerolinecolor": "white"
           },
           "zaxis": {
            "backgroundcolor": "#E5ECF6",
            "gridcolor": "white",
            "gridwidth": 2,
            "linecolor": "white",
            "showbackground": true,
            "ticks": "",
            "zerolinecolor": "white"
           }
          },
          "shapedefaults": {
           "line": {
            "color": "#2a3f5f"
           }
          },
          "ternary": {
           "aaxis": {
            "gridcolor": "white",
            "linecolor": "white",
            "ticks": ""
           },
           "baxis": {
            "gridcolor": "white",
            "linecolor": "white",
            "ticks": ""
           },
           "bgcolor": "#E5ECF6",
           "caxis": {
            "gridcolor": "white",
            "linecolor": "white",
            "ticks": ""
           }
          },
          "title": {
           "x": 0.05
          },
          "xaxis": {
           "automargin": true,
           "gridcolor": "white",
           "linecolor": "white",
           "ticks": "",
           "title": {
            "standoff": 15
           },
           "zerolinecolor": "white",
           "zerolinewidth": 2
          },
          "yaxis": {
           "automargin": true,
           "gridcolor": "white",
           "linecolor": "white",
           "ticks": "",
           "title": {
            "standoff": 15
           },
           "zerolinecolor": "white",
           "zerolinewidth": 2
          }
         }
        }
       }
      },
      "text/html": [
       "<div>                            <div id=\"ea293174-2e07-4fe7-9a8b-5d27333ff7a2\" class=\"plotly-graph-div\" style=\"height:525px; width:100%;\"></div>            <script type=\"text/javascript\">                require([\"plotly\"], function(Plotly) {                    window.PLOTLYENV=window.PLOTLYENV || {};                                    if (document.getElementById(\"ea293174-2e07-4fe7-9a8b-5d27333ff7a2\")) {                    Plotly.newPlot(                        \"ea293174-2e07-4fe7-9a8b-5d27333ff7a2\",                        [{\"colorscale\":[[0.0,\"#636efa\"],[1.0,\"#636efa\"]],\"geo\":\"geo\",\"hovertemplate\":\"\\u003cb\\u003e%{hovertext}\\u003c\\u002fb\\u003e\\u003cbr\\u003e\\u003cbr\\u003ewbi_income_group=Upper middle income\\u003cbr\\u003eiso3=%{location}\\u003cextra\\u003e\\u003c\\u002fextra\\u003e\",\"hovertext\":[\"FJI\",\"FJI\",\"KAZ\",\"KAZ\",\"KAZ\",\"ARG\",\"ARG\",\"ARG\",\"RUS\",\"RUS\",\"RUS\",\"ZAF\",\"ZAF\",\"ZAF\",\"MEX\",\"MEX\",\"MEX\",\"BRA\",\"BRA\",\"BRA\",\"PER\",\"PER\",\"PER\",\"COL\",\"COL\",\"COL\",\"GTM\",\"GTM\",\"GTM\",\"BLZ\",\"BLZ\",\"BLZ\",\"GUY\",\"GUY\",\"GUY\",\"SUR\",\"SUR\",\"ECU\",\"ECU\",\"ECU\",\"JAM\",\"JAM\",\"JAM\",\"CUB\",\"CUB\",\"CUB\",\"BWA\",\"BWA\",\"BWA\",\"NAM\",\"NAM\",\"NAM\",\"GAB\",\"GAB\",\"JOR\",\"JOR\",\"JOR\",\"IRQ\",\"IRQ\",\"IRQ\",\"THA\",\"THA\",\"THA\",\"TKM\",\"TKM\",\"ARM\",\"ARM\",\"ARM\",\"BLR\",\"BLR\",\"BLR\",\"MDA\",\"MDA\",\"MDA\",\"BGR\",\"BGR\",\"ALB\",\"ALB\",\"CHN\",\"CHN\",\"CHN\",\"AZE\",\"AZE\",\"AZE\",\"GEO\",\"GEO\",\"GEO\",\"MYS\",\"MYS\",\"PRY\",\"PRY\",\"PRY\",\"LBY\",\"LBY\",\"LBY\",\"MKD\",\"MKD\",\"MKD\",\"SRB\",\"SRB\",\"SRB\",\"MNE\",\"MNE\"],\"locations\":[\"FJI\",\"FJI\",\"KAZ\",\"KAZ\",\"KAZ\",\"ARG\",\"ARG\",\"ARG\",\"RUS\",\"RUS\",\"RUS\",\"ZAF\",\"ZAF\",\"ZAF\",\"MEX\",\"MEX\",\"MEX\",\"BRA\",\"BRA\",\"BRA\",\"PER\",\"PER\",\"PER\",\"COL\",\"COL\",\"COL\",\"GTM\",\"GTM\",\"GTM\",\"BLZ\",\"BLZ\",\"BLZ\",\"GUY\",\"GUY\",\"GUY\",\"SUR\",\"SUR\",\"ECU\",\"ECU\",\"ECU\",\"JAM\",\"JAM\",\"JAM\",\"CUB\",\"CUB\",\"CUB\",\"BWA\",\"BWA\",\"BWA\",\"NAM\",\"NAM\",\"NAM\",\"GAB\",\"GAB\",\"JOR\",\"JOR\",\"JOR\",\"IRQ\",\"IRQ\",\"IRQ\",\"THA\",\"THA\",\"THA\",\"TKM\",\"TKM\",\"ARM\",\"ARM\",\"ARM\",\"BLR\",\"BLR\",\"BLR\",\"MDA\",\"MDA\",\"MDA\",\"BGR\",\"BGR\",\"ALB\",\"ALB\",\"CHN\",\"CHN\",\"CHN\",\"AZE\",\"AZE\",\"AZE\",\"GEO\",\"GEO\",\"GEO\",\"MYS\",\"MYS\",\"PRY\",\"PRY\",\"PRY\",\"LBY\",\"LBY\",\"LBY\",\"MKD\",\"MKD\",\"MKD\",\"SRB\",\"SRB\",\"SRB\",\"MNE\",\"MNE\"],\"name\":\"Upper middle income\",\"showlegend\":true,\"showscale\":false,\"z\":[1,1,1,1,1,1,1,1,1,1,1,1,1,1,1,1,1,1,1,1,1,1,1,1,1,1,1,1,1,1,1,1,1,1,1,1,1,1,1,1,1,1,1,1,1,1,1,1,1,1,1,1,1,1,1,1,1,1,1,1,1,1,1,1,1,1,1,1,1,1,1,1,1,1,1,1,1,1,1,1,1,1,1,1,1,1,1,1,1,1,1,1,1,1,1,1,1,1,1,1,1,1,1],\"type\":\"choropleth\"},{\"colorscale\":[[0.0,\"#EF553B\"],[1.0,\"#EF553B\"]],\"geo\":\"geo\",\"hovertemplate\":\"\\u003cb\\u003e%{hovertext}\\u003c\\u002fb\\u003e\\u003cbr\\u003e\\u003cbr\\u003ewbi_income_group=Lower middle income\\u003cbr\\u003eiso3=%{location}\\u003cextra\\u003e\\u003c\\u002fextra\\u003e\",\"hovertext\":[\"TZA\",\"TZA\",\"TZA\",\"UZB\",\"UZB\",\"UZB\",\"IDN\",\"IDN\",\"IDN\",\"KEN\",\"KEN\",\"KEN\",\"HTI\",\"HTI\",\"HTI\",\"LSO\",\"LSO\",\"LSO\",\"BOL\",\"BOL\",\"BOL\",\"NIC\",\"NIC\",\"NIC\",\"HND\",\"HND\",\"HND\",\"SLV\",\"SLV\",\"SLV\",\"ZWE\",\"ZWE\",\"ZWE\",\"SEN\",\"SEN\",\"SEN\",\"MRT\",\"MRT\",\"BEN\",\"BEN\",\"BEN\",\"NGA\",\"NGA\",\"NGA\",\"CMR\",\"CMR\",\"CMR\",\"GHA\",\"GHA\",\"GHA\",\"AGO\",\"AGO\",\"AGO\",\"LBN\",\"LBN\",\"LBN\",\"TUN\",\"TUN\",\"DZA\",\"DZA\",\"DZA\",\"KHM\",\"KHM\",\"MMR\",\"MMR\",\"MMR\",\"VNM\",\"VNM\",\"MNG\",\"MNG\",\"IND\",\"IND\",\"IND\",\"BGD\",\"BGD\",\"BGD\",\"BTN\",\"BTN\",\"NPL\",\"NPL\",\"NPL\",\"PAK\",\"PAK\",\"PAK\",\"TJK\",\"TJK\",\"KGZ\",\"KGZ\",\"KGZ\",\"UKR\",\"UKR\",\"UKR\",\"LKA\",\"LKA\",\"LKA\",\"PHL\",\"PHL\",\"PHL\",\"MAR\",\"MAR\",\"MAR\",\"DJI\"],\"locations\":[\"TZA\",\"TZA\",\"TZA\",\"UZB\",\"UZB\",\"UZB\",\"IDN\",\"IDN\",\"IDN\",\"KEN\",\"KEN\",\"KEN\",\"HTI\",\"HTI\",\"HTI\",\"LSO\",\"LSO\",\"LSO\",\"BOL\",\"BOL\",\"BOL\",\"NIC\",\"NIC\",\"NIC\",\"HND\",\"HND\",\"HND\",\"SLV\",\"SLV\",\"SLV\",\"ZWE\",\"ZWE\",\"ZWE\",\"SEN\",\"SEN\",\"SEN\",\"MRT\",\"MRT\",\"BEN\",\"BEN\",\"BEN\",\"NGA\",\"NGA\",\"NGA\",\"CMR\",\"CMR\",\"CMR\",\"GHA\",\"GHA\",\"GHA\",\"AGO\",\"AGO\",\"AGO\",\"LBN\",\"LBN\",\"LBN\",\"TUN\",\"TUN\",\"DZA\",\"DZA\",\"DZA\",\"KHM\",\"KHM\",\"MMR\",\"MMR\",\"MMR\",\"VNM\",\"VNM\",\"MNG\",\"MNG\",\"IND\",\"IND\",\"IND\",\"BGD\",\"BGD\",\"BGD\",\"BTN\",\"BTN\",\"NPL\",\"NPL\",\"NPL\",\"PAK\",\"PAK\",\"PAK\",\"TJK\",\"TJK\",\"KGZ\",\"KGZ\",\"KGZ\",\"UKR\",\"UKR\",\"UKR\",\"LKA\",\"LKA\",\"LKA\",\"PHL\",\"PHL\",\"PHL\",\"MAR\",\"MAR\",\"MAR\",\"DJI\"],\"name\":\"Lower middle income\",\"showlegend\":true,\"showscale\":false,\"z\":[1,1,1,1,1,1,1,1,1,1,1,1,1,1,1,1,1,1,1,1,1,1,1,1,1,1,1,1,1,1,1,1,1,1,1,1,1,1,1,1,1,1,1,1,1,1,1,1,1,1,1,1,1,1,1,1,1,1,1,1,1,1,1,1,1,1,1,1,1,1,1,1,1,1,1,1,1,1,1,1,1,1,1,1,1,1,1,1,1,1,1,1,1,1,1,1,1,1,1,1,1,1],\"type\":\"choropleth\"},{\"colorscale\":[[0.0,\"#00cc96\"],[1.0,\"#00cc96\"]],\"geo\":\"geo\",\"hovertemplate\":\"\\u003cb\\u003e%{hovertext}\\u003c\\u002fb\\u003e\\u003cbr\\u003e\\u003cbr\\u003ewbi_income_group=High income\\u003cbr\\u003eiso3=%{location}\\u003cextra\\u003e\\u003c\\u002fextra\\u003e\",\"hovertext\":[\"CAN\",\"CAN\",\"USA\",\"USA\",\"USA\",\"CHL\",\"CHL\",\"CHL\",\"NOR\",\"NOR\",\"URY\",\"URY\",\"PAN\",\"PAN\",\"FRA\",\"FRA\",\"FRA\",\"ISR\",\"ISR\",\"ISR\",\"QAT\",\"QAT\",\"KWT\",\"KWT\",\"OMN\",\"OMN\",\"SWE\",\"SWE\",\"POL\",\"POL\",\"AUT\",\"AUT\",\"HUN\",\"HUN\",\"HUN\",\"ROU\",\"ROU\",\"LTU\",\"LTU\",\"LVA\",\"LVA\",\"EST\",\"EST\",\"DEU\",\"DEU\",\"DEU\",\"GRC\",\"GRC\",\"GRC\",\"HRV\",\"HRV\",\"CHE\",\"CHE\",\"LUX\",\"LUX\",\"BEL\",\"BEL\",\"NLD\",\"NLD\",\"PRT\",\"PRT\",\"ESP\",\"ESP\",\"ESP\",\"IRL\",\"IRL\",\"IRL\",\"AUS\",\"AUS\",\"ITA\",\"ITA\",\"ITA\",\"DNK\",\"DNK\",\"GBR\",\"GBR\",\"ISL\",\"ISL\",\"BRN\",\"BRN\",\"SVN\",\"SVN\",\"FIN\",\"FIN\",\"SVK\",\"SVK\",\"CZE\",\"CZE\",\"CZE\",\"JPN\",\"JPN\",\"SAU\",\"SAU\",\"SAU\",\"CYP\",\"CYP\",\"CYP\",\"TTO\",\"TTO\",\"TTO\"],\"locations\":[\"CAN\",\"CAN\",\"USA\",\"USA\",\"USA\",\"CHL\",\"CHL\",\"CHL\",\"NOR\",\"NOR\",\"URY\",\"URY\",\"PAN\",\"PAN\",\"FRA\",\"FRA\",\"FRA\",\"ISR\",\"ISR\",\"ISR\",\"QAT\",\"QAT\",\"KWT\",\"KWT\",\"OMN\",\"OMN\",\"SWE\",\"SWE\",\"POL\",\"POL\",\"AUT\",\"AUT\",\"HUN\",\"HUN\",\"HUN\",\"ROU\",\"ROU\",\"LTU\",\"LTU\",\"LVA\",\"LVA\",\"EST\",\"EST\",\"DEU\",\"DEU\",\"DEU\",\"GRC\",\"GRC\",\"GRC\",\"HRV\",\"HRV\",\"CHE\",\"CHE\",\"LUX\",\"LUX\",\"BEL\",\"BEL\",\"NLD\",\"NLD\",\"PRT\",\"PRT\",\"ESP\",\"ESP\",\"ESP\",\"IRL\",\"IRL\",\"IRL\",\"AUS\",\"AUS\",\"ITA\",\"ITA\",\"ITA\",\"DNK\",\"DNK\",\"GBR\",\"GBR\",\"ISL\",\"ISL\",\"BRN\",\"BRN\",\"SVN\",\"SVN\",\"FIN\",\"FIN\",\"SVK\",\"SVK\",\"CZE\",\"CZE\",\"CZE\",\"JPN\",\"JPN\",\"SAU\",\"SAU\",\"SAU\",\"CYP\",\"CYP\",\"CYP\",\"TTO\",\"TTO\",\"TTO\"],\"name\":\"High income\",\"showlegend\":true,\"showscale\":false,\"z\":[1,1,1,1,1,1,1,1,1,1,1,1,1,1,1,1,1,1,1,1,1,1,1,1,1,1,1,1,1,1,1,1,1,1,1,1,1,1,1,1,1,1,1,1,1,1,1,1,1,1,1,1,1,1,1,1,1,1,1,1,1,1,1,1,1,1,1,1,1,1,1,1,1,1,1,1,1,1,1,1,1,1,1,1,1,1,1,1,1,1,1,1,1,1,1,1,1,1,1,1],\"type\":\"choropleth\"},{\"colorscale\":[[0.0,\"#ab63fa\"],[1.0,\"#ab63fa\"]],\"geo\":\"geo\",\"hovertemplate\":\"\\u003cb\\u003e%{hovertext}\\u003c\\u002fb\\u003e\\u003cbr\\u003e\\u003cbr\\u003ewbi_income_group=Low income\\u003cbr\\u003eiso3=%{location}\\u003cextra\\u003e\\u003c\\u002fextra\\u003e\",\"hovertext\":[\"SOM\",\"SOM\",\"SOM\",\"SDN\",\"SDN\",\"SDN\",\"TCD\",\"TCD\",\"TCD\",\"MLI\",\"MLI\",\"MLI\",\"NER\",\"NER\",\"NER\",\"TGO\",\"TGO\",\"TGO\",\"GIN\",\"GIN\",\"GIN\",\"LBR\",\"LBR\",\"LBR\",\"BFA\",\"BFA\",\"BFA\",\"ZMB\",\"ZMB\",\"ZMB\",\"MWI\",\"MWI\",\"MWI\",\"MOZ\",\"MOZ\",\"MOZ\",\"BDI\",\"BDI\",\"MDG\",\"MDG\",\"MDG\",\"AFG\",\"AFG\",\"AFG\",\"SYR\",\"SYR\",\"SYR\",\"ERI\",\"ERI\",\"ETH\",\"ETH\",\"ETH\",\"UGA\",\"UGA\",\"UGA\",\"RWA\",\"RWA\",\"RWA\"],\"locations\":[\"SOM\",\"SOM\",\"SOM\",\"SDN\",\"SDN\",\"SDN\",\"TCD\",\"TCD\",\"TCD\",\"MLI\",\"MLI\",\"MLI\",\"NER\",\"NER\",\"NER\",\"TGO\",\"TGO\",\"TGO\",\"GIN\",\"GIN\",\"GIN\",\"LBR\",\"LBR\",\"LBR\",\"BFA\",\"BFA\",\"BFA\",\"ZMB\",\"ZMB\",\"ZMB\",\"MWI\",\"MWI\",\"MWI\",\"MOZ\",\"MOZ\",\"MOZ\",\"BDI\",\"BDI\",\"MDG\",\"MDG\",\"MDG\",\"AFG\",\"AFG\",\"AFG\",\"SYR\",\"SYR\",\"SYR\",\"ERI\",\"ERI\",\"ETH\",\"ETH\",\"ETH\",\"UGA\",\"UGA\",\"UGA\",\"RWA\",\"RWA\",\"RWA\"],\"name\":\"Low income\",\"showlegend\":true,\"showscale\":false,\"z\":[1,1,1,1,1,1,1,1,1,1,1,1,1,1,1,1,1,1,1,1,1,1,1,1,1,1,1,1,1,1,1,1,1,1,1,1,1,1,1,1,1,1,1,1,1,1,1,1,1,1,1,1,1,1,1,1,1,1],\"type\":\"choropleth\"}],                        {\"template\":{\"data\":{\"histogram2dcontour\":[{\"type\":\"histogram2dcontour\",\"colorbar\":{\"outlinewidth\":0,\"ticks\":\"\"},\"colorscale\":[[0.0,\"#0d0887\"],[0.1111111111111111,\"#46039f\"],[0.2222222222222222,\"#7201a8\"],[0.3333333333333333,\"#9c179e\"],[0.4444444444444444,\"#bd3786\"],[0.5555555555555556,\"#d8576b\"],[0.6666666666666666,\"#ed7953\"],[0.7777777777777778,\"#fb9f3a\"],[0.8888888888888888,\"#fdca26\"],[1.0,\"#f0f921\"]]}],\"choropleth\":[{\"type\":\"choropleth\",\"colorbar\":{\"outlinewidth\":0,\"ticks\":\"\"}}],\"histogram2d\":[{\"type\":\"histogram2d\",\"colorbar\":{\"outlinewidth\":0,\"ticks\":\"\"},\"colorscale\":[[0.0,\"#0d0887\"],[0.1111111111111111,\"#46039f\"],[0.2222222222222222,\"#7201a8\"],[0.3333333333333333,\"#9c179e\"],[0.4444444444444444,\"#bd3786\"],[0.5555555555555556,\"#d8576b\"],[0.6666666666666666,\"#ed7953\"],[0.7777777777777778,\"#fb9f3a\"],[0.8888888888888888,\"#fdca26\"],[1.0,\"#f0f921\"]]}],\"heatmap\":[{\"type\":\"heatmap\",\"colorbar\":{\"outlinewidth\":0,\"ticks\":\"\"},\"colorscale\":[[0.0,\"#0d0887\"],[0.1111111111111111,\"#46039f\"],[0.2222222222222222,\"#7201a8\"],[0.3333333333333333,\"#9c179e\"],[0.4444444444444444,\"#bd3786\"],[0.5555555555555556,\"#d8576b\"],[0.6666666666666666,\"#ed7953\"],[0.7777777777777778,\"#fb9f3a\"],[0.8888888888888888,\"#fdca26\"],[1.0,\"#f0f921\"]]}],\"heatmapgl\":[{\"type\":\"heatmapgl\",\"colorbar\":{\"outlinewidth\":0,\"ticks\":\"\"},\"colorscale\":[[0.0,\"#0d0887\"],[0.1111111111111111,\"#46039f\"],[0.2222222222222222,\"#7201a8\"],[0.3333333333333333,\"#9c179e\"],[0.4444444444444444,\"#bd3786\"],[0.5555555555555556,\"#d8576b\"],[0.6666666666666666,\"#ed7953\"],[0.7777777777777778,\"#fb9f3a\"],[0.8888888888888888,\"#fdca26\"],[1.0,\"#f0f921\"]]}],\"contourcarpet\":[{\"type\":\"contourcarpet\",\"colorbar\":{\"outlinewidth\":0,\"ticks\":\"\"}}],\"contour\":[{\"type\":\"contour\",\"colorbar\":{\"outlinewidth\":0,\"ticks\":\"\"},\"colorscale\":[[0.0,\"#0d0887\"],[0.1111111111111111,\"#46039f\"],[0.2222222222222222,\"#7201a8\"],[0.3333333333333333,\"#9c179e\"],[0.4444444444444444,\"#bd3786\"],[0.5555555555555556,\"#d8576b\"],[0.6666666666666666,\"#ed7953\"],[0.7777777777777778,\"#fb9f3a\"],[0.8888888888888888,\"#fdca26\"],[1.0,\"#f0f921\"]]}],\"surface\":[{\"type\":\"surface\",\"colorbar\":{\"outlinewidth\":0,\"ticks\":\"\"},\"colorscale\":[[0.0,\"#0d0887\"],[0.1111111111111111,\"#46039f\"],[0.2222222222222222,\"#7201a8\"],[0.3333333333333333,\"#9c179e\"],[0.4444444444444444,\"#bd3786\"],[0.5555555555555556,\"#d8576b\"],[0.6666666666666666,\"#ed7953\"],[0.7777777777777778,\"#fb9f3a\"],[0.8888888888888888,\"#fdca26\"],[1.0,\"#f0f921\"]]}],\"mesh3d\":[{\"type\":\"mesh3d\",\"colorbar\":{\"outlinewidth\":0,\"ticks\":\"\"}}],\"scatter\":[{\"fillpattern\":{\"fillmode\":\"overlay\",\"size\":10,\"solidity\":0.2},\"type\":\"scatter\"}],\"parcoords\":[{\"type\":\"parcoords\",\"line\":{\"colorbar\":{\"outlinewidth\":0,\"ticks\":\"\"}}}],\"scatterpolargl\":[{\"type\":\"scatterpolargl\",\"marker\":{\"colorbar\":{\"outlinewidth\":0,\"ticks\":\"\"}}}],\"bar\":[{\"error_x\":{\"color\":\"#2a3f5f\"},\"error_y\":{\"color\":\"#2a3f5f\"},\"marker\":{\"line\":{\"color\":\"#E5ECF6\",\"width\":0.5},\"pattern\":{\"fillmode\":\"overlay\",\"size\":10,\"solidity\":0.2}},\"type\":\"bar\"}],\"scattergeo\":[{\"type\":\"scattergeo\",\"marker\":{\"colorbar\":{\"outlinewidth\":0,\"ticks\":\"\"}}}],\"scatterpolar\":[{\"type\":\"scatterpolar\",\"marker\":{\"colorbar\":{\"outlinewidth\":0,\"ticks\":\"\"}}}],\"histogram\":[{\"marker\":{\"pattern\":{\"fillmode\":\"overlay\",\"size\":10,\"solidity\":0.2}},\"type\":\"histogram\"}],\"scattergl\":[{\"type\":\"scattergl\",\"marker\":{\"colorbar\":{\"outlinewidth\":0,\"ticks\":\"\"}}}],\"scatter3d\":[{\"type\":\"scatter3d\",\"line\":{\"colorbar\":{\"outlinewidth\":0,\"ticks\":\"\"}},\"marker\":{\"colorbar\":{\"outlinewidth\":0,\"ticks\":\"\"}}}],\"scattermapbox\":[{\"type\":\"scattermapbox\",\"marker\":{\"colorbar\":{\"outlinewidth\":0,\"ticks\":\"\"}}}],\"scatterternary\":[{\"type\":\"scatterternary\",\"marker\":{\"colorbar\":{\"outlinewidth\":0,\"ticks\":\"\"}}}],\"scattercarpet\":[{\"type\":\"scattercarpet\",\"marker\":{\"colorbar\":{\"outlinewidth\":0,\"ticks\":\"\"}}}],\"carpet\":[{\"aaxis\":{\"endlinecolor\":\"#2a3f5f\",\"gridcolor\":\"white\",\"linecolor\":\"white\",\"minorgridcolor\":\"white\",\"startlinecolor\":\"#2a3f5f\"},\"baxis\":{\"endlinecolor\":\"#2a3f5f\",\"gridcolor\":\"white\",\"linecolor\":\"white\",\"minorgridcolor\":\"white\",\"startlinecolor\":\"#2a3f5f\"},\"type\":\"carpet\"}],\"table\":[{\"cells\":{\"fill\":{\"color\":\"#EBF0F8\"},\"line\":{\"color\":\"white\"}},\"header\":{\"fill\":{\"color\":\"#C8D4E3\"},\"line\":{\"color\":\"white\"}},\"type\":\"table\"}],\"barpolar\":[{\"marker\":{\"line\":{\"color\":\"#E5ECF6\",\"width\":0.5},\"pattern\":{\"fillmode\":\"overlay\",\"size\":10,\"solidity\":0.2}},\"type\":\"barpolar\"}],\"pie\":[{\"automargin\":true,\"type\":\"pie\"}]},\"layout\":{\"autotypenumbers\":\"strict\",\"colorway\":[\"#636efa\",\"#EF553B\",\"#00cc96\",\"#ab63fa\",\"#FFA15A\",\"#19d3f3\",\"#FF6692\",\"#B6E880\",\"#FF97FF\",\"#FECB52\"],\"font\":{\"color\":\"#2a3f5f\"},\"hovermode\":\"closest\",\"hoverlabel\":{\"align\":\"left\"},\"paper_bgcolor\":\"white\",\"plot_bgcolor\":\"#E5ECF6\",\"polar\":{\"bgcolor\":\"#E5ECF6\",\"angularaxis\":{\"gridcolor\":\"white\",\"linecolor\":\"white\",\"ticks\":\"\"},\"radialaxis\":{\"gridcolor\":\"white\",\"linecolor\":\"white\",\"ticks\":\"\"}},\"ternary\":{\"bgcolor\":\"#E5ECF6\",\"aaxis\":{\"gridcolor\":\"white\",\"linecolor\":\"white\",\"ticks\":\"\"},\"baxis\":{\"gridcolor\":\"white\",\"linecolor\":\"white\",\"ticks\":\"\"},\"caxis\":{\"gridcolor\":\"white\",\"linecolor\":\"white\",\"ticks\":\"\"}},\"coloraxis\":{\"colorbar\":{\"outlinewidth\":0,\"ticks\":\"\"}},\"colorscale\":{\"sequential\":[[0.0,\"#0d0887\"],[0.1111111111111111,\"#46039f\"],[0.2222222222222222,\"#7201a8\"],[0.3333333333333333,\"#9c179e\"],[0.4444444444444444,\"#bd3786\"],[0.5555555555555556,\"#d8576b\"],[0.6666666666666666,\"#ed7953\"],[0.7777777777777778,\"#fb9f3a\"],[0.8888888888888888,\"#fdca26\"],[1.0,\"#f0f921\"]],\"sequentialminus\":[[0.0,\"#0d0887\"],[0.1111111111111111,\"#46039f\"],[0.2222222222222222,\"#7201a8\"],[0.3333333333333333,\"#9c179e\"],[0.4444444444444444,\"#bd3786\"],[0.5555555555555556,\"#d8576b\"],[0.6666666666666666,\"#ed7953\"],[0.7777777777777778,\"#fb9f3a\"],[0.8888888888888888,\"#fdca26\"],[1.0,\"#f0f921\"]],\"diverging\":[[0,\"#8e0152\"],[0.1,\"#c51b7d\"],[0.2,\"#de77ae\"],[0.3,\"#f1b6da\"],[0.4,\"#fde0ef\"],[0.5,\"#f7f7f7\"],[0.6,\"#e6f5d0\"],[0.7,\"#b8e186\"],[0.8,\"#7fbc41\"],[0.9,\"#4d9221\"],[1,\"#276419\"]]},\"xaxis\":{\"gridcolor\":\"white\",\"linecolor\":\"white\",\"ticks\":\"\",\"title\":{\"standoff\":15},\"zerolinecolor\":\"white\",\"automargin\":true,\"zerolinewidth\":2},\"yaxis\":{\"gridcolor\":\"white\",\"linecolor\":\"white\",\"ticks\":\"\",\"title\":{\"standoff\":15},\"zerolinecolor\":\"white\",\"automargin\":true,\"zerolinewidth\":2},\"scene\":{\"xaxis\":{\"backgroundcolor\":\"#E5ECF6\",\"gridcolor\":\"white\",\"linecolor\":\"white\",\"showbackground\":true,\"ticks\":\"\",\"zerolinecolor\":\"white\",\"gridwidth\":2},\"yaxis\":{\"backgroundcolor\":\"#E5ECF6\",\"gridcolor\":\"white\",\"linecolor\":\"white\",\"showbackground\":true,\"ticks\":\"\",\"zerolinecolor\":\"white\",\"gridwidth\":2},\"zaxis\":{\"backgroundcolor\":\"#E5ECF6\",\"gridcolor\":\"white\",\"linecolor\":\"white\",\"showbackground\":true,\"ticks\":\"\",\"zerolinecolor\":\"white\",\"gridwidth\":2}},\"shapedefaults\":{\"line\":{\"color\":\"#2a3f5f\"}},\"annotationdefaults\":{\"arrowcolor\":\"#2a3f5f\",\"arrowhead\":0,\"arrowwidth\":1},\"geo\":{\"bgcolor\":\"white\",\"landcolor\":\"#E5ECF6\",\"subunitcolor\":\"white\",\"showland\":true,\"showlakes\":true,\"lakecolor\":\"white\"},\"title\":{\"x\":0.05},\"mapbox\":{\"style\":\"light\"}}},\"geo\":{\"domain\":{\"x\":[0.0,1.0],\"y\":[0.0,1.0]},\"center\":{}},\"legend\":{\"title\":{\"text\":\"wbi_income_group\"},\"tracegroupgap\":0},\"margin\":{\"t\":60}},                        {\"responsive\": true}                    ).then(function(){\n",
       "                            \n",
       "var gd = document.getElementById('ea293174-2e07-4fe7-9a8b-5d27333ff7a2');\n",
       "var x = new MutationObserver(function (mutations, observer) {{\n",
       "        var display = window.getComputedStyle(gd).display;\n",
       "        if (!display || display === 'none') {{\n",
       "            console.log([gd, 'removed!']);\n",
       "            Plotly.purge(gd);\n",
       "            observer.disconnect();\n",
       "        }}\n",
       "}});\n",
       "\n",
       "// Listen for the removal of the full notebook cells\n",
       "var notebookContainer = gd.closest('#notebook-container');\n",
       "if (notebookContainer) {{\n",
       "    x.observe(notebookContainer, {childList: true});\n",
       "}}\n",
       "\n",
       "// Listen for the clearing of the current output cell\n",
       "var outputEl = gd.closest('.output');\n",
       "if (outputEl) {{\n",
       "    x.observe(outputEl, {childList: true});\n",
       "}}\n",
       "\n",
       "                        })                };                });            </script>        </div>"
      ]
     },
     "metadata": {},
     "output_type": "display_data"
    }
   ],
   "source": [
    "#map of wbi_income_group desplaying rows in colours\n",
    "import plotly.express as px\n",
    "fig = px.choropleth(df,\n",
    "                    locations='iso3',\n",
    "                    color='wbi_income_group',\n",
    "                    hover_name='iso3',\n",
    "                    color_continuous_scale=px.colors.sequential.Plasma)\n",
    "fig.show()"
   ]
  },
  {
   "cell_type": "code",
   "execution_count": null,
   "id": "902d600c",
   "metadata": {},
   "outputs": [],
   "source": [
    "#confidence intervals\n",
    "import numpy as np\n",
    "from sklearn import metrics\n",
    "import seaborn as sns\n",
    "import pandas as pd\n",
    "\n",
    "df_visualization = pd.DataFrame(chosen_metric_for_chosen_groups, columns=('model', column_defining_groups, chosen_metric))\n",
    "\n",
    "def calculate_confidence_interval(data):\n",
    "    lower_bound = np.quantile(data, 0.025)\n",
    "    upper_bound = np.quantile(data, 0.975)\n",
    "    return lower_bound, upper_bound\n",
    "conf_intervals = df_visualization.groupby(column_defining_groups)[chosen_metric].apply(calculate_confidence_interval)\n",
    "conf_intervals"
   ]
  },
  {
   "cell_type": "markdown",
   "id": "d2d012e5",
   "metadata": {},
   "source": [
    "## Confidance interval of low income\n",
    " ***(0.2620689655172414, 0.5405172413793103)***\n",
    "\n",
    "Roughly: ***(0.26, 0.54)***"
   ]
  },
  {
   "cell_type": "markdown",
   "id": "25d8f154",
   "metadata": {},
   "source": [
    "# ***HYPOTHESIS TEST*** $2$\n",
    "The hypothesis assumes each model's (transformer, ffnn, and xgboost) error score of low income in countries is the same.\n",
    "\n",
    "***Introducing valuables:***\n",
    "\n",
    "- Let t be 'wrongly predicted escalation' under **transformer** model for fsi category 'Low income'\n",
    "- Let f be 'wrongly predicted escalation' under **ffnn** model for fsi category 'Low income' \n",
    "- Let x be 'wrongly predicted escalation' under **xgboost** model for fsi category 'Low income'\n",
    "- Let c be 'wrongly predicted escalation ' under **all three models** for fsi category 'Low income'\n",
    "\n",
    "# $H_0: p_c = p_t + p_f + p_x = 0.5$\n",
    "\n",
    "# Alternative Hypothesis\n",
    "the alternative hypothesis assumes that at least on the the models has a different score\n",
    "\n",
    "# $H_A: H_1: H_0 {is false}$"
   ]
  },
  {
   "cell_type": "code",
   "execution_count": 37,
   "id": "1e5f866c",
   "metadata": {},
   "outputs": [
    {
     "data": {
      "text/plain": [
       "['iso3',\n",
       " 'hdr_hdicode',\n",
       " 'hdr_region',\n",
       " 'wbi_income_group',\n",
       " 'wbi_lending_category',\n",
       " 'wbi_other_(emu_or_hipc)',\n",
       " 'fsi_rank',\n",
       " 'fsi_category']"
      ]
     },
     "execution_count": 37,
     "metadata": {},
     "output_type": "execute_result"
    }
   ],
   "source": [
    "#this code finds all the catagories of the df that have dtype 'object'\n",
    "list(df_indicators.select_dtypes(['object']).columns)"
   ]
  },
  {
   "cell_type": "code",
   "execution_count": 38,
   "id": "6c228b8c",
   "metadata": {},
   "outputs": [
    {
     "data": {
      "text/plain": [
       "High income            73\n",
       "Upper middle income    53\n",
       "Lower middle income    47\n",
       "Low income             24\n",
       "Name: wbi_income_group, dtype: int64"
      ]
     },
     "execution_count": 38,
     "metadata": {},
     "output_type": "execute_result"
    }
   ],
   "source": [
    "#this code counts the number of rows that have data for low income\n",
    "df_indicators.wbi_income_group.value_counts()"
   ]
  },
  {
   "cell_type": "code",
   "execution_count": 41,
   "id": "5d3facbc",
   "metadata": {},
   "outputs": [
    {
     "data": {
      "text/html": [
       "<div>\n",
       "<style scoped>\n",
       "    .dataframe tbody tr th:only-of-type {\n",
       "        vertical-align: middle;\n",
       "    }\n",
       "\n",
       "    .dataframe tbody tr th {\n",
       "        vertical-align: top;\n",
       "    }\n",
       "\n",
       "    .dataframe thead th {\n",
       "        text-align: right;\n",
       "    }\n",
       "</style>\n",
       "<table border=\"1\" class=\"dataframe\">\n",
       "  <thead>\n",
       "    <tr style=\"text-align: right;\">\n",
       "      <th></th>\n",
       "      <th>y_true_transformer</th>\n",
       "      <th>y_pred_transformer</th>\n",
       "      <th>transformer_classifcation_performance_outcome</th>\n",
       "    </tr>\n",
       "  </thead>\n",
       "  <tbody>\n",
       "    <tr>\n",
       "      <th>0</th>\n",
       "      <td>False</td>\n",
       "      <td>False</td>\n",
       "      <td>0.5</td>\n",
       "    </tr>\n",
       "    <tr>\n",
       "      <th>1</th>\n",
       "      <td>False</td>\n",
       "      <td>False</td>\n",
       "      <td>0.5</td>\n",
       "    </tr>\n",
       "    <tr>\n",
       "      <th>2</th>\n",
       "      <td>False</td>\n",
       "      <td>False</td>\n",
       "      <td>0.5</td>\n",
       "    </tr>\n",
       "    <tr>\n",
       "      <th>3</th>\n",
       "      <td>False</td>\n",
       "      <td>False</td>\n",
       "      <td>0.5</td>\n",
       "    </tr>\n",
       "    <tr>\n",
       "      <th>4</th>\n",
       "      <td>True</td>\n",
       "      <td>True</td>\n",
       "      <td>0.5</td>\n",
       "    </tr>\n",
       "    <tr>\n",
       "      <th>...</th>\n",
       "      <td>...</td>\n",
       "      <td>...</td>\n",
       "      <td>...</td>\n",
       "    </tr>\n",
       "    <tr>\n",
       "      <th>359</th>\n",
       "      <td>False</td>\n",
       "      <td>False</td>\n",
       "      <td>0.5</td>\n",
       "    </tr>\n",
       "    <tr>\n",
       "      <th>360</th>\n",
       "      <td>False</td>\n",
       "      <td>False</td>\n",
       "      <td>0.5</td>\n",
       "    </tr>\n",
       "    <tr>\n",
       "      <th>361</th>\n",
       "      <td>False</td>\n",
       "      <td>True</td>\n",
       "      <td>wrongly predicted escalation</td>\n",
       "    </tr>\n",
       "    <tr>\n",
       "      <th>362</th>\n",
       "      <td>False</td>\n",
       "      <td>True</td>\n",
       "      <td>wrongly predicted escalation</td>\n",
       "    </tr>\n",
       "    <tr>\n",
       "      <th>363</th>\n",
       "      <td>True</td>\n",
       "      <td>True</td>\n",
       "      <td>0.5</td>\n",
       "    </tr>\n",
       "  </tbody>\n",
       "</table>\n",
       "<p>364 rows × 3 columns</p>\n",
       "</div>"
      ],
      "text/plain": [
       "     y_true_transformer  y_pred_transformer  \\\n",
       "0                 False               False   \n",
       "1                 False               False   \n",
       "2                 False               False   \n",
       "3                 False               False   \n",
       "4                  True                True   \n",
       "..                  ...                 ...   \n",
       "359               False               False   \n",
       "360               False               False   \n",
       "361               False                True   \n",
       "362               False                True   \n",
       "363                True                True   \n",
       "\n",
       "    transformer_classifcation_performance_outcome  \n",
       "0                                             0.5  \n",
       "1                                             0.5  \n",
       "2                                             0.5  \n",
       "3                                             0.5  \n",
       "4                                             0.5  \n",
       "..                                            ...  \n",
       "359                                           0.5  \n",
       "360                                           0.5  \n",
       "361                  wrongly predicted escalation  \n",
       "362                  wrongly predicted escalation  \n",
       "363                                           0.5  \n",
       "\n",
       "[364 rows x 3 columns]"
      ]
     },
     "execution_count": 41,
     "metadata": {},
     "output_type": "execute_result"
    }
   ],
   "source": [
    "# Prediction Classification 'falsly predicted'(transformer model)\n",
    "\n",
    "threshold = 0.5 # using default classification threshold\n",
    "\n",
    "\n",
    "df_preds['transformer_classifcation_performance_outcome'] = 0.5\n",
    "\n",
    "tmpt = df_preds['transformer_classifcation_performance_outcome'].copy()\n",
    "\n",
    "FP_pos_pred_wrong = (~df_preds.y_true_transformer) & (df_preds.y_pred_proba_transformer>threshold)\n",
    "tmpt[FP_pos_pred_wrong] = \"wrongly predicted escalation\"\n",
    "FN_neg_pred_wrong = df_preds.y_true_transformer & (df_preds.y_pred_proba_transformer<=threshold)\n",
    "tmpt[FN_neg_pred_wrong] = \"wrongly predicted no escalation\"\n",
    "\n",
    "df_preds['transformer_classifcation_performance_outcome'] = tmpt\n",
    "df_preds[['y_true_transformer','y_pred_transformer','transformer_classifcation_performance_outcome']]"
   ]
  },
  {
   "cell_type": "code",
   "execution_count": 42,
   "id": "21b048ad",
   "metadata": {},
   "outputs": [
    {
     "data": {
      "text/plain": [
       "wbi_income_group     transformer_classifcation_performance_outcome\n",
       "High income          wrongly predicted escalation                     0.041209\n",
       "Low income           wrongly predicted escalation                     0.063187\n",
       "Lower middle income  wrongly predicted escalation                     0.107143\n",
       "Upper middle income  wrongly predicted escalation                     0.109890\n",
       "Name: transformer_classifcation_performance_outcome, dtype: float64"
      ]
     },
     "execution_count": 42,
     "metadata": {},
     "output_type": "execute_result"
    }
   ],
   "source": [
    "#wrongly predicted positives (false positives)\n",
    "wrong_predictions_t = (tmpt[FP_pos_pred_wrong].groupby(df.wbi_income_group))\n",
    "wrong_predictions_t.value_counts()/364"
   ]
  },
  {
   "cell_type": "code",
   "execution_count": 43,
   "id": "27b785e1",
   "metadata": {},
   "outputs": [
    {
     "data": {
      "text/plain": [
       "wbi_income_group     transformer_classifcation_performance_outcome\n",
       "High income          wrongly predicted no escalation                  0.013736\n",
       "Low income           wrongly predicted no escalation                  0.008242\n",
       "Lower middle income  wrongly predicted no escalation                  0.016484\n",
       "Upper middle income  wrongly predicted no escalation                  0.021978\n",
       "Name: transformer_classifcation_performance_outcome, dtype: float64"
      ]
     },
     "execution_count": 43,
     "metadata": {},
     "output_type": "execute_result"
    }
   ],
   "source": [
    "#wrongly predicted negatives (false negatives)\n",
    "wrong_predictions_t = (tmpt[FN_neg_pred_wrong].groupby(df.wbi_income_group))\n",
    "wrong_predictions_t.value_counts()/364"
   ]
  },
  {
   "cell_type": "markdown",
   "id": "2048ab19",
   "metadata": {},
   "source": [
    " #### Wrongly predicting (false positive and false negative) ###\n",
    " '***low income***' in countries with ***transformer*** model w false positive= ***0.063187*** and false negative is= ***0.008242***\n",
    " \n",
    " $p_t= 0.063187+0.008242$ = ***0.145607*** (observed proportions)"
   ]
  },
  {
   "cell_type": "code",
   "execution_count": 44,
   "id": "086d3329",
   "metadata": {},
   "outputs": [
    {
     "data": {
      "text/html": [
       "<div>\n",
       "<style scoped>\n",
       "    .dataframe tbody tr th:only-of-type {\n",
       "        vertical-align: middle;\n",
       "    }\n",
       "\n",
       "    .dataframe tbody tr th {\n",
       "        vertical-align: top;\n",
       "    }\n",
       "\n",
       "    .dataframe thead th {\n",
       "        text-align: right;\n",
       "    }\n",
       "</style>\n",
       "<table border=\"1\" class=\"dataframe\">\n",
       "  <thead>\n",
       "    <tr style=\"text-align: right;\">\n",
       "      <th></th>\n",
       "      <th>y_true_ffnn</th>\n",
       "      <th>y_pred_proba_ffnn</th>\n",
       "      <th>ffnn_classifcation_performance_outcome</th>\n",
       "    </tr>\n",
       "  </thead>\n",
       "  <tbody>\n",
       "    <tr>\n",
       "      <th>0</th>\n",
       "      <td>False</td>\n",
       "      <td>0.409958</td>\n",
       "      <td>0.5</td>\n",
       "    </tr>\n",
       "    <tr>\n",
       "      <th>1</th>\n",
       "      <td>False</td>\n",
       "      <td>0.406696</td>\n",
       "      <td>0.5</td>\n",
       "    </tr>\n",
       "    <tr>\n",
       "      <th>2</th>\n",
       "      <td>False</td>\n",
       "      <td>0.545236</td>\n",
       "      <td>wrongly predicted escalation</td>\n",
       "    </tr>\n",
       "    <tr>\n",
       "      <th>3</th>\n",
       "      <td>False</td>\n",
       "      <td>0.534560</td>\n",
       "      <td>wrongly predicted escalation</td>\n",
       "    </tr>\n",
       "    <tr>\n",
       "      <th>4</th>\n",
       "      <td>True</td>\n",
       "      <td>0.538583</td>\n",
       "      <td>wrongly predicted no escalation</td>\n",
       "    </tr>\n",
       "    <tr>\n",
       "      <th>...</th>\n",
       "      <td>...</td>\n",
       "      <td>...</td>\n",
       "      <td>...</td>\n",
       "    </tr>\n",
       "    <tr>\n",
       "      <th>359</th>\n",
       "      <td>False</td>\n",
       "      <td>0.291874</td>\n",
       "      <td>0.5</td>\n",
       "    </tr>\n",
       "    <tr>\n",
       "      <th>360</th>\n",
       "      <td>False</td>\n",
       "      <td>0.300321</td>\n",
       "      <td>0.5</td>\n",
       "    </tr>\n",
       "    <tr>\n",
       "      <th>361</th>\n",
       "      <td>False</td>\n",
       "      <td>0.335496</td>\n",
       "      <td>0.5</td>\n",
       "    </tr>\n",
       "    <tr>\n",
       "      <th>362</th>\n",
       "      <td>False</td>\n",
       "      <td>0.324000</td>\n",
       "      <td>0.5</td>\n",
       "    </tr>\n",
       "    <tr>\n",
       "      <th>363</th>\n",
       "      <td>True</td>\n",
       "      <td>0.332455</td>\n",
       "      <td>0.5</td>\n",
       "    </tr>\n",
       "  </tbody>\n",
       "</table>\n",
       "<p>364 rows × 3 columns</p>\n",
       "</div>"
      ],
      "text/plain": [
       "     y_true_ffnn  y_pred_proba_ffnn ffnn_classifcation_performance_outcome\n",
       "0          False           0.409958                                    0.5\n",
       "1          False           0.406696                                    0.5\n",
       "2          False           0.545236           wrongly predicted escalation\n",
       "3          False           0.534560           wrongly predicted escalation\n",
       "4           True           0.538583        wrongly predicted no escalation\n",
       "..           ...                ...                                    ...\n",
       "359        False           0.291874                                    0.5\n",
       "360        False           0.300321                                    0.5\n",
       "361        False           0.335496                                    0.5\n",
       "362        False           0.324000                                    0.5\n",
       "363         True           0.332455                                    0.5\n",
       "\n",
       "[364 rows x 3 columns]"
      ]
     },
     "execution_count": 44,
     "metadata": {},
     "output_type": "execute_result"
    }
   ],
   "source": [
    "# Prediction Classification 'falsly predicted'(ffnn model)\n",
    "\n",
    "threshold = 0.5 \n",
    "df_preds['ffnn_classifcation_performance_outcome'] = 0.5\n",
    "\n",
    "tmp = df_preds['ffnn_classifcation_performance_outcome'].copy()\n",
    "\n",
    "FP_pos_pred_wrong = (~df_preds.y_true_ffnn) & (df_preds.y_pred_proba_ffnn>threshold)\n",
    "tmp[FP_pos_pred_wrong] = \"wrongly predicted escalation\"\n",
    "FN_neg_pred_wrong = df_preds.y_true_ffnn & (df_preds.y_pred_proba_ffnn>threshold)\n",
    "tmp[FN_neg_pred_wrong] = \"wrongly predicted no escalation\"\n",
    "\n",
    "df_preds['ffnn_classifcation_performance_outcome'] = tmp\n",
    "df_preds[['y_true_ffnn','y_pred_proba_ffnn','ffnn_classifcation_performance_outcome']]"
   ]
  },
  {
   "cell_type": "code",
   "execution_count": 45,
   "id": "c56f2fb3",
   "metadata": {},
   "outputs": [
    {
     "data": {
      "text/plain": [
       "wbi_income_group     ffnn_classifcation_performance_outcome\n",
       "Low income           wrongly predicted escalation              0.118132\n",
       "Lower middle income  wrongly predicted escalation              0.065934\n",
       "Name: ffnn_classifcation_performance_outcome, dtype: float64"
      ]
     },
     "execution_count": 45,
     "metadata": {},
     "output_type": "execute_result"
    }
   ],
   "source": [
    "#wrongly predicted positives (false positives)\n",
    "wrong_predictions_f = (tmp[FP_pos_pred_wrong].groupby(df.wbi_income_group))\n",
    "wrong_predictions_f.value_counts()/364"
   ]
  },
  {
   "cell_type": "code",
   "execution_count": 46,
   "id": "f26ee7c4",
   "metadata": {},
   "outputs": [
    {
     "data": {
      "text/plain": [
       "wbi_income_group     ffnn_classifcation_performance_outcome\n",
       "Low income           wrongly predicted no escalation           0.038462\n",
       "Lower middle income  wrongly predicted no escalation           0.024725\n",
       "Name: ffnn_classifcation_performance_outcome, dtype: float64"
      ]
     },
     "execution_count": 46,
     "metadata": {},
     "output_type": "execute_result"
    }
   ],
   "source": [
    "#wrongly predicted negatives (false negatives)\n",
    "wrong_predictions_f = (tmp[FN_neg_pred_wrong].groupby(df.wbi_income_group))\n",
    "wrong_predictions_f.value_counts()/364"
   ]
  },
  {
   "cell_type": "code",
   "execution_count": 47,
   "id": "f72bae7a",
   "metadata": {},
   "outputs": [
    {
     "data": {
      "text/html": [
       "<div>\n",
       "<style scoped>\n",
       "    .dataframe tbody tr th:only-of-type {\n",
       "        vertical-align: middle;\n",
       "    }\n",
       "\n",
       "    .dataframe tbody tr th {\n",
       "        vertical-align: top;\n",
       "    }\n",
       "\n",
       "    .dataframe thead th {\n",
       "        text-align: right;\n",
       "    }\n",
       "</style>\n",
       "<table border=\"1\" class=\"dataframe\">\n",
       "  <thead>\n",
       "    <tr style=\"text-align: right;\">\n",
       "      <th></th>\n",
       "      <th>y_true_xgboost</th>\n",
       "      <th>y_pred_proba_xgboost</th>\n",
       "      <th>xgboost_classifcation_performance_outcome</th>\n",
       "    </tr>\n",
       "  </thead>\n",
       "  <tbody>\n",
       "    <tr>\n",
       "      <th>0</th>\n",
       "      <td>False</td>\n",
       "      <td>0.066500</td>\n",
       "      <td>0.5</td>\n",
       "    </tr>\n",
       "    <tr>\n",
       "      <th>1</th>\n",
       "      <td>False</td>\n",
       "      <td>0.099643</td>\n",
       "      <td>0.5</td>\n",
       "    </tr>\n",
       "    <tr>\n",
       "      <th>2</th>\n",
       "      <td>True</td>\n",
       "      <td>0.704086</td>\n",
       "      <td>wrongly predicted escalation</td>\n",
       "    </tr>\n",
       "    <tr>\n",
       "      <th>3</th>\n",
       "      <td>True</td>\n",
       "      <td>0.638444</td>\n",
       "      <td>wrongly predicted escalation</td>\n",
       "    </tr>\n",
       "    <tr>\n",
       "      <th>4</th>\n",
       "      <td>False</td>\n",
       "      <td>0.608380</td>\n",
       "      <td>wrongly predicted no escalation</td>\n",
       "    </tr>\n",
       "    <tr>\n",
       "      <th>...</th>\n",
       "      <td>...</td>\n",
       "      <td>...</td>\n",
       "      <td>...</td>\n",
       "    </tr>\n",
       "    <tr>\n",
       "      <th>359</th>\n",
       "      <td>False</td>\n",
       "      <td>0.079453</td>\n",
       "      <td>0.5</td>\n",
       "    </tr>\n",
       "    <tr>\n",
       "      <th>360</th>\n",
       "      <td>False</td>\n",
       "      <td>0.060189</td>\n",
       "      <td>0.5</td>\n",
       "    </tr>\n",
       "    <tr>\n",
       "      <th>361</th>\n",
       "      <td>True</td>\n",
       "      <td>0.697625</td>\n",
       "      <td>0.5</td>\n",
       "    </tr>\n",
       "    <tr>\n",
       "      <th>362</th>\n",
       "      <td>False</td>\n",
       "      <td>0.729246</td>\n",
       "      <td>0.5</td>\n",
       "    </tr>\n",
       "    <tr>\n",
       "      <th>363</th>\n",
       "      <td>False</td>\n",
       "      <td>0.591722</td>\n",
       "      <td>0.5</td>\n",
       "    </tr>\n",
       "  </tbody>\n",
       "</table>\n",
       "<p>364 rows × 3 columns</p>\n",
       "</div>"
      ],
      "text/plain": [
       "     y_true_xgboost  y_pred_proba_xgboost  \\\n",
       "0             False              0.066500   \n",
       "1             False              0.099643   \n",
       "2              True              0.704086   \n",
       "3              True              0.638444   \n",
       "4             False              0.608380   \n",
       "..              ...                   ...   \n",
       "359           False              0.079453   \n",
       "360           False              0.060189   \n",
       "361            True              0.697625   \n",
       "362           False              0.729246   \n",
       "363           False              0.591722   \n",
       "\n",
       "    xgboost_classifcation_performance_outcome  \n",
       "0                                         0.5  \n",
       "1                                         0.5  \n",
       "2                wrongly predicted escalation  \n",
       "3                wrongly predicted escalation  \n",
       "4             wrongly predicted no escalation  \n",
       "..                                        ...  \n",
       "359                                       0.5  \n",
       "360                                       0.5  \n",
       "361                                       0.5  \n",
       "362                                       0.5  \n",
       "363                                       0.5  \n",
       "\n",
       "[364 rows x 3 columns]"
      ]
     },
     "execution_count": 47,
     "metadata": {},
     "output_type": "execute_result"
    }
   ],
   "source": [
    "# Prediction Classification 'falsly predicted'(xgboost model)\n",
    "\n",
    "threshold = 0.5 # using default classification threshold\n",
    "\n",
    "# using transformer for this example demonstration, as opposed to\n",
    "# df_preds.y_true_ffnn and df_preds.y_pred_proba_ffnn>threshold\n",
    "# df_preds.y_true_xgboost and df_preds.y_pred_proba_xgboost>threshold\n",
    "df_preds['xgboost_classifcation_performance_outcome'] = 0.5\n",
    "\n",
    "tmpr = df_preds['xgboost_classifcation_performance_outcome'].copy()\n",
    "\n",
    "FP_pos_pred_wrong = (~df_preds.y_true_xgboost) & (df_preds.y_pred_proba_xgboost>threshold)\n",
    "tmpr[FP_pos_pred_wrong] = \"wrongly predicted escalation\"\n",
    "FN_neg_pred_wrong = df_preds.y_true_xgboost & (df_preds.y_pred_proba_xgboost<=threshold)\n",
    "tmpr[FN_neg_pred_wrong] = \"wrongly predicted no escalation\"\n",
    "\n",
    "df_preds['xgboost_classifcation_performance_outcome'] = tmp\n",
    "df_preds[['y_true_xgboost','y_pred_proba_xgboost','xgboost_classifcation_performance_outcome']]"
   ]
  },
  {
   "cell_type": "markdown",
   "id": "1926dbf3",
   "metadata": {},
   "source": [
    " #### Wrongly predicting (false positive and false negative) ###\n",
    " '***low income***' in countries with ***ffnn*** model with false positive= ***0.118132*** and false negative is= ***0.038462***\n",
    " \n",
    " $p_f= 0.118132+0.038462$ = ***0.156594*** (observed proportions)"
   ]
  },
  {
   "cell_type": "code",
   "execution_count": 48,
   "id": "ef7c8c06",
   "metadata": {},
   "outputs": [
    {
     "data": {
      "text/html": [
       "<div>\n",
       "<style scoped>\n",
       "    .dataframe tbody tr th:only-of-type {\n",
       "        vertical-align: middle;\n",
       "    }\n",
       "\n",
       "    .dataframe tbody tr th {\n",
       "        vertical-align: top;\n",
       "    }\n",
       "\n",
       "    .dataframe thead th {\n",
       "        text-align: right;\n",
       "    }\n",
       "</style>\n",
       "<table border=\"1\" class=\"dataframe\">\n",
       "  <thead>\n",
       "    <tr style=\"text-align: right;\">\n",
       "      <th></th>\n",
       "      <th>y_true_xgboost</th>\n",
       "      <th>y_pred_proba_xgboost</th>\n",
       "      <th>xgboost_classifcation_performance_outcome</th>\n",
       "    </tr>\n",
       "  </thead>\n",
       "  <tbody>\n",
       "    <tr>\n",
       "      <th>0</th>\n",
       "      <td>False</td>\n",
       "      <td>0.066500</td>\n",
       "      <td>0.5</td>\n",
       "    </tr>\n",
       "    <tr>\n",
       "      <th>1</th>\n",
       "      <td>False</td>\n",
       "      <td>0.099643</td>\n",
       "      <td>0.5</td>\n",
       "    </tr>\n",
       "    <tr>\n",
       "      <th>2</th>\n",
       "      <td>True</td>\n",
       "      <td>0.704086</td>\n",
       "      <td>wrongly predicted escalation</td>\n",
       "    </tr>\n",
       "    <tr>\n",
       "      <th>3</th>\n",
       "      <td>True</td>\n",
       "      <td>0.638444</td>\n",
       "      <td>wrongly predicted escalation</td>\n",
       "    </tr>\n",
       "    <tr>\n",
       "      <th>4</th>\n",
       "      <td>False</td>\n",
       "      <td>0.608380</td>\n",
       "      <td>wrongly predicted no escalation</td>\n",
       "    </tr>\n",
       "    <tr>\n",
       "      <th>...</th>\n",
       "      <td>...</td>\n",
       "      <td>...</td>\n",
       "      <td>...</td>\n",
       "    </tr>\n",
       "    <tr>\n",
       "      <th>359</th>\n",
       "      <td>False</td>\n",
       "      <td>0.079453</td>\n",
       "      <td>0.5</td>\n",
       "    </tr>\n",
       "    <tr>\n",
       "      <th>360</th>\n",
       "      <td>False</td>\n",
       "      <td>0.060189</td>\n",
       "      <td>0.5</td>\n",
       "    </tr>\n",
       "    <tr>\n",
       "      <th>361</th>\n",
       "      <td>True</td>\n",
       "      <td>0.697625</td>\n",
       "      <td>0.5</td>\n",
       "    </tr>\n",
       "    <tr>\n",
       "      <th>362</th>\n",
       "      <td>False</td>\n",
       "      <td>0.729246</td>\n",
       "      <td>0.5</td>\n",
       "    </tr>\n",
       "    <tr>\n",
       "      <th>363</th>\n",
       "      <td>False</td>\n",
       "      <td>0.591722</td>\n",
       "      <td>0.5</td>\n",
       "    </tr>\n",
       "  </tbody>\n",
       "</table>\n",
       "<p>364 rows × 3 columns</p>\n",
       "</div>"
      ],
      "text/plain": [
       "     y_true_xgboost  y_pred_proba_xgboost  \\\n",
       "0             False              0.066500   \n",
       "1             False              0.099643   \n",
       "2              True              0.704086   \n",
       "3              True              0.638444   \n",
       "4             False              0.608380   \n",
       "..              ...                   ...   \n",
       "359           False              0.079453   \n",
       "360           False              0.060189   \n",
       "361            True              0.697625   \n",
       "362           False              0.729246   \n",
       "363           False              0.591722   \n",
       "\n",
       "    xgboost_classifcation_performance_outcome  \n",
       "0                                         0.5  \n",
       "1                                         0.5  \n",
       "2                wrongly predicted escalation  \n",
       "3                wrongly predicted escalation  \n",
       "4             wrongly predicted no escalation  \n",
       "..                                        ...  \n",
       "359                                       0.5  \n",
       "360                                       0.5  \n",
       "361                                       0.5  \n",
       "362                                       0.5  \n",
       "363                                       0.5  \n",
       "\n",
       "[364 rows x 3 columns]"
      ]
     },
     "execution_count": 48,
     "metadata": {},
     "output_type": "execute_result"
    }
   ],
   "source": [
    "# Prediction Classification \"Correctness\" (xgboost model)\n",
    "\n",
    "threshold = 0.5 # using default classification threshold\n",
    "\n",
    "# using transformer for this example demonstration, as opposed to\n",
    "# df_preds.y_true_ffnn and df_preds.y_pred_proba_ffnn>threshold\n",
    "# df_preds.y_true_xgboost and df_preds.y_pred_proba_xgboost>threshold\n",
    "df_preds['xgboost_classifcation_performance_outcome'] = 0.5\n",
    "\n",
    "tmpr = df_preds['xgboost_classifcation_performance_outcome'].copy()\n",
    "\n",
    "FP_pos_pred_wrong = (~df_preds.y_true_xgboost) & (df_preds.y_pred_proba_xgboost>threshold)\n",
    "tmpr[FP_pos_pred_wrong] = \"wrongly predicted escalation\"\n",
    "FN_neg_pred_wrong = df_preds.y_true_xgboost & (df_preds.y_pred_proba_xgboost<=threshold)\n",
    "tmpr[FN_neg_pred_wrong] = \"wrongly predicted no escalation\"\n",
    "\n",
    "df_preds['xgboost_classifcation_performance_outcome'] = tmp\n",
    "df_preds[['y_true_xgboost','y_pred_proba_xgboost','xgboost_classifcation_performance_outcome']]"
   ]
  },
  {
   "cell_type": "code",
   "execution_count": 49,
   "id": "f7526a76",
   "metadata": {},
   "outputs": [
    {
     "data": {
      "text/plain": [
       "wbi_income_group     xgboost_classifcation_performance_outcome\n",
       "High income          wrongly predicted escalation                 0.041209\n",
       "Low income           wrongly predicted escalation                 0.107143\n",
       "Lower middle income  wrongly predicted escalation                 0.156593\n",
       "Upper middle income  wrongly predicted escalation                 0.145604\n",
       "Name: xgboost_classifcation_performance_outcome, dtype: float64"
      ]
     },
     "execution_count": 49,
     "metadata": {},
     "output_type": "execute_result"
    }
   ],
   "source": [
    "#wrongly predicted positives (false positives)\n",
    "wrong_predictions_f = (tmpr[FP_pos_pred_wrong].groupby(df.wbi_income_group))\n",
    "wrong_predictions_f.value_counts()/364"
   ]
  },
  {
   "cell_type": "code",
   "execution_count": 50,
   "id": "e80b3d4f",
   "metadata": {},
   "outputs": [
    {
     "data": {
      "text/plain": [
       "wbi_income_group     xgboost_classifcation_performance_outcome\n",
       "High income          wrongly predicted no escalation              0.013736\n",
       "Lower middle income  wrongly predicted no escalation              0.005495\n",
       "Upper middle income  wrongly predicted no escalation              0.021978\n",
       "Name: xgboost_classifcation_performance_outcome, dtype: float64"
      ]
     },
     "execution_count": 50,
     "metadata": {},
     "output_type": "execute_result"
    }
   ],
   "source": [
    "#wrongly predicted negatives (false negatives)\n",
    "wrong_predictions_f = (tmpr[FN_neg_pred_wrong].groupby(df.wbi_income_group))\n",
    "wrong_predictions_f.value_counts()/364"
   ]
  },
  {
   "cell_type": "markdown",
   "id": "20396f69",
   "metadata": {},
   "source": [
    " #### Wrongly predicting (false positive and false negative) ###\n",
    " '***low income***' in countries with ***ffnn*** model with false positive= ***0.107143*** and false negative is= ***0***\n",
    " \n",
    " $p_x = 0.107143+0$ = ***0.107143*** (observed proportions)"
   ]
  },
  {
   "cell_type": "markdown",
   "id": "7e7aa8bd",
   "metadata": {},
   "source": [
    "## Total  of observed test statistic:\n",
    "\n",
    "$p_c$ (observed) = $p_x$ (observed) + $p_f$ (observed) + $p_t$ (observed)\n",
    "\n",
    "$p_c$ (observed) = 0.145607 + 0.156594 + 0.107143\n",
    "\n",
    "$p_c$ (observed) = ***0.409344***"
   ]
  },
  {
   "cell_type": "markdown",
   "id": "ad507bdc",
   "metadata": {},
   "source": [
    "# Hypothesis test\n"
   ]
  },
  {
   "cell_type": "code",
   "execution_count": 51,
   "id": "86e8f5ba",
   "metadata": {},
   "outputs": [
    {
     "data": {
      "text/plain": [
       "0.3139"
      ]
     },
     "execution_count": 51,
     "metadata": {},
     "output_type": "execute_result"
    }
   ],
   "source": [
    "simulated_samples, n = 10000, 35 #n=35 since there are 35 countries with the sustainable fsi_category (as seen in ln6)\n",
    "p_hats = [] \n",
    "p = 0.5 # Null Hypothesis assumed proportion\n",
    "np.random.seed(100) \n",
    "for i in range(simulated_samples): \n",
    "    sample = np.random.choice(['True Positive and True Negative', 'False Positive and False Negative'], size=n, replace=True, p=[p, 1-p])\n",
    "    sample_prop = (sample == 'False Positive and False Negative').sum() / n\n",
    "    p_hats.append(sample_prop)\n",
    "\n",
    "observed_test_stat = 0.409344\n",
    "p = 0.5\n",
    "num_more_extreme = (abs(np.array(p_hats) - p) >= abs(observed_test_stat - p)).sum()\n",
    "p_value = num_more_extreme / simulated_samples\n",
    "p_value"
   ]
  },
  {
   "cell_type": "markdown",
   "id": "909978c2",
   "metadata": {},
   "source": [
    "The hypothesis test concludes there is ***no evidance against*** the null hypothesis because the ***p-value*** is ***0.3139*** > 0.10. Concluding that there was no evidance to contridict the assumption that the models produce the same error results of 0.5."
   ]
  },
  {
   "cell_type": "markdown",
   "id": "26b6155c",
   "metadata": {},
   "source": [
    "# This Concludes Hypothesis Test $2$."
   ]
  }
 ],
 "metadata": {
  "kernelspec": {
   "display_name": "Python 3 (ipykernel)",
   "language": "python",
   "name": "python3"
  },
  "language_info": {
   "codemirror_mode": {
    "name": "ipython",
    "version": 3
   },
   "file_extension": ".py",
   "mimetype": "text/x-python",
   "name": "python",
   "nbconvert_exporter": "python",
   "pygments_lexer": "ipython3",
   "version": "3.11.6"
  }
 },
 "nbformat": 4,
 "nbformat_minor": 5
}
